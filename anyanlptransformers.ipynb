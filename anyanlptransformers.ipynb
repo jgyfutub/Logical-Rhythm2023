{
 "cells": [
  {
   "cell_type": "markdown",
   "id": "31585ded",
   "metadata": {
    "papermill": {
     "duration": 0.010808,
     "end_time": "2023-11-21T16:19:41.666738",
     "exception": false,
     "start_time": "2023-11-21T16:19:41.655930",
     "status": "completed"
    },
    "tags": []
   },
   "source": [
    "# ****Importing Models****"
   ]
  },
  {
   "cell_type": "code",
   "execution_count": 1,
   "id": "57af7dde",
   "metadata": {
    "execution": {
     "iopub.execute_input": "2023-11-21T16:19:41.691139Z",
     "iopub.status.busy": "2023-11-21T16:19:41.690307Z",
     "iopub.status.idle": "2023-11-21T16:19:54.946794Z",
     "shell.execute_reply": "2023-11-21T16:19:54.945466Z"
    },
    "papermill": {
     "duration": 13.272903,
     "end_time": "2023-11-21T16:19:54.949987",
     "exception": false,
     "start_time": "2023-11-21T16:19:41.677084",
     "status": "completed"
    },
    "tags": []
   },
   "outputs": [
    {
     "name": "stdout",
     "output_type": "stream",
     "text": [
      "Collecting vaderSentiment\r\n",
      "  Downloading vaderSentiment-3.3.2-py2.py3-none-any.whl (125 kB)\r\n",
      "\u001b[2K     \u001b[90m━━━━━━━━━━━━━━━━━━━━━━━━━━━━━━━━━━━━━━━\u001b[0m \u001b[32m126.0/126.0 kB\u001b[0m \u001b[31m3.2 MB/s\u001b[0m eta \u001b[36m0:00:00\u001b[0m\r\n",
      "\u001b[?25hRequirement already satisfied: requests in /opt/conda/lib/python3.10/site-packages (from vaderSentiment) (2.31.0)\r\n",
      "Requirement already satisfied: charset-normalizer<4,>=2 in /opt/conda/lib/python3.10/site-packages (from requests->vaderSentiment) (3.1.0)\r\n",
      "Requirement already satisfied: idna<4,>=2.5 in /opt/conda/lib/python3.10/site-packages (from requests->vaderSentiment) (3.4)\r\n",
      "Requirement already satisfied: urllib3<3,>=1.21.1 in /opt/conda/lib/python3.10/site-packages (from requests->vaderSentiment) (1.26.15)\r\n",
      "Requirement already satisfied: certifi>=2017.4.17 in /opt/conda/lib/python3.10/site-packages (from requests->vaderSentiment) (2023.7.22)\r\n",
      "Installing collected packages: vaderSentiment\r\n",
      "Successfully installed vaderSentiment-3.3.2\r\n"
     ]
    }
   ],
   "source": [
    "!pip install vaderSentiment"
   ]
  },
  {
   "cell_type": "code",
   "execution_count": 2,
   "id": "d6716d92",
   "metadata": {
    "_cell_guid": "b1076dfc-b9ad-4769-8c92-a6c4dae69d19",
    "_uuid": "8f2839f25d086af736a60e9eeb907d3b93b6e0e5",
    "execution": {
     "iopub.execute_input": "2023-11-21T16:19:54.977875Z",
     "iopub.status.busy": "2023-11-21T16:19:54.976781Z",
     "iopub.status.idle": "2023-11-21T16:20:07.088024Z",
     "shell.execute_reply": "2023-11-21T16:20:07.087181Z"
    },
    "papermill": {
     "duration": 12.1283,
     "end_time": "2023-11-21T16:20:07.090612",
     "exception": false,
     "start_time": "2023-11-21T16:19:54.962312",
     "status": "completed"
    },
    "tags": []
   },
   "outputs": [
    {
     "name": "stderr",
     "output_type": "stream",
     "text": [
      "/opt/conda/lib/python3.10/site-packages/scipy/__init__.py:146: UserWarning: A NumPy version >=1.16.5 and <1.23.0 is required for this version of SciPy (detected version 1.23.5\n",
      "  warnings.warn(f\"A NumPy version >={np_minversion} and <{np_maxversion}\"\n"
     ]
    }
   ],
   "source": [
    "import pandas as pd\n",
    "import numpy as np\n",
    "from tensorflow.keras.preprocessing.text import Tokenizer\n",
    "from transformers import AutoTokenizer,AutoModelForSequenceClassification\n",
    "from tensorflow.keras.layers import Dense,Input,GlobalMaxPooling1D,LSTM,Embedding,Conv1D,Flatten\n",
    "from tensorflow.keras.models import Model\n",
    "from tensorflow.keras.preprocessing.sequence import pad_sequences\n",
    "from sklearn.tree import DecisionTreeClassifier\n",
    "import matplotlib.pyplot as plt\n",
    "from sklearn.metrics import confusion_matrix \n",
    "from sklearn.metrics import f1_score\n",
    "from sklearn.preprocessing import OneHotEncoder\n",
    "from sklearn.model_selection import train_test_split\n",
    "from sklearn.preprocessing import OrdinalEncoder\n",
    "from sklearn.ensemble import RandomForestClassifier\n",
    "from sklearn.preprocessing import StandardScaler\n",
    "from catboost import CatBoostClassifier\n",
    "import seaborn as sns\n",
    "from scipy.special import softmax\n",
    "from sklearn import preprocessing\n",
    "from vaderSentiment.vaderSentiment import SentimentIntensityAnalyzer"
   ]
  },
  {
   "cell_type": "markdown",
   "id": "c2dc9c8b",
   "metadata": {
    "papermill": {
     "duration": 0.010739,
     "end_time": "2023-11-21T16:20:07.112847",
     "exception": false,
     "start_time": "2023-11-21T16:20:07.102108",
     "status": "completed"
    },
    "tags": []
   },
   "source": [
    "# ****Training data review****"
   ]
  },
  {
   "cell_type": "code",
   "execution_count": 3,
   "id": "c97b171d",
   "metadata": {
    "execution": {
     "iopub.execute_input": "2023-11-21T16:20:07.135606Z",
     "iopub.status.busy": "2023-11-21T16:20:07.134758Z",
     "iopub.status.idle": "2023-11-21T16:20:07.193539Z",
     "shell.execute_reply": "2023-11-21T16:20:07.192624Z"
    },
    "papermill": {
     "duration": 0.072285,
     "end_time": "2023-11-21T16:20:07.195575",
     "exception": false,
     "start_time": "2023-11-21T16:20:07.123290",
     "status": "completed"
    },
    "tags": []
   },
   "outputs": [
    {
     "data": {
      "text/html": [
       "<div>\n",
       "<style scoped>\n",
       "    .dataframe tbody tr th:only-of-type {\n",
       "        vertical-align: middle;\n",
       "    }\n",
       "\n",
       "    .dataframe tbody tr th {\n",
       "        vertical-align: top;\n",
       "    }\n",
       "\n",
       "    .dataframe thead th {\n",
       "        text-align: right;\n",
       "    }\n",
       "</style>\n",
       "<table border=\"1\" class=\"dataframe\">\n",
       "  <thead>\n",
       "    <tr style=\"text-align: right;\">\n",
       "      <th></th>\n",
       "      <th>date</th>\n",
       "      <th>time</th>\n",
       "      <th>id</th>\n",
       "      <th>reviewer name</th>\n",
       "      <th>reviewer address</th>\n",
       "      <th>contact number</th>\n",
       "      <th>variation</th>\n",
       "      <th>verified_reviews</th>\n",
       "      <th>sentiment</th>\n",
       "      <th>feedback</th>\n",
       "    </tr>\n",
       "  </thead>\n",
       "  <tbody>\n",
       "    <tr>\n",
       "      <th>0</th>\n",
       "      <td>30-Jul-18</td>\n",
       "      <td>02:16:00</td>\n",
       "      <td>5138527</td>\n",
       "      <td>Theresa Diaz</td>\n",
       "      <td>2373 Long Mews\\nSouth Lorraine, FL 83715</td>\n",
       "      <td>7445448464</td>\n",
       "      <td>Black  Plus</td>\n",
       "      <td>Love my new Echo Plus</td>\n",
       "      <td>5</td>\n",
       "      <td>1</td>\n",
       "    </tr>\n",
       "    <tr>\n",
       "      <th>1</th>\n",
       "      <td>30-Jul-18</td>\n",
       "      <td>20:13:24</td>\n",
       "      <td>7881409</td>\n",
       "      <td>Michael Wagner</td>\n",
       "      <td>34120 James Well Apt. 930\\nSouth Kenneth, AK 5...</td>\n",
       "      <td>(202)233-6662</td>\n",
       "      <td>Configuration: Fire TV Stick</td>\n",
       "      <td>Works really well.</td>\n",
       "      <td>5</td>\n",
       "      <td>1</td>\n",
       "    </tr>\n",
       "    <tr>\n",
       "      <th>2</th>\n",
       "      <td>29-Jul-18</td>\n",
       "      <td>03:20:48</td>\n",
       "      <td>5658396</td>\n",
       "      <td>Erin Rodriguez</td>\n",
       "      <td>7996 Booth Mission\\nTaylorport, AL 13457</td>\n",
       "      <td>(219)882-0705</td>\n",
       "      <td>Black  Show</td>\n",
       "      <td>Echo Show is said to work with certain apps bu...</td>\n",
       "      <td>2</td>\n",
       "      <td>0</td>\n",
       "    </tr>\n",
       "    <tr>\n",
       "      <th>3</th>\n",
       "      <td>30-Jul-18</td>\n",
       "      <td>22:48:21</td>\n",
       "      <td>4317957</td>\n",
       "      <td>Christine Perez</td>\n",
       "      <td>USS Schaefer\\nFPO AA 86432</td>\n",
       "      <td>291-900-6087</td>\n",
       "      <td>Heather Gray Fabric</td>\n",
       "      <td>Very cool product. Speaker sounds good with my...</td>\n",
       "      <td>5</td>\n",
       "      <td>1</td>\n",
       "    </tr>\n",
       "    <tr>\n",
       "      <th>4</th>\n",
       "      <td>23-Jul-18</td>\n",
       "      <td>12:36:42</td>\n",
       "      <td>7570569</td>\n",
       "      <td>Jamie Davila</td>\n",
       "      <td>000 Kevin Cliffs Suite 674\\nBrennanview, NM 77690</td>\n",
       "      <td>9527296610</td>\n",
       "      <td>Black  Plus</td>\n",
       "      <td>So far I love it.  It was easy to set up - if ...</td>\n",
       "      <td>5</td>\n",
       "      <td>1</td>\n",
       "    </tr>\n",
       "  </tbody>\n",
       "</table>\n",
       "</div>"
      ],
      "text/plain": [
       "        date      time       id    reviewer name  \\\n",
       "0  30-Jul-18  02:16:00  5138527     Theresa Diaz   \n",
       "1  30-Jul-18  20:13:24  7881409   Michael Wagner   \n",
       "2  29-Jul-18  03:20:48  5658396   Erin Rodriguez   \n",
       "3  30-Jul-18  22:48:21  4317957  Christine Perez   \n",
       "4  23-Jul-18  12:36:42  7570569     Jamie Davila   \n",
       "\n",
       "                                    reviewer address contact number  \\\n",
       "0           2373 Long Mews\\nSouth Lorraine, FL 83715     7445448464   \n",
       "1  34120 James Well Apt. 930\\nSouth Kenneth, AK 5...  (202)233-6662   \n",
       "2           7996 Booth Mission\\nTaylorport, AL 13457  (219)882-0705   \n",
       "3                         USS Schaefer\\nFPO AA 86432   291-900-6087   \n",
       "4  000 Kevin Cliffs Suite 674\\nBrennanview, NM 77690     9527296610   \n",
       "\n",
       "                      variation  \\\n",
       "0                   Black  Plus   \n",
       "1  Configuration: Fire TV Stick   \n",
       "2                   Black  Show   \n",
       "3          Heather Gray Fabric    \n",
       "4                   Black  Plus   \n",
       "\n",
       "                                    verified_reviews  sentiment  feedback  \n",
       "0                              Love my new Echo Plus          5         1  \n",
       "1                                 Works really well.          5         1  \n",
       "2  Echo Show is said to work with certain apps bu...          2         0  \n",
       "3  Very cool product. Speaker sounds good with my...          5         1  \n",
       "4  So far I love it.  It was easy to set up - if ...          5         1  "
      ]
     },
     "execution_count": 3,
     "metadata": {},
     "output_type": "execute_result"
    }
   ],
   "source": [
    "train_data=pd.read_csv('/kaggle/input/anyas-gojo-revival-space-shop/train.tsv', sep='\\t')\n",
    "train_data.head()"
   ]
  },
  {
   "cell_type": "code",
   "execution_count": 4,
   "id": "c978565f",
   "metadata": {
    "execution": {
     "iopub.execute_input": "2023-11-21T16:20:07.219531Z",
     "iopub.status.busy": "2023-11-21T16:20:07.219198Z",
     "iopub.status.idle": "2023-11-21T16:20:07.230348Z",
     "shell.execute_reply": "2023-11-21T16:20:07.229487Z"
    },
    "papermill": {
     "duration": 0.025279,
     "end_time": "2023-11-21T16:20:07.232574",
     "exception": false,
     "start_time": "2023-11-21T16:20:07.207295",
     "status": "completed"
    },
    "tags": []
   },
   "outputs": [
    {
     "data": {
      "text/plain": [
       "date                0\n",
       "time                0\n",
       "id                  0\n",
       "reviewer name       0\n",
       "reviewer address    0\n",
       "contact number      0\n",
       "variation           0\n",
       "verified_reviews    1\n",
       "sentiment           0\n",
       "feedback            0\n",
       "dtype: int64"
      ]
     },
     "execution_count": 4,
     "metadata": {},
     "output_type": "execute_result"
    }
   ],
   "source": [
    "train_data.isnull().sum()"
   ]
  },
  {
   "cell_type": "code",
   "execution_count": 5,
   "id": "0a35aa1e",
   "metadata": {
    "execution": {
     "iopub.execute_input": "2023-11-21T16:20:07.255665Z",
     "iopub.status.busy": "2023-11-21T16:20:07.255396Z",
     "iopub.status.idle": "2023-11-21T16:20:07.260973Z",
     "shell.execute_reply": "2023-11-21T16:20:07.260269Z"
    },
    "papermill": {
     "duration": 0.01944,
     "end_time": "2023-11-21T16:20:07.262997",
     "exception": false,
     "start_time": "2023-11-21T16:20:07.243557",
     "status": "completed"
    },
    "tags": []
   },
   "outputs": [],
   "source": [
    "train_data.fillna({\"verified_reviews\":\"no review\"}, inplace=True)"
   ]
  },
  {
   "cell_type": "markdown",
   "id": "860379bf",
   "metadata": {
    "papermill": {
     "duration": 0.01059,
     "end_time": "2023-11-21T16:20:07.284453",
     "exception": false,
     "start_time": "2023-11-21T16:20:07.273863",
     "status": "completed"
    },
    "tags": []
   },
   "source": [
    "# ****Downloading RoBERTa transformer model****"
   ]
  },
  {
   "cell_type": "code",
   "execution_count": 6,
   "id": "2389098c",
   "metadata": {
    "execution": {
     "iopub.execute_input": "2023-11-21T16:20:07.307260Z",
     "iopub.status.busy": "2023-11-21T16:20:07.306934Z",
     "iopub.status.idle": "2023-11-21T16:20:23.005788Z",
     "shell.execute_reply": "2023-11-21T16:20:23.004837Z"
    },
    "papermill": {
     "duration": 15.712778,
     "end_time": "2023-11-21T16:20:23.008043",
     "exception": false,
     "start_time": "2023-11-21T16:20:07.295265",
     "status": "completed"
    },
    "tags": []
   },
   "outputs": [
    {
     "data": {
      "application/vnd.jupyter.widget-view+json": {
       "model_id": "32cd3a5993574ad5b95eddcee7051c74",
       "version_major": 2,
       "version_minor": 0
      },
      "text/plain": [
       "Downloading config.json:   0%|          | 0.00/841 [00:00<?, ?B/s]"
      ]
     },
     "metadata": {},
     "output_type": "display_data"
    },
    {
     "data": {
      "application/vnd.jupyter.widget-view+json": {
       "model_id": "e7af92be74c14219b276b1d73b0b6cbb",
       "version_major": 2,
       "version_minor": 0
      },
      "text/plain": [
       "Downloading (…)tencepiece.bpe.model:   0%|          | 0.00/5.07M [00:00<?, ?B/s]"
      ]
     },
     "metadata": {},
     "output_type": "display_data"
    },
    {
     "data": {
      "application/vnd.jupyter.widget-view+json": {
       "model_id": "257b304b380a4f62b80b7887d5f4bb4a",
       "version_major": 2,
       "version_minor": 0
      },
      "text/plain": [
       "Downloading (…)cial_tokens_map.json:   0%|          | 0.00/150 [00:00<?, ?B/s]"
      ]
     },
     "metadata": {},
     "output_type": "display_data"
    },
    {
     "data": {
      "application/vnd.jupyter.widget-view+json": {
       "model_id": "7328a5d3886b4897a927f49a56548d1a",
       "version_major": 2,
       "version_minor": 0
      },
      "text/plain": [
       "Downloading pytorch_model.bin:   0%|          | 0.00/1.11G [00:00<?, ?B/s]"
      ]
     },
     "metadata": {},
     "output_type": "display_data"
    }
   ],
   "source": [
    "MODEL = f\"cardiffnlp/twitter-xlm-roberta-base-sentiment\"\n",
    "tokenizer = AutoTokenizer.from_pretrained(MODEL)\n",
    "model = AutoModelForSequenceClassification.from_pretrained(MODEL)"
   ]
  },
  {
   "cell_type": "markdown",
   "id": "52411ea6",
   "metadata": {
    "papermill": {
     "duration": 0.012066,
     "end_time": "2023-11-21T16:20:23.032740",
     "exception": false,
     "start_time": "2023-11-21T16:20:23.020674",
     "status": "completed"
    },
    "tags": []
   },
   "source": [
    "# ****Training Data preprocessing and feature engineering****"
   ]
  },
  {
   "cell_type": "markdown",
   "id": "3e85103d",
   "metadata": {
    "papermill": {
     "duration": 0.012244,
     "end_time": "2023-11-21T16:20:23.057707",
     "exception": false,
     "start_time": "2023-11-21T16:20:23.045463",
     "status": "completed"
    },
    "tags": []
   },
   "source": [
    "**Here we will make new dataframe where columns will be probability of each positive negative and neutral and their combined root mean square also binary representation of each of positive negative and neutral.The \"VADER\" sentiment analyzer will also be used as other feature in the data precprocessing.After that One hot encoded labels will be added for each in \"variation\" column of train data**"
   ]
  },
  {
   "cell_type": "code",
   "execution_count": 7,
   "id": "59cf817b",
   "metadata": {
    "execution": {
     "iopub.execute_input": "2023-11-21T16:20:23.084193Z",
     "iopub.status.busy": "2023-11-21T16:20:23.083817Z",
     "iopub.status.idle": "2023-11-21T16:23:48.396173Z",
     "shell.execute_reply": "2023-11-21T16:23:48.395137Z"
    },
    "papermill": {
     "duration": 205.328486,
     "end_time": "2023-11-21T16:23:48.398783",
     "exception": false,
     "start_time": "2023-11-21T16:20:23.070297",
     "status": "completed"
    },
    "tags": []
   },
   "outputs": [
    {
     "name": "stdout",
     "output_type": "stream",
     "text": [
      "1\n",
      "1\n"
     ]
    }
   ],
   "source": [
    "pov_review=[]\n",
    "neg_review=[]\n",
    "neu_review=[]\n",
    "com_review=[]\n",
    "vader_ratings=[]\n",
    "pov_ratings=[]\n",
    "neu_ratings=[]\n",
    "neg_ratings=[]\n",
    "sid_obj = SentimentIntensityAnalyzer()\n",
    "for i in train_data['verified_reviews']:\n",
    "    try:\n",
    "        encoded_text = tokenizer(i, return_tensors='pt')\n",
    "        output = model(**encoded_text)\n",
    "        scores = output[0][0].detach().numpy()\n",
    "        scores = softmax(scores)\n",
    "        neg_review.append(scores[0])\n",
    "        neu_review.append(scores[1])\n",
    "        pov_review.append(scores[2])\n",
    "        com_review.append((scores[0]**2+scores[1]**2+scores[2]**2)**(0.5))\n",
    "        sentiment_dict = sid_obj.polarity_scores(i)\n",
    "        vader_ratings.append(sentiment_dict['compound'])\n",
    "        if max(scores)==scores[0]:\n",
    "            neg_ratings.append(1.0)\n",
    "            neu_ratings.append(0.0)\n",
    "            pov_ratings.append(0.0)\n",
    "        elif max(scores)==scores[1]:\n",
    "            neg_ratings.append(0.0)\n",
    "            neu_ratings.append(1.0)\n",
    "            pov_ratings.append(0.0)\n",
    "        elif max(scores)==scores[2]:\n",
    "            neg_ratings.append(0.0)\n",
    "            neu_ratings.append(0.0)\n",
    "            pov_ratings.append(1.0)\n",
    "    except RuntimeError:\n",
    "        print(1)\n",
    "        pov_review.append(0.0)\n",
    "        neg_review.append(0.0)\n",
    "        neu_review.append(1.0)\n",
    "        com_review.append(1.0)\n",
    "        vader_ratings.append(1.0)\n",
    "        neg_ratings.append(0.0)\n",
    "        neu_ratings.append(1.0)\n",
    "        pov_ratings.append(.0)"
   ]
  },
  {
   "cell_type": "code",
   "execution_count": 8,
   "id": "c892f6db",
   "metadata": {
    "execution": {
     "iopub.execute_input": "2023-11-21T16:23:48.424677Z",
     "iopub.status.busy": "2023-11-21T16:23:48.424329Z",
     "iopub.status.idle": "2023-11-21T16:23:48.463425Z",
     "shell.execute_reply": "2023-11-21T16:23:48.462562Z"
    },
    "papermill": {
     "duration": 0.053954,
     "end_time": "2023-11-21T16:23:48.465659",
     "exception": false,
     "start_time": "2023-11-21T16:23:48.411705",
     "status": "completed"
    },
    "tags": []
   },
   "outputs": [
    {
     "data": {
      "text/html": [
       "<div>\n",
       "<style scoped>\n",
       "    .dataframe tbody tr th:only-of-type {\n",
       "        vertical-align: middle;\n",
       "    }\n",
       "\n",
       "    .dataframe tbody tr th {\n",
       "        vertical-align: top;\n",
       "    }\n",
       "\n",
       "    .dataframe thead th {\n",
       "        text-align: right;\n",
       "    }\n",
       "</style>\n",
       "<table border=\"1\" class=\"dataframe\">\n",
       "  <thead>\n",
       "    <tr style=\"text-align: right;\">\n",
       "      <th></th>\n",
       "      <th>variation_Black</th>\n",
       "      <th>variation_Black  Dot</th>\n",
       "      <th>variation_Black  Plus</th>\n",
       "      <th>variation_Black  Show</th>\n",
       "      <th>variation_Black  Spot</th>\n",
       "      <th>variation_Charcoal Fabric</th>\n",
       "      <th>variation_Configuration: Fire TV Stick</th>\n",
       "      <th>variation_Heather Gray Fabric</th>\n",
       "      <th>variation_Oak Finish</th>\n",
       "      <th>variation_Sandstone Fabric</th>\n",
       "      <th>variation_Walnut Finish</th>\n",
       "      <th>variation_White</th>\n",
       "      <th>variation_White  Dot</th>\n",
       "      <th>variation_White  Plus</th>\n",
       "      <th>variation_White  Show</th>\n",
       "      <th>variation_White  Spot</th>\n",
       "    </tr>\n",
       "  </thead>\n",
       "  <tbody>\n",
       "    <tr>\n",
       "      <th>0</th>\n",
       "      <td>0.0</td>\n",
       "      <td>0.0</td>\n",
       "      <td>1.0</td>\n",
       "      <td>0.0</td>\n",
       "      <td>0.0</td>\n",
       "      <td>0.0</td>\n",
       "      <td>0.0</td>\n",
       "      <td>0.0</td>\n",
       "      <td>0.0</td>\n",
       "      <td>0.0</td>\n",
       "      <td>0.0</td>\n",
       "      <td>0.0</td>\n",
       "      <td>0.0</td>\n",
       "      <td>0.0</td>\n",
       "      <td>0.0</td>\n",
       "      <td>0.0</td>\n",
       "    </tr>\n",
       "    <tr>\n",
       "      <th>1</th>\n",
       "      <td>0.0</td>\n",
       "      <td>0.0</td>\n",
       "      <td>0.0</td>\n",
       "      <td>0.0</td>\n",
       "      <td>0.0</td>\n",
       "      <td>0.0</td>\n",
       "      <td>1.0</td>\n",
       "      <td>0.0</td>\n",
       "      <td>0.0</td>\n",
       "      <td>0.0</td>\n",
       "      <td>0.0</td>\n",
       "      <td>0.0</td>\n",
       "      <td>0.0</td>\n",
       "      <td>0.0</td>\n",
       "      <td>0.0</td>\n",
       "      <td>0.0</td>\n",
       "    </tr>\n",
       "    <tr>\n",
       "      <th>2</th>\n",
       "      <td>0.0</td>\n",
       "      <td>0.0</td>\n",
       "      <td>0.0</td>\n",
       "      <td>1.0</td>\n",
       "      <td>0.0</td>\n",
       "      <td>0.0</td>\n",
       "      <td>0.0</td>\n",
       "      <td>0.0</td>\n",
       "      <td>0.0</td>\n",
       "      <td>0.0</td>\n",
       "      <td>0.0</td>\n",
       "      <td>0.0</td>\n",
       "      <td>0.0</td>\n",
       "      <td>0.0</td>\n",
       "      <td>0.0</td>\n",
       "      <td>0.0</td>\n",
       "    </tr>\n",
       "    <tr>\n",
       "      <th>3</th>\n",
       "      <td>0.0</td>\n",
       "      <td>0.0</td>\n",
       "      <td>0.0</td>\n",
       "      <td>0.0</td>\n",
       "      <td>0.0</td>\n",
       "      <td>0.0</td>\n",
       "      <td>0.0</td>\n",
       "      <td>1.0</td>\n",
       "      <td>0.0</td>\n",
       "      <td>0.0</td>\n",
       "      <td>0.0</td>\n",
       "      <td>0.0</td>\n",
       "      <td>0.0</td>\n",
       "      <td>0.0</td>\n",
       "      <td>0.0</td>\n",
       "      <td>0.0</td>\n",
       "    </tr>\n",
       "    <tr>\n",
       "      <th>4</th>\n",
       "      <td>0.0</td>\n",
       "      <td>0.0</td>\n",
       "      <td>1.0</td>\n",
       "      <td>0.0</td>\n",
       "      <td>0.0</td>\n",
       "      <td>0.0</td>\n",
       "      <td>0.0</td>\n",
       "      <td>0.0</td>\n",
       "      <td>0.0</td>\n",
       "      <td>0.0</td>\n",
       "      <td>0.0</td>\n",
       "      <td>0.0</td>\n",
       "      <td>0.0</td>\n",
       "      <td>0.0</td>\n",
       "      <td>0.0</td>\n",
       "      <td>0.0</td>\n",
       "    </tr>\n",
       "  </tbody>\n",
       "</table>\n",
       "</div>"
      ],
      "text/plain": [
       "   variation_Black  variation_Black  Dot  variation_Black  Plus  \\\n",
       "0              0.0                   0.0                    1.0   \n",
       "1              0.0                   0.0                    0.0   \n",
       "2              0.0                   0.0                    0.0   \n",
       "3              0.0                   0.0                    0.0   \n",
       "4              0.0                   0.0                    1.0   \n",
       "\n",
       "   variation_Black  Show  variation_Black  Spot  variation_Charcoal Fabric   \\\n",
       "0                    0.0                    0.0                         0.0   \n",
       "1                    0.0                    0.0                         0.0   \n",
       "2                    1.0                    0.0                         0.0   \n",
       "3                    0.0                    0.0                         0.0   \n",
       "4                    0.0                    0.0                         0.0   \n",
       "\n",
       "   variation_Configuration: Fire TV Stick  variation_Heather Gray Fabric   \\\n",
       "0                                     0.0                             0.0   \n",
       "1                                     1.0                             0.0   \n",
       "2                                     0.0                             0.0   \n",
       "3                                     0.0                             1.0   \n",
       "4                                     0.0                             0.0   \n",
       "\n",
       "   variation_Oak Finish   variation_Sandstone Fabric   \\\n",
       "0                    0.0                          0.0   \n",
       "1                    0.0                          0.0   \n",
       "2                    0.0                          0.0   \n",
       "3                    0.0                          0.0   \n",
       "4                    0.0                          0.0   \n",
       "\n",
       "   variation_Walnut Finish   variation_White  variation_White  Dot  \\\n",
       "0                       0.0              0.0                   0.0   \n",
       "1                       0.0              0.0                   0.0   \n",
       "2                       0.0              0.0                   0.0   \n",
       "3                       0.0              0.0                   0.0   \n",
       "4                       0.0              0.0                   0.0   \n",
       "\n",
       "   variation_White  Plus  variation_White  Show  variation_White  Spot  \n",
       "0                    0.0                    0.0                    0.0  \n",
       "1                    0.0                    0.0                    0.0  \n",
       "2                    0.0                    0.0                    0.0  \n",
       "3                    0.0                    0.0                    0.0  \n",
       "4                    0.0                    0.0                    0.0  "
      ]
     },
     "execution_count": 8,
     "metadata": {},
     "output_type": "execute_result"
    }
   ],
   "source": [
    "encoder = OneHotEncoder()\n",
    "one_hot_encoded = encoder.fit_transform(train_data[['variation']])\n",
    "one_hot_df = pd.DataFrame(one_hot_encoded.toarray(), columns=encoder.get_feature_names_out(['variation']))\n",
    "one_hot_df.head()"
   ]
  },
  {
   "cell_type": "code",
   "execution_count": 9,
   "id": "3f4662b9",
   "metadata": {
    "execution": {
     "iopub.execute_input": "2023-11-21T16:23:48.492081Z",
     "iopub.status.busy": "2023-11-21T16:23:48.491785Z",
     "iopub.status.idle": "2023-11-21T16:23:48.531054Z",
     "shell.execute_reply": "2023-11-21T16:23:48.530027Z"
    },
    "papermill": {
     "duration": 0.054352,
     "end_time": "2023-11-21T16:23:48.533075",
     "exception": false,
     "start_time": "2023-11-21T16:23:48.478723",
     "status": "completed"
    },
    "tags": []
   },
   "outputs": [
    {
     "data": {
      "text/html": [
       "<div>\n",
       "<style scoped>\n",
       "    .dataframe tbody tr th:only-of-type {\n",
       "        vertical-align: middle;\n",
       "    }\n",
       "\n",
       "    .dataframe tbody tr th {\n",
       "        vertical-align: top;\n",
       "    }\n",
       "\n",
       "    .dataframe thead th {\n",
       "        text-align: right;\n",
       "    }\n",
       "</style>\n",
       "<table border=\"1\" class=\"dataframe\">\n",
       "  <thead>\n",
       "    <tr style=\"text-align: right;\">\n",
       "      <th></th>\n",
       "      <th>positive</th>\n",
       "      <th>negative</th>\n",
       "      <th>neutral</th>\n",
       "      <th>combined</th>\n",
       "      <th>feedback</th>\n",
       "      <th>isPositive</th>\n",
       "      <th>isNegative</th>\n",
       "      <th>isNeutral</th>\n",
       "      <th>vader</th>\n",
       "      <th>variation_Black</th>\n",
       "      <th>...</th>\n",
       "      <th>variation_Configuration: Fire TV Stick</th>\n",
       "      <th>variation_Heather Gray Fabric</th>\n",
       "      <th>variation_Oak Finish</th>\n",
       "      <th>variation_Sandstone Fabric</th>\n",
       "      <th>variation_Walnut Finish</th>\n",
       "      <th>variation_White</th>\n",
       "      <th>variation_White  Dot</th>\n",
       "      <th>variation_White  Plus</th>\n",
       "      <th>variation_White  Show</th>\n",
       "      <th>variation_White  Spot</th>\n",
       "    </tr>\n",
       "  </thead>\n",
       "  <tbody>\n",
       "    <tr>\n",
       "      <th>0</th>\n",
       "      <td>0.880722</td>\n",
       "      <td>0.016766</td>\n",
       "      <td>0.102511</td>\n",
       "      <td>0.886827</td>\n",
       "      <td>1.0</td>\n",
       "      <td>1.0</td>\n",
       "      <td>0.0</td>\n",
       "      <td>0.0</td>\n",
       "      <td>0.6369</td>\n",
       "      <td>0.0</td>\n",
       "      <td>...</td>\n",
       "      <td>0.0</td>\n",
       "      <td>0.0</td>\n",
       "      <td>0.0</td>\n",
       "      <td>0.0</td>\n",
       "      <td>0.0</td>\n",
       "      <td>0.0</td>\n",
       "      <td>0.0</td>\n",
       "      <td>0.0</td>\n",
       "      <td>0.0</td>\n",
       "      <td>0.0</td>\n",
       "    </tr>\n",
       "    <tr>\n",
       "      <th>1</th>\n",
       "      <td>0.893248</td>\n",
       "      <td>0.027332</td>\n",
       "      <td>0.079420</td>\n",
       "      <td>0.897189</td>\n",
       "      <td>1.0</td>\n",
       "      <td>1.0</td>\n",
       "      <td>0.0</td>\n",
       "      <td>0.0</td>\n",
       "      <td>0.3384</td>\n",
       "      <td>0.0</td>\n",
       "      <td>...</td>\n",
       "      <td>1.0</td>\n",
       "      <td>0.0</td>\n",
       "      <td>0.0</td>\n",
       "      <td>0.0</td>\n",
       "      <td>0.0</td>\n",
       "      <td>0.0</td>\n",
       "      <td>0.0</td>\n",
       "      <td>0.0</td>\n",
       "      <td>0.0</td>\n",
       "      <td>0.0</td>\n",
       "    </tr>\n",
       "    <tr>\n",
       "      <th>2</th>\n",
       "      <td>0.057324</td>\n",
       "      <td>0.784362</td>\n",
       "      <td>0.158314</td>\n",
       "      <td>0.802230</td>\n",
       "      <td>0.0</td>\n",
       "      <td>0.0</td>\n",
       "      <td>1.0</td>\n",
       "      <td>0.0</td>\n",
       "      <td>0.9654</td>\n",
       "      <td>0.0</td>\n",
       "      <td>...</td>\n",
       "      <td>0.0</td>\n",
       "      <td>0.0</td>\n",
       "      <td>0.0</td>\n",
       "      <td>0.0</td>\n",
       "      <td>0.0</td>\n",
       "      <td>0.0</td>\n",
       "      <td>0.0</td>\n",
       "      <td>0.0</td>\n",
       "      <td>0.0</td>\n",
       "      <td>0.0</td>\n",
       "    </tr>\n",
       "    <tr>\n",
       "      <th>3</th>\n",
       "      <td>0.918911</td>\n",
       "      <td>0.009773</td>\n",
       "      <td>0.071316</td>\n",
       "      <td>0.921726</td>\n",
       "      <td>1.0</td>\n",
       "      <td>1.0</td>\n",
       "      <td>0.0</td>\n",
       "      <td>0.0</td>\n",
       "      <td>0.6697</td>\n",
       "      <td>0.0</td>\n",
       "      <td>...</td>\n",
       "      <td>0.0</td>\n",
       "      <td>1.0</td>\n",
       "      <td>0.0</td>\n",
       "      <td>0.0</td>\n",
       "      <td>0.0</td>\n",
       "      <td>0.0</td>\n",
       "      <td>0.0</td>\n",
       "      <td>0.0</td>\n",
       "      <td>0.0</td>\n",
       "      <td>0.0</td>\n",
       "    </tr>\n",
       "    <tr>\n",
       "      <th>4</th>\n",
       "      <td>0.917090</td>\n",
       "      <td>0.013619</td>\n",
       "      <td>0.069291</td>\n",
       "      <td>0.919804</td>\n",
       "      <td>1.0</td>\n",
       "      <td>1.0</td>\n",
       "      <td>0.0</td>\n",
       "      <td>0.0</td>\n",
       "      <td>0.9549</td>\n",
       "      <td>0.0</td>\n",
       "      <td>...</td>\n",
       "      <td>0.0</td>\n",
       "      <td>0.0</td>\n",
       "      <td>0.0</td>\n",
       "      <td>0.0</td>\n",
       "      <td>0.0</td>\n",
       "      <td>0.0</td>\n",
       "      <td>0.0</td>\n",
       "      <td>0.0</td>\n",
       "      <td>0.0</td>\n",
       "      <td>0.0</td>\n",
       "    </tr>\n",
       "  </tbody>\n",
       "</table>\n",
       "<p>5 rows × 25 columns</p>\n",
       "</div>"
      ],
      "text/plain": [
       "   positive  negative   neutral  combined  feedback  isPositive  isNegative  \\\n",
       "0  0.880722  0.016766  0.102511  0.886827       1.0         1.0         0.0   \n",
       "1  0.893248  0.027332  0.079420  0.897189       1.0         1.0         0.0   \n",
       "2  0.057324  0.784362  0.158314  0.802230       0.0         0.0         1.0   \n",
       "3  0.918911  0.009773  0.071316  0.921726       1.0         1.0         0.0   \n",
       "4  0.917090  0.013619  0.069291  0.919804       1.0         1.0         0.0   \n",
       "\n",
       "   isNeutral   vader  variation_Black  ...  \\\n",
       "0        0.0  0.6369              0.0  ...   \n",
       "1        0.0  0.3384              0.0  ...   \n",
       "2        0.0  0.9654              0.0  ...   \n",
       "3        0.0  0.6697              0.0  ...   \n",
       "4        0.0  0.9549              0.0  ...   \n",
       "\n",
       "   variation_Configuration: Fire TV Stick  variation_Heather Gray Fabric   \\\n",
       "0                                     0.0                             0.0   \n",
       "1                                     1.0                             0.0   \n",
       "2                                     0.0                             0.0   \n",
       "3                                     0.0                             1.0   \n",
       "4                                     0.0                             0.0   \n",
       "\n",
       "   variation_Oak Finish   variation_Sandstone Fabric   \\\n",
       "0                    0.0                          0.0   \n",
       "1                    0.0                          0.0   \n",
       "2                    0.0                          0.0   \n",
       "3                    0.0                          0.0   \n",
       "4                    0.0                          0.0   \n",
       "\n",
       "   variation_Walnut Finish   variation_White  variation_White  Dot  \\\n",
       "0                       0.0              0.0                   0.0   \n",
       "1                       0.0              0.0                   0.0   \n",
       "2                       0.0              0.0                   0.0   \n",
       "3                       0.0              0.0                   0.0   \n",
       "4                       0.0              0.0                   0.0   \n",
       "\n",
       "   variation_White  Plus  variation_White  Show  variation_White  Spot  \n",
       "0                    0.0                    0.0                    0.0  \n",
       "1                    0.0                    0.0                    0.0  \n",
       "2                    0.0                    0.0                    0.0  \n",
       "3                    0.0                    0.0                    0.0  \n",
       "4                    0.0                    0.0                    0.0  \n",
       "\n",
       "[5 rows x 25 columns]"
      ]
     },
     "execution_count": 9,
     "metadata": {},
     "output_type": "execute_result"
    }
   ],
   "source": [
    "new_dataframe=pd.DataFrame({\"positive\":pov_review,\"negative\":neg_review,\"neutral\":neu_review,\"combined\":com_review,\"feedback\":list(map(lambda x: float(x),train_data['feedback'])),\"isPositive\":pov_ratings,\"isNegative\":neg_ratings,\"isNeutral\":neu_ratings ,\"vader\":vader_ratings})\n",
    "new_dataframe = pd.concat([new_dataframe, one_hot_df], axis=1)\n",
    "# new_dataframe.pop(\"vade\")\n",
    "new_dataframe.head()"
   ]
  },
  {
   "cell_type": "code",
   "execution_count": 10,
   "id": "c32bfb1e",
   "metadata": {
    "execution": {
     "iopub.execute_input": "2023-11-21T16:23:48.560207Z",
     "iopub.status.busy": "2023-11-21T16:23:48.559914Z",
     "iopub.status.idle": "2023-11-21T16:23:48.589960Z",
     "shell.execute_reply": "2023-11-21T16:23:48.589010Z"
    },
    "papermill": {
     "duration": 0.045459,
     "end_time": "2023-11-21T16:23:48.591979",
     "exception": false,
     "start_time": "2023-11-21T16:23:48.546520",
     "status": "completed"
    },
    "tags": []
   },
   "outputs": [
    {
     "data": {
      "text/html": [
       "<div>\n",
       "<style scoped>\n",
       "    .dataframe tbody tr th:only-of-type {\n",
       "        vertical-align: middle;\n",
       "    }\n",
       "\n",
       "    .dataframe tbody tr th {\n",
       "        vertical-align: top;\n",
       "    }\n",
       "\n",
       "    .dataframe thead th {\n",
       "        text-align: right;\n",
       "    }\n",
       "</style>\n",
       "<table border=\"1\" class=\"dataframe\">\n",
       "  <thead>\n",
       "    <tr style=\"text-align: right;\">\n",
       "      <th></th>\n",
       "      <th>positive</th>\n",
       "      <th>negative</th>\n",
       "      <th>neutral</th>\n",
       "      <th>combined</th>\n",
       "      <th>feedback</th>\n",
       "      <th>isPositive</th>\n",
       "      <th>isNegative</th>\n",
       "      <th>isNeutral</th>\n",
       "      <th>vader</th>\n",
       "      <th>variation_Black</th>\n",
       "      <th>...</th>\n",
       "      <th>variation_Configuration: Fire TV Stick</th>\n",
       "      <th>variation_Heather Gray Fabric</th>\n",
       "      <th>variation_Oak Finish</th>\n",
       "      <th>variation_Sandstone Fabric</th>\n",
       "      <th>variation_Walnut Finish</th>\n",
       "      <th>variation_White</th>\n",
       "      <th>variation_White  Dot</th>\n",
       "      <th>variation_White  Plus</th>\n",
       "      <th>variation_White  Show</th>\n",
       "      <th>variation_White  Spot</th>\n",
       "    </tr>\n",
       "  </thead>\n",
       "  <tbody>\n",
       "    <tr>\n",
       "      <th>0</th>\n",
       "      <td>0.880722</td>\n",
       "      <td>0.016766</td>\n",
       "      <td>0.102511</td>\n",
       "      <td>0.886827</td>\n",
       "      <td>1.0</td>\n",
       "      <td>1.0</td>\n",
       "      <td>0.0</td>\n",
       "      <td>0.0</td>\n",
       "      <td>0.6369</td>\n",
       "      <td>0.0</td>\n",
       "      <td>...</td>\n",
       "      <td>0.0</td>\n",
       "      <td>0.0</td>\n",
       "      <td>0.0</td>\n",
       "      <td>0.0</td>\n",
       "      <td>0.0</td>\n",
       "      <td>0.0</td>\n",
       "      <td>0.0</td>\n",
       "      <td>0.0</td>\n",
       "      <td>0.0</td>\n",
       "      <td>0.0</td>\n",
       "    </tr>\n",
       "    <tr>\n",
       "      <th>1</th>\n",
       "      <td>0.893248</td>\n",
       "      <td>0.027332</td>\n",
       "      <td>0.079420</td>\n",
       "      <td>0.897189</td>\n",
       "      <td>1.0</td>\n",
       "      <td>1.0</td>\n",
       "      <td>0.0</td>\n",
       "      <td>0.0</td>\n",
       "      <td>0.3384</td>\n",
       "      <td>0.0</td>\n",
       "      <td>...</td>\n",
       "      <td>1.0</td>\n",
       "      <td>0.0</td>\n",
       "      <td>0.0</td>\n",
       "      <td>0.0</td>\n",
       "      <td>0.0</td>\n",
       "      <td>0.0</td>\n",
       "      <td>0.0</td>\n",
       "      <td>0.0</td>\n",
       "      <td>0.0</td>\n",
       "      <td>0.0</td>\n",
       "    </tr>\n",
       "    <tr>\n",
       "      <th>2</th>\n",
       "      <td>0.057324</td>\n",
       "      <td>0.784362</td>\n",
       "      <td>0.158314</td>\n",
       "      <td>0.802230</td>\n",
       "      <td>0.0</td>\n",
       "      <td>0.0</td>\n",
       "      <td>1.0</td>\n",
       "      <td>0.0</td>\n",
       "      <td>0.9654</td>\n",
       "      <td>0.0</td>\n",
       "      <td>...</td>\n",
       "      <td>0.0</td>\n",
       "      <td>0.0</td>\n",
       "      <td>0.0</td>\n",
       "      <td>0.0</td>\n",
       "      <td>0.0</td>\n",
       "      <td>0.0</td>\n",
       "      <td>0.0</td>\n",
       "      <td>0.0</td>\n",
       "      <td>0.0</td>\n",
       "      <td>0.0</td>\n",
       "    </tr>\n",
       "    <tr>\n",
       "      <th>3</th>\n",
       "      <td>0.918911</td>\n",
       "      <td>0.009773</td>\n",
       "      <td>0.071316</td>\n",
       "      <td>0.921726</td>\n",
       "      <td>1.0</td>\n",
       "      <td>1.0</td>\n",
       "      <td>0.0</td>\n",
       "      <td>0.0</td>\n",
       "      <td>0.6697</td>\n",
       "      <td>0.0</td>\n",
       "      <td>...</td>\n",
       "      <td>0.0</td>\n",
       "      <td>1.0</td>\n",
       "      <td>0.0</td>\n",
       "      <td>0.0</td>\n",
       "      <td>0.0</td>\n",
       "      <td>0.0</td>\n",
       "      <td>0.0</td>\n",
       "      <td>0.0</td>\n",
       "      <td>0.0</td>\n",
       "      <td>0.0</td>\n",
       "    </tr>\n",
       "    <tr>\n",
       "      <th>4</th>\n",
       "      <td>0.917090</td>\n",
       "      <td>0.013619</td>\n",
       "      <td>0.069291</td>\n",
       "      <td>0.919804</td>\n",
       "      <td>1.0</td>\n",
       "      <td>1.0</td>\n",
       "      <td>0.0</td>\n",
       "      <td>0.0</td>\n",
       "      <td>0.9549</td>\n",
       "      <td>0.0</td>\n",
       "      <td>...</td>\n",
       "      <td>0.0</td>\n",
       "      <td>0.0</td>\n",
       "      <td>0.0</td>\n",
       "      <td>0.0</td>\n",
       "      <td>0.0</td>\n",
       "      <td>0.0</td>\n",
       "      <td>0.0</td>\n",
       "      <td>0.0</td>\n",
       "      <td>0.0</td>\n",
       "      <td>0.0</td>\n",
       "    </tr>\n",
       "  </tbody>\n",
       "</table>\n",
       "<p>5 rows × 25 columns</p>\n",
       "</div>"
      ],
      "text/plain": [
       "   positive  negative   neutral  combined  feedback  isPositive  isNegative  \\\n",
       "0  0.880722  0.016766  0.102511  0.886827       1.0         1.0         0.0   \n",
       "1  0.893248  0.027332  0.079420  0.897189       1.0         1.0         0.0   \n",
       "2  0.057324  0.784362  0.158314  0.802230       0.0         0.0         1.0   \n",
       "3  0.918911  0.009773  0.071316  0.921726       1.0         1.0         0.0   \n",
       "4  0.917090  0.013619  0.069291  0.919804       1.0         1.0         0.0   \n",
       "\n",
       "   isNeutral   vader  variation_Black  ...  \\\n",
       "0        0.0  0.6369              0.0  ...   \n",
       "1        0.0  0.3384              0.0  ...   \n",
       "2        0.0  0.9654              0.0  ...   \n",
       "3        0.0  0.6697              0.0  ...   \n",
       "4        0.0  0.9549              0.0  ...   \n",
       "\n",
       "   variation_Configuration: Fire TV Stick  variation_Heather Gray Fabric   \\\n",
       "0                                     0.0                             0.0   \n",
       "1                                     1.0                             0.0   \n",
       "2                                     0.0                             0.0   \n",
       "3                                     0.0                             1.0   \n",
       "4                                     0.0                             0.0   \n",
       "\n",
       "   variation_Oak Finish   variation_Sandstone Fabric   \\\n",
       "0                    0.0                          0.0   \n",
       "1                    0.0                          0.0   \n",
       "2                    0.0                          0.0   \n",
       "3                    0.0                          0.0   \n",
       "4                    0.0                          0.0   \n",
       "\n",
       "   variation_Walnut Finish   variation_White  variation_White  Dot  \\\n",
       "0                       0.0              0.0                   0.0   \n",
       "1                       0.0              0.0                   0.0   \n",
       "2                       0.0              0.0                   0.0   \n",
       "3                       0.0              0.0                   0.0   \n",
       "4                       0.0              0.0                   0.0   \n",
       "\n",
       "   variation_White  Plus  variation_White  Show  variation_White  Spot  \n",
       "0                    0.0                    0.0                    0.0  \n",
       "1                    0.0                    0.0                    0.0  \n",
       "2                    0.0                    0.0                    0.0  \n",
       "3                    0.0                    0.0                    0.0  \n",
       "4                    0.0                    0.0                    0.0  \n",
       "\n",
       "[5 rows x 25 columns]"
      ]
     },
     "execution_count": 10,
     "metadata": {},
     "output_type": "execute_result"
    }
   ],
   "source": [
    "new_dataframe.head()"
   ]
  },
  {
   "cell_type": "markdown",
   "id": "6b25e881",
   "metadata": {
    "papermill": {
     "duration": 0.013014,
     "end_time": "2023-11-21T16:23:48.665738",
     "exception": false,
     "start_time": "2023-11-21T16:23:48.652724",
     "status": "completed"
    },
    "tags": []
   },
   "source": [
    "# ****Data Visualization****"
   ]
  },
  {
   "cell_type": "code",
   "execution_count": 11,
   "id": "c7899887",
   "metadata": {
    "execution": {
     "iopub.execute_input": "2023-11-21T16:23:48.693256Z",
     "iopub.status.busy": "2023-11-21T16:23:48.692882Z",
     "iopub.status.idle": "2023-11-21T16:23:49.251639Z",
     "shell.execute_reply": "2023-11-21T16:23:49.250699Z"
    },
    "papermill": {
     "duration": 0.575432,
     "end_time": "2023-11-21T16:23:49.253858",
     "exception": false,
     "start_time": "2023-11-21T16:23:48.678426",
     "status": "completed"
    },
    "tags": []
   },
   "outputs": [
    {
     "data": {
      "image/png": "[encoded data removed]",
      "text/plain": [
       "<Figure size 800x800 with 1 Axes>"
      ]
     },
     "metadata": {},
     "output_type": "display_data"
    }
   ],
   "source": [
    "plt.figure(figsize=(8, 8))\n",
    "plt.pie(train_data['variation'].value_counts().values, labels=train_data['variation'].value_counts().index, autopct='%1.1f%%', startangle=90, colors=sns.color_palette('viridis'))\n",
    "plt.title('Pie Chart with Legends for Categorical Column')\n",
    "plt.legend(title='Categories', labels=train_data['variation'].value_counts().index, loc='best')\n",
    "plt.show()"
   ]
  },
  {
   "cell_type": "code",
   "execution_count": 12,
   "id": "5c57311f",
   "metadata": {
    "execution": {
     "iopub.execute_input": "2023-11-21T16:23:49.284398Z",
     "iopub.status.busy": "2023-11-21T16:23:49.284097Z",
     "iopub.status.idle": "2023-11-21T16:23:49.570625Z",
     "shell.execute_reply": "2023-11-21T16:23:49.569608Z"
    },
    "papermill": {
     "duration": 0.30421,
     "end_time": "2023-11-21T16:23:49.572682",
     "exception": false,
     "start_time": "2023-11-21T16:23:49.268472",
     "status": "completed"
    },
    "tags": []
   },
   "outputs": [
    {
     "data": {
      "image/png": "[encoded data removed]",
      "text/plain": [
       "<Figure size 640x480 with 1 Axes>"
      ]
     },
     "metadata": {},
     "output_type": "display_data"
    }
   ],
   "source": [
    "sns.barplot(x=[\"1 rating\",\"2 rating\",\"3 rating\",\"4 rating\",\"5 rating\"],y=[sum([1 for i in train_data['sentiment'] if i==1.0]),sum([1 for i in train_data['sentiment'] if i==2.0]),sum([1 for i in train_data['sentiment'] if i==3.0]),sum([1 for i in train_data['sentiment'] if i==4.0]),sum([1 for i in train_data['sentiment'] if i==5.0])], palette=\"viridis\")\n",
    "plt.xlabel('review')\n",
    "plt.ylabel('ratings')\n",
    "plt.title('Bar chart on ratings')\n",
    "plt.show()"
   ]
  },
  {
   "cell_type": "code",
   "execution_count": 13,
   "id": "58b7ceb1",
   "metadata": {
    "execution": {
     "iopub.execute_input": "2023-11-21T16:23:49.604399Z",
     "iopub.status.busy": "2023-11-21T16:23:49.603891Z",
     "iopub.status.idle": "2023-11-21T16:23:49.860172Z",
     "shell.execute_reply": "2023-11-21T16:23:49.859146Z"
    },
    "papermill": {
     "duration": 0.27455,
     "end_time": "2023-11-21T16:23:49.862362",
     "exception": false,
     "start_time": "2023-11-21T16:23:49.587812",
     "status": "completed"
    },
    "tags": []
   },
   "outputs": [
    {
     "data": {
      "image/png": "[encoded data removed]",
      "text/plain": [
       "<Figure size 640x480 with 1 Axes>"
      ]
     },
     "metadata": {},
     "output_type": "display_data"
    }
   ],
   "source": [
    "sns.barplot(x=[\"postive review\",\"negative review\",\"neutral review\"],y=[sum(pov_ratings),sum(neg_ratings),sum(neu_ratings)], palette=\"viridis\")\n",
    "plt.xlabel('Categories')\n",
    "plt.ylabel('Values')\n",
    "plt.title('Bar chart on review')\n",
    "plt.show()"
   ]
  },
  {
   "cell_type": "code",
   "execution_count": 14,
   "id": "190dee27",
   "metadata": {
    "execution": {
     "iopub.execute_input": "2023-11-21T16:23:49.895606Z",
     "iopub.status.busy": "2023-11-21T16:23:49.894983Z",
     "iopub.status.idle": "2023-11-21T16:23:50.120030Z",
     "shell.execute_reply": "2023-11-21T16:23:50.119060Z"
    },
    "papermill": {
     "duration": 0.244129,
     "end_time": "2023-11-21T16:23:50.122374",
     "exception": false,
     "start_time": "2023-11-21T16:23:49.878245",
     "status": "completed"
    },
    "tags": []
   },
   "outputs": [
    {
     "data": {
      "image/png": "[encoded data removed]",
      "text/plain": [
       "<Figure size 640x480 with 1 Axes>"
      ]
     },
     "metadata": {},
     "output_type": "display_data"
    }
   ],
   "source": [
    "sns.barplot(x=[\"0\",\"1\"],y=[sum([1 for i in train_data['feedback'] if i==0.0]),sum([1 for i in train_data['feedback'] if i==1.0])], palette=\"viridis\")\n",
    "plt.xlabel('Review')\n",
    "plt.ylabel('Feedback')\n",
    "plt.title('Bar chart on Feedback')\n",
    "plt.show()"
   ]
  },
  {
   "cell_type": "markdown",
   "id": "ca4843fd",
   "metadata": {
    "papermill": {
     "duration": 0.015813,
     "end_time": "2023-11-21T16:23:50.154355",
     "exception": false,
     "start_time": "2023-11-21T16:23:50.138542",
     "status": "completed"
    },
    "tags": []
   },
   "source": [
    "# ****Training RandomForestClassifier on data featured out****"
   ]
  },
  {
   "cell_type": "code",
   "execution_count": 15,
   "id": "9cfa843c",
   "metadata": {
    "execution": {
     "iopub.execute_input": "2023-11-21T16:23:50.186302Z",
     "iopub.status.busy": "2023-11-21T16:23:50.185984Z",
     "iopub.status.idle": "2023-11-21T16:23:55.195149Z",
     "shell.execute_reply": "2023-11-21T16:23:55.194229Z"
    },
    "papermill": {
     "duration": 5.02761,
     "end_time": "2023-11-21T16:23:55.197164",
     "exception": false,
     "start_time": "2023-11-21T16:23:50.169554",
     "status": "completed"
    },
    "tags": []
   },
   "outputs": [
    {
     "name": "stdout",
     "output_type": "stream",
     "text": [
      "0.8412698412698413\n"
     ]
    }
   ],
   "source": [
    "new_dataframe = preprocessing.StandardScaler().fit(new_dataframe).transform(new_dataframe.astype(float))\n",
    "X_train, X_test, y_train, y_test = train_test_split(new_dataframe, train_data['sentiment'],  test_size=0.1,random_state=42 ) \n",
    "dtree_model = RandomForestClassifier(n_estimators=1000 ,random_state=5).fit(X_train, y_train)\n",
    "dtree_predictions = dtree_model.score(X_test,y_test)\n",
    "print(dtree_predictions)"
   ]
  },
  {
   "cell_type": "markdown",
   "id": "580fce27",
   "metadata": {
    "papermill": {
     "duration": 0.01582,
     "end_time": "2023-11-21T16:23:55.229617",
     "exception": false,
     "start_time": "2023-11-21T16:23:55.213797",
     "status": "completed"
    },
    "tags": []
   },
   "source": [
    "# ****Model Analysis****"
   ]
  },
  {
   "cell_type": "code",
   "execution_count": 16,
   "id": "de6f669b",
   "metadata": {
    "execution": {
     "iopub.execute_input": "2023-11-21T16:23:55.263077Z",
     "iopub.status.busy": "2023-11-21T16:23:55.262334Z",
     "iopub.status.idle": "2023-11-21T16:23:55.696410Z",
     "shell.execute_reply": "2023-11-21T16:23:55.695286Z"
    },
    "papermill": {
     "duration": 0.455129,
     "end_time": "2023-11-21T16:23:55.700551",
     "exception": false,
     "start_time": "2023-11-21T16:23:55.245422",
     "status": "completed"
    },
    "tags": []
   },
   "outputs": [
    {
     "name": "stdout",
     "output_type": "stream",
     "text": [
      "The macro f1 score is 0.7149233900731429\n"
     ]
    },
    {
     "data": {
      "image/png": "[encoded data removed]",
      "text/plain": [
       "<Figure size 800x600 with 1 Axes>"
      ]
     },
     "metadata": {},
     "output_type": "display_data"
    }
   ],
   "source": [
    "y_pred = dtree_model.predict(X_test)\n",
    "macro_f1 = f1_score(y_test, y_pred, average='macro')\n",
    "print(\"The macro f1 score is \"+str(macro_f1))\n",
    "cm = confusion_matrix(y_test, y_pred)\n",
    "plt.figure(figsize=(8, 6))\n",
    "sns.heatmap(cm, annot=True, fmt=\"d\", cmap=\"Blues\", cbar=False)\n",
    "plt.title('Confusion Matrix')\n",
    "plt.xlabel('Predicted Labels')\n",
    "plt.ylabel('True Labels')\n",
    "plt.show()\n",
    "# print(str(y_pred))"
   ]
  },
  {
   "cell_type": "markdown",
   "id": "d8f84d5d",
   "metadata": {
    "papermill": {
     "duration": 0.017159,
     "end_time": "2023-11-21T16:23:55.735148",
     "exception": false,
     "start_time": "2023-11-21T16:23:55.717989",
     "status": "completed"
    },
    "tags": []
   },
   "source": [
    "# ****Test Data Review****"
   ]
  },
  {
   "cell_type": "code",
   "execution_count": 17,
   "id": "3fda7d24",
   "metadata": {
    "execution": {
     "iopub.execute_input": "2023-11-21T16:23:55.770587Z",
     "iopub.status.busy": "2023-11-21T16:23:55.770174Z",
     "iopub.status.idle": "2023-11-21T16:23:55.804078Z",
     "shell.execute_reply": "2023-11-21T16:23:55.803267Z"
    },
    "papermill": {
     "duration": 0.053696,
     "end_time": "2023-11-21T16:23:55.806367",
     "exception": false,
     "start_time": "2023-11-21T16:23:55.752671",
     "status": "completed"
    },
    "tags": []
   },
   "outputs": [
    {
     "data": {
      "text/html": [
       "<div>\n",
       "<style scoped>\n",
       "    .dataframe tbody tr th:only-of-type {\n",
       "        vertical-align: middle;\n",
       "    }\n",
       "\n",
       "    .dataframe tbody tr th {\n",
       "        vertical-align: top;\n",
       "    }\n",
       "\n",
       "    .dataframe thead th {\n",
       "        text-align: right;\n",
       "    }\n",
       "</style>\n",
       "<table border=\"1\" class=\"dataframe\">\n",
       "  <thead>\n",
       "    <tr style=\"text-align: right;\">\n",
       "      <th></th>\n",
       "      <th>date</th>\n",
       "      <th>time</th>\n",
       "      <th>id</th>\n",
       "      <th>reviewer name</th>\n",
       "      <th>reviewer address</th>\n",
       "      <th>contact number</th>\n",
       "      <th>variation</th>\n",
       "      <th>verified_reviews</th>\n",
       "      <th>feedback</th>\n",
       "    </tr>\n",
       "  </thead>\n",
       "  <tbody>\n",
       "    <tr>\n",
       "      <th>0</th>\n",
       "      <td>29-Jul-18</td>\n",
       "      <td>16:47:11</td>\n",
       "      <td>6074908</td>\n",
       "      <td>Russell Hensley</td>\n",
       "      <td>9059 Morales Run Suite 912\\nSouth Charles, MH ...</td>\n",
       "      <td>6932290613</td>\n",
       "      <td>Heather Gray Fabric</td>\n",
       "      <td>I have the original Alexa and the Tap and so f...</td>\n",
       "      <td>1</td>\n",
       "    </tr>\n",
       "    <tr>\n",
       "      <th>1</th>\n",
       "      <td>28-Jul-18</td>\n",
       "      <td>17:49:58</td>\n",
       "      <td>1159008</td>\n",
       "      <td>Adam Baxter</td>\n",
       "      <td>13728 Jones Mission Apt. 526\\nSouth Tylerfurt,...</td>\n",
       "      <td>385-994-9458</td>\n",
       "      <td>Black  Plus</td>\n",
       "      <td>Great product. More skills are needed. I love it.</td>\n",
       "      <td>1</td>\n",
       "    </tr>\n",
       "    <tr>\n",
       "      <th>2</th>\n",
       "      <td>30-Jul-18</td>\n",
       "      <td>16:46:29</td>\n",
       "      <td>1759753</td>\n",
       "      <td>Sarah Contreras</td>\n",
       "      <td>7113 Pratt Plains\\nPalmermouth, IN 02370</td>\n",
       "      <td>(738)354-8387</td>\n",
       "      <td>Configuration: Fire TV Stick</td>\n",
       "      <td>I will never buy anything Amazon makes again!T...</td>\n",
       "      <td>0</td>\n",
       "    </tr>\n",
       "    <tr>\n",
       "      <th>3</th>\n",
       "      <td>29-Jul-18</td>\n",
       "      <td>19:23:32</td>\n",
       "      <td>1861422</td>\n",
       "      <td>Tim Castillo</td>\n",
       "      <td>93586 Cook Union Apt. 080\\nMorganmouth, WI 51175</td>\n",
       "      <td>(294)877-6223</td>\n",
       "      <td>Black  Plus</td>\n",
       "      <td>Not perfect but very good! A few times Alexa p...</td>\n",
       "      <td>1</td>\n",
       "    </tr>\n",
       "    <tr>\n",
       "      <th>4</th>\n",
       "      <td>28-Jul-18</td>\n",
       "      <td>16:15:25</td>\n",
       "      <td>3116018</td>\n",
       "      <td>Barry Young</td>\n",
       "      <td>69809 Harrington Meadows Apt. 256\\nLake Courtn...</td>\n",
       "      <td>262-863-1391</td>\n",
       "      <td>Black  Show</td>\n",
       "      <td>Kids like it for games.  Showing the lyrics fo...</td>\n",
       "      <td>1</td>\n",
       "    </tr>\n",
       "  </tbody>\n",
       "</table>\n",
       "</div>"
      ],
      "text/plain": [
       "        date      time       id    reviewer name  \\\n",
       "0  29-Jul-18  16:47:11  6074908  Russell Hensley   \n",
       "1  28-Jul-18  17:49:58  1159008      Adam Baxter   \n",
       "2  30-Jul-18  16:46:29  1759753  Sarah Contreras   \n",
       "3  29-Jul-18  19:23:32  1861422     Tim Castillo   \n",
       "4  28-Jul-18  16:15:25  3116018      Barry Young   \n",
       "\n",
       "                                    reviewer address contact number  \\\n",
       "0  9059 Morales Run Suite 912\\nSouth Charles, MH ...     6932290613   \n",
       "1  13728 Jones Mission Apt. 526\\nSouth Tylerfurt,...   385-994-9458   \n",
       "2           7113 Pratt Plains\\nPalmermouth, IN 02370  (738)354-8387   \n",
       "3   93586 Cook Union Apt. 080\\nMorganmouth, WI 51175  (294)877-6223   \n",
       "4  69809 Harrington Meadows Apt. 256\\nLake Courtn...   262-863-1391   \n",
       "\n",
       "                      variation  \\\n",
       "0          Heather Gray Fabric    \n",
       "1                   Black  Plus   \n",
       "2  Configuration: Fire TV Stick   \n",
       "3                   Black  Plus   \n",
       "4                   Black  Show   \n",
       "\n",
       "                                    verified_reviews  feedback  \n",
       "0  I have the original Alexa and the Tap and so f...         1  \n",
       "1  Great product. More skills are needed. I love it.         1  \n",
       "2  I will never buy anything Amazon makes again!T...         0  \n",
       "3  Not perfect but very good! A few times Alexa p...         1  \n",
       "4  Kids like it for games.  Showing the lyrics fo...         1  "
      ]
     },
     "execution_count": 17,
     "metadata": {},
     "output_type": "execute_result"
    }
   ],
   "source": [
    "test_data=pd.read_csv('/kaggle/input/anyas-gojo-revival-space-shop/test.tsv', sep='\\t')\n",
    "test_data.head()"
   ]
  },
  {
   "cell_type": "code",
   "execution_count": 18,
   "id": "0c80869c",
   "metadata": {
    "execution": {
     "iopub.execute_input": "2023-11-21T16:23:55.847565Z",
     "iopub.status.busy": "2023-11-21T16:23:55.847208Z",
     "iopub.status.idle": "2023-11-21T16:23:55.857188Z",
     "shell.execute_reply": "2023-11-21T16:23:55.856233Z"
    },
    "papermill": {
     "duration": 0.035184,
     "end_time": "2023-11-21T16:23:55.859204",
     "exception": false,
     "start_time": "2023-11-21T16:23:55.824020",
     "status": "completed"
    },
    "tags": []
   },
   "outputs": [
    {
     "data": {
      "text/plain": [
       "date                0\n",
       "time                0\n",
       "id                  0\n",
       "reviewer name       0\n",
       "reviewer address    0\n",
       "contact number      0\n",
       "variation           0\n",
       "verified_reviews    0\n",
       "sentiment           0\n",
       "feedback            0\n",
       "dtype: int64"
      ]
     },
     "execution_count": 18,
     "metadata": {},
     "output_type": "execute_result"
    }
   ],
   "source": [
    "train_data.isnull().sum()"
   ]
  },
  {
   "cell_type": "markdown",
   "id": "86f2b956",
   "metadata": {
    "papermill": {
     "duration": 0.017077,
     "end_time": "2023-11-21T16:23:55.892949",
     "exception": false,
     "start_time": "2023-11-21T16:23:55.875872",
     "status": "completed"
    },
    "tags": []
   },
   "source": [
    "# ****Testing Data preprocessing and feature engineering****"
   ]
  },
  {
   "cell_type": "markdown",
   "id": "f9a716ae",
   "metadata": {
    "papermill": {
     "duration": 0.018963,
     "end_time": "2023-11-21T16:23:55.928760",
     "exception": false,
     "start_time": "2023-11-21T16:23:55.909797",
     "status": "completed"
    },
    "tags": []
   },
   "source": [
    "**the same logic that we applied on feature engineering of train data will be applied here**"
   ]
  },
  {
   "cell_type": "code",
   "execution_count": 19,
   "id": "b8e140cb",
   "metadata": {
    "execution": {
     "iopub.execute_input": "2023-11-21T16:23:55.967439Z",
     "iopub.status.busy": "2023-11-21T16:23:55.967081Z",
     "iopub.status.idle": "2023-11-21T16:24:47.818489Z",
     "shell.execute_reply": "2023-11-21T16:24:47.817565Z"
    },
    "papermill": {
     "duration": 51.873197,
     "end_time": "2023-11-21T16:24:47.821429",
     "exception": false,
     "start_time": "2023-11-21T16:23:55.948232",
     "status": "completed"
    },
    "tags": []
   },
   "outputs": [],
   "source": [
    "pov_test_review=[]\n",
    "neg_test_review=[]\n",
    "neu_test_review=[]\n",
    "com_test_review=[]\n",
    "neg_test_ratings=[]\n",
    "neu_test_ratings=[]\n",
    "pov_test_ratings=[]\n",
    "vader_test_ratings=[]\n",
    "for i in test_data['verified_reviews']:\n",
    "    try:\n",
    "        encoded_text = tokenizer(i, return_tensors='pt')\n",
    "        output = model(**encoded_text)\n",
    "        scores = output[0][0].detach().numpy()\n",
    "        scores = softmax(scores)\n",
    "        neg_test_review.append(scores[0])\n",
    "        neu_test_review.append(scores[1])\n",
    "        pov_test_review.append(scores[2])\n",
    "        com_test_review.append((scores[0]**2+scores[1]**2+scores[2]**2)**(0.5))\n",
    "        sentiment_dict = sid_obj.polarity_scores(i)\n",
    "        vader_test_ratings.append(sentiment_dict['compound'])\n",
    "        if max(scores)==scores[0]:\n",
    "            neg_test_ratings.append(1.0)\n",
    "            neu_test_ratings.append(0.0)\n",
    "            pov_test_ratings.append(0.0)\n",
    "        elif max(scores)==scores[1]:\n",
    "            neg_test_ratings.append(0.0)\n",
    "            neu_test_ratings.append(1.0)\n",
    "            pov_test_ratings.append(0.0)\n",
    "        elif max(scores)==scores[2]:\n",
    "            neg_test_ratings.append(0.0)\n",
    "            neu_test_ratings.append(0.0)\n",
    "            pov_test_ratings.append(1.0)\n",
    "    except RuntimeError:\n",
    "        print(1)\n",
    "        pov_test_review.append(1.0)\n",
    "        neg_test_review.append(0.0)\n",
    "        neu_test_review.append(0.0)\n",
    "        com_test_review.append(1.0)\n",
    "        neg_test_ratings.append(0.0)\n",
    "        neu_test_ratings.append(0.0)\n",
    "        pov_test_ratings.append(1.0)"
   ]
  },
  {
   "cell_type": "code",
   "execution_count": 20,
   "id": "bebaf45b",
   "metadata": {
    "execution": {
     "iopub.execute_input": "2023-11-21T16:24:47.860461Z",
     "iopub.status.busy": "2023-11-21T16:24:47.859859Z",
     "iopub.status.idle": "2023-11-21T16:24:47.893909Z",
     "shell.execute_reply": "2023-11-21T16:24:47.892999Z"
    },
    "papermill": {
     "duration": 0.054952,
     "end_time": "2023-11-21T16:24:47.895952",
     "exception": false,
     "start_time": "2023-11-21T16:24:47.841000",
     "status": "completed"
    },
    "tags": []
   },
   "outputs": [
    {
     "data": {
      "text/html": [
       "<div>\n",
       "<style scoped>\n",
       "    .dataframe tbody tr th:only-of-type {\n",
       "        vertical-align: middle;\n",
       "    }\n",
       "\n",
       "    .dataframe tbody tr th {\n",
       "        vertical-align: top;\n",
       "    }\n",
       "\n",
       "    .dataframe thead th {\n",
       "        text-align: right;\n",
       "    }\n",
       "</style>\n",
       "<table border=\"1\" class=\"dataframe\">\n",
       "  <thead>\n",
       "    <tr style=\"text-align: right;\">\n",
       "      <th></th>\n",
       "      <th>variation_Black</th>\n",
       "      <th>variation_Black  Dot</th>\n",
       "      <th>variation_Black  Plus</th>\n",
       "      <th>variation_Black  Show</th>\n",
       "      <th>variation_Black  Spot</th>\n",
       "      <th>variation_Charcoal Fabric</th>\n",
       "      <th>variation_Configuration: Fire TV Stick</th>\n",
       "      <th>variation_Heather Gray Fabric</th>\n",
       "      <th>variation_Oak Finish</th>\n",
       "      <th>variation_Sandstone Fabric</th>\n",
       "      <th>variation_Walnut Finish</th>\n",
       "      <th>variation_White</th>\n",
       "      <th>variation_White  Dot</th>\n",
       "      <th>variation_White  Plus</th>\n",
       "      <th>variation_White  Show</th>\n",
       "      <th>variation_White  Spot</th>\n",
       "    </tr>\n",
       "  </thead>\n",
       "  <tbody>\n",
       "    <tr>\n",
       "      <th>0</th>\n",
       "      <td>0.0</td>\n",
       "      <td>0.0</td>\n",
       "      <td>0.0</td>\n",
       "      <td>0.0</td>\n",
       "      <td>0.0</td>\n",
       "      <td>0.0</td>\n",
       "      <td>0.0</td>\n",
       "      <td>1.0</td>\n",
       "      <td>0.0</td>\n",
       "      <td>0.0</td>\n",
       "      <td>0.0</td>\n",
       "      <td>0.0</td>\n",
       "      <td>0.0</td>\n",
       "      <td>0.0</td>\n",
       "      <td>0.0</td>\n",
       "      <td>0.0</td>\n",
       "    </tr>\n",
       "    <tr>\n",
       "      <th>1</th>\n",
       "      <td>0.0</td>\n",
       "      <td>0.0</td>\n",
       "      <td>1.0</td>\n",
       "      <td>0.0</td>\n",
       "      <td>0.0</td>\n",
       "      <td>0.0</td>\n",
       "      <td>0.0</td>\n",
       "      <td>0.0</td>\n",
       "      <td>0.0</td>\n",
       "      <td>0.0</td>\n",
       "      <td>0.0</td>\n",
       "      <td>0.0</td>\n",
       "      <td>0.0</td>\n",
       "      <td>0.0</td>\n",
       "      <td>0.0</td>\n",
       "      <td>0.0</td>\n",
       "    </tr>\n",
       "    <tr>\n",
       "      <th>2</th>\n",
       "      <td>0.0</td>\n",
       "      <td>0.0</td>\n",
       "      <td>0.0</td>\n",
       "      <td>0.0</td>\n",
       "      <td>0.0</td>\n",
       "      <td>0.0</td>\n",
       "      <td>1.0</td>\n",
       "      <td>0.0</td>\n",
       "      <td>0.0</td>\n",
       "      <td>0.0</td>\n",
       "      <td>0.0</td>\n",
       "      <td>0.0</td>\n",
       "      <td>0.0</td>\n",
       "      <td>0.0</td>\n",
       "      <td>0.0</td>\n",
       "      <td>0.0</td>\n",
       "    </tr>\n",
       "    <tr>\n",
       "      <th>3</th>\n",
       "      <td>0.0</td>\n",
       "      <td>0.0</td>\n",
       "      <td>1.0</td>\n",
       "      <td>0.0</td>\n",
       "      <td>0.0</td>\n",
       "      <td>0.0</td>\n",
       "      <td>0.0</td>\n",
       "      <td>0.0</td>\n",
       "      <td>0.0</td>\n",
       "      <td>0.0</td>\n",
       "      <td>0.0</td>\n",
       "      <td>0.0</td>\n",
       "      <td>0.0</td>\n",
       "      <td>0.0</td>\n",
       "      <td>0.0</td>\n",
       "      <td>0.0</td>\n",
       "    </tr>\n",
       "    <tr>\n",
       "      <th>4</th>\n",
       "      <td>0.0</td>\n",
       "      <td>0.0</td>\n",
       "      <td>0.0</td>\n",
       "      <td>1.0</td>\n",
       "      <td>0.0</td>\n",
       "      <td>0.0</td>\n",
       "      <td>0.0</td>\n",
       "      <td>0.0</td>\n",
       "      <td>0.0</td>\n",
       "      <td>0.0</td>\n",
       "      <td>0.0</td>\n",
       "      <td>0.0</td>\n",
       "      <td>0.0</td>\n",
       "      <td>0.0</td>\n",
       "      <td>0.0</td>\n",
       "      <td>0.0</td>\n",
       "    </tr>\n",
       "  </tbody>\n",
       "</table>\n",
       "</div>"
      ],
      "text/plain": [
       "   variation_Black  variation_Black  Dot  variation_Black  Plus  \\\n",
       "0              0.0                   0.0                    0.0   \n",
       "1              0.0                   0.0                    1.0   \n",
       "2              0.0                   0.0                    0.0   \n",
       "3              0.0                   0.0                    1.0   \n",
       "4              0.0                   0.0                    0.0   \n",
       "\n",
       "   variation_Black  Show  variation_Black  Spot  variation_Charcoal Fabric   \\\n",
       "0                    0.0                    0.0                         0.0   \n",
       "1                    0.0                    0.0                         0.0   \n",
       "2                    0.0                    0.0                         0.0   \n",
       "3                    0.0                    0.0                         0.0   \n",
       "4                    1.0                    0.0                         0.0   \n",
       "\n",
       "   variation_Configuration: Fire TV Stick  variation_Heather Gray Fabric   \\\n",
       "0                                     0.0                             1.0   \n",
       "1                                     0.0                             0.0   \n",
       "2                                     1.0                             0.0   \n",
       "3                                     0.0                             0.0   \n",
       "4                                     0.0                             0.0   \n",
       "\n",
       "   variation_Oak Finish   variation_Sandstone Fabric   \\\n",
       "0                    0.0                          0.0   \n",
       "1                    0.0                          0.0   \n",
       "2                    0.0                          0.0   \n",
       "3                    0.0                          0.0   \n",
       "4                    0.0                          0.0   \n",
       "\n",
       "   variation_Walnut Finish   variation_White  variation_White  Dot  \\\n",
       "0                       0.0              0.0                   0.0   \n",
       "1                       0.0              0.0                   0.0   \n",
       "2                       0.0              0.0                   0.0   \n",
       "3                       0.0              0.0                   0.0   \n",
       "4                       0.0              0.0                   0.0   \n",
       "\n",
       "   variation_White  Plus  variation_White  Show  variation_White  Spot  \n",
       "0                    0.0                    0.0                    0.0  \n",
       "1                    0.0                    0.0                    0.0  \n",
       "2                    0.0                    0.0                    0.0  \n",
       "3                    0.0                    0.0                    0.0  \n",
       "4                    0.0                    0.0                    0.0  "
      ]
     },
     "execution_count": 20,
     "metadata": {},
     "output_type": "execute_result"
    }
   ],
   "source": [
    "encoder = OneHotEncoder()\n",
    "one_hot_encoded = encoder.fit_transform(test_data[['variation']])\n",
    "one_hot_df = pd.DataFrame(one_hot_encoded.toarray(), columns=encoder.get_feature_names_out(['variation']))\n",
    "one_hot_df.head()"
   ]
  },
  {
   "cell_type": "code",
   "execution_count": 21,
   "id": "d98a7d1d",
   "metadata": {
    "execution": {
     "iopub.execute_input": "2023-11-21T16:24:47.933269Z",
     "iopub.status.busy": "2023-11-21T16:24:47.932977Z",
     "iopub.status.idle": "2023-11-21T16:24:47.968025Z",
     "shell.execute_reply": "2023-11-21T16:24:47.967058Z"
    },
    "papermill": {
     "duration": 0.056609,
     "end_time": "2023-11-21T16:24:47.969913",
     "exception": false,
     "start_time": "2023-11-21T16:24:47.913304",
     "status": "completed"
    },
    "tags": []
   },
   "outputs": [
    {
     "data": {
      "text/html": [
       "<div>\n",
       "<style scoped>\n",
       "    .dataframe tbody tr th:only-of-type {\n",
       "        vertical-align: middle;\n",
       "    }\n",
       "\n",
       "    .dataframe tbody tr th {\n",
       "        vertical-align: top;\n",
       "    }\n",
       "\n",
       "    .dataframe thead th {\n",
       "        text-align: right;\n",
       "    }\n",
       "</style>\n",
       "<table border=\"1\" class=\"dataframe\">\n",
       "  <thead>\n",
       "    <tr style=\"text-align: right;\">\n",
       "      <th></th>\n",
       "      <th>positive</th>\n",
       "      <th>negative</th>\n",
       "      <th>neutral</th>\n",
       "      <th>combined</th>\n",
       "      <th>feedback</th>\n",
       "      <th>isPositive</th>\n",
       "      <th>isNegative</th>\n",
       "      <th>isNeutral</th>\n",
       "      <th>vader</th>\n",
       "      <th>variation_Black</th>\n",
       "      <th>...</th>\n",
       "      <th>variation_Configuration: Fire TV Stick</th>\n",
       "      <th>variation_Heather Gray Fabric</th>\n",
       "      <th>variation_Oak Finish</th>\n",
       "      <th>variation_Sandstone Fabric</th>\n",
       "      <th>variation_Walnut Finish</th>\n",
       "      <th>variation_White</th>\n",
       "      <th>variation_White  Dot</th>\n",
       "      <th>variation_White  Plus</th>\n",
       "      <th>variation_White  Show</th>\n",
       "      <th>variation_White  Spot</th>\n",
       "    </tr>\n",
       "  </thead>\n",
       "  <tbody>\n",
       "    <tr>\n",
       "      <th>0</th>\n",
       "      <td>0.859859</td>\n",
       "      <td>0.053545</td>\n",
       "      <td>0.086596</td>\n",
       "      <td>0.865866</td>\n",
       "      <td>1.0</td>\n",
       "      <td>1.0</td>\n",
       "      <td>0.0</td>\n",
       "      <td>0.0</td>\n",
       "      <td>0.9802</td>\n",
       "      <td>0.0</td>\n",
       "      <td>...</td>\n",
       "      <td>0.0</td>\n",
       "      <td>1.0</td>\n",
       "      <td>0.0</td>\n",
       "      <td>0.0</td>\n",
       "      <td>0.0</td>\n",
       "      <td>0.0</td>\n",
       "      <td>0.0</td>\n",
       "      <td>0.0</td>\n",
       "      <td>0.0</td>\n",
       "      <td>0.0</td>\n",
       "    </tr>\n",
       "    <tr>\n",
       "      <th>1</th>\n",
       "      <td>0.937681</td>\n",
       "      <td>0.015595</td>\n",
       "      <td>0.046725</td>\n",
       "      <td>0.938974</td>\n",
       "      <td>1.0</td>\n",
       "      <td>1.0</td>\n",
       "      <td>0.0</td>\n",
       "      <td>0.0</td>\n",
       "      <td>0.8519</td>\n",
       "      <td>0.0</td>\n",
       "      <td>...</td>\n",
       "      <td>0.0</td>\n",
       "      <td>0.0</td>\n",
       "      <td>0.0</td>\n",
       "      <td>0.0</td>\n",
       "      <td>0.0</td>\n",
       "      <td>0.0</td>\n",
       "      <td>0.0</td>\n",
       "      <td>0.0</td>\n",
       "      <td>0.0</td>\n",
       "      <td>0.0</td>\n",
       "    </tr>\n",
       "    <tr>\n",
       "      <th>2</th>\n",
       "      <td>0.011588</td>\n",
       "      <td>0.956889</td>\n",
       "      <td>0.031523</td>\n",
       "      <td>0.957478</td>\n",
       "      <td>0.0</td>\n",
       "      <td>0.0</td>\n",
       "      <td>1.0</td>\n",
       "      <td>0.0</td>\n",
       "      <td>-0.7507</td>\n",
       "      <td>0.0</td>\n",
       "      <td>...</td>\n",
       "      <td>1.0</td>\n",
       "      <td>0.0</td>\n",
       "      <td>0.0</td>\n",
       "      <td>0.0</td>\n",
       "      <td>0.0</td>\n",
       "      <td>0.0</td>\n",
       "      <td>0.0</td>\n",
       "      <td>0.0</td>\n",
       "      <td>0.0</td>\n",
       "      <td>0.0</td>\n",
       "    </tr>\n",
       "    <tr>\n",
       "      <th>3</th>\n",
       "      <td>0.306549</td>\n",
       "      <td>0.353358</td>\n",
       "      <td>0.340093</td>\n",
       "      <td>0.578357</td>\n",
       "      <td>1.0</td>\n",
       "      <td>0.0</td>\n",
       "      <td>1.0</td>\n",
       "      <td>0.0</td>\n",
       "      <td>0.9741</td>\n",
       "      <td>0.0</td>\n",
       "      <td>...</td>\n",
       "      <td>0.0</td>\n",
       "      <td>0.0</td>\n",
       "      <td>0.0</td>\n",
       "      <td>0.0</td>\n",
       "      <td>0.0</td>\n",
       "      <td>0.0</td>\n",
       "      <td>0.0</td>\n",
       "      <td>0.0</td>\n",
       "      <td>0.0</td>\n",
       "      <td>0.0</td>\n",
       "    </tr>\n",
       "    <tr>\n",
       "      <th>4</th>\n",
       "      <td>0.795684</td>\n",
       "      <td>0.029179</td>\n",
       "      <td>0.175137</td>\n",
       "      <td>0.815253</td>\n",
       "      <td>1.0</td>\n",
       "      <td>1.0</td>\n",
       "      <td>0.0</td>\n",
       "      <td>0.0</td>\n",
       "      <td>0.6705</td>\n",
       "      <td>0.0</td>\n",
       "      <td>...</td>\n",
       "      <td>0.0</td>\n",
       "      <td>0.0</td>\n",
       "      <td>0.0</td>\n",
       "      <td>0.0</td>\n",
       "      <td>0.0</td>\n",
       "      <td>0.0</td>\n",
       "      <td>0.0</td>\n",
       "      <td>0.0</td>\n",
       "      <td>0.0</td>\n",
       "      <td>0.0</td>\n",
       "    </tr>\n",
       "  </tbody>\n",
       "</table>\n",
       "<p>5 rows × 25 columns</p>\n",
       "</div>"
      ],
      "text/plain": [
       "   positive  negative   neutral  combined  feedback  isPositive  isNegative  \\\n",
       "0  0.859859  0.053545  0.086596  0.865866       1.0         1.0         0.0   \n",
       "1  0.937681  0.015595  0.046725  0.938974       1.0         1.0         0.0   \n",
       "2  0.011588  0.956889  0.031523  0.957478       0.0         0.0         1.0   \n",
       "3  0.306549  0.353358  0.340093  0.578357       1.0         0.0         1.0   \n",
       "4  0.795684  0.029179  0.175137  0.815253       1.0         1.0         0.0   \n",
       "\n",
       "   isNeutral   vader  variation_Black  ...  \\\n",
       "0        0.0  0.9802              0.0  ...   \n",
       "1        0.0  0.8519              0.0  ...   \n",
       "2        0.0 -0.7507              0.0  ...   \n",
       "3        0.0  0.9741              0.0  ...   \n",
       "4        0.0  0.6705              0.0  ...   \n",
       "\n",
       "   variation_Configuration: Fire TV Stick  variation_Heather Gray Fabric   \\\n",
       "0                                     0.0                             1.0   \n",
       "1                                     0.0                             0.0   \n",
       "2                                     1.0                             0.0   \n",
       "3                                     0.0                             0.0   \n",
       "4                                     0.0                             0.0   \n",
       "\n",
       "   variation_Oak Finish   variation_Sandstone Fabric   \\\n",
       "0                    0.0                          0.0   \n",
       "1                    0.0                          0.0   \n",
       "2                    0.0                          0.0   \n",
       "3                    0.0                          0.0   \n",
       "4                    0.0                          0.0   \n",
       "\n",
       "   variation_Walnut Finish   variation_White  variation_White  Dot  \\\n",
       "0                       0.0              0.0                   0.0   \n",
       "1                       0.0              0.0                   0.0   \n",
       "2                       0.0              0.0                   0.0   \n",
       "3                       0.0              0.0                   0.0   \n",
       "4                       0.0              0.0                   0.0   \n",
       "\n",
       "   variation_White  Plus  variation_White  Show  variation_White  Spot  \n",
       "0                    0.0                    0.0                    0.0  \n",
       "1                    0.0                    0.0                    0.0  \n",
       "2                    0.0                    0.0                    0.0  \n",
       "3                    0.0                    0.0                    0.0  \n",
       "4                    0.0                    0.0                    0.0  \n",
       "\n",
       "[5 rows x 25 columns]"
      ]
     },
     "execution_count": 21,
     "metadata": {},
     "output_type": "execute_result"
    }
   ],
   "source": [
    "test_dataframe=pd.DataFrame({\"positive\":pov_test_review,\"negative\":neg_test_review,\"neutral\":neu_test_review,\"combined\":com_test_review,\"feedback\":list(map(lambda x: float(x),test_data['feedback'])),\"isPositive\":pov_test_ratings,\"isNegative\":neg_test_ratings,\"isNeutral\":neu_test_ratings,\"vader\":vader_test_ratings},columns=['positive','negative','neutral','combined','feedback','isPositive', 'isNegative', 'isNeutral','vader'])\n",
    "test_dataframe = pd.concat([test_dataframe, one_hot_df], axis=1)\n",
    "# test_dataframe.pop(\"vader\")\n",
    "test_dataframe.head()"
   ]
  },
  {
   "cell_type": "code",
   "execution_count": 22,
   "id": "fac01020",
   "metadata": {
    "execution": {
     "iopub.execute_input": "2023-11-21T16:24:48.005888Z",
     "iopub.status.busy": "2023-11-21T16:24:48.005586Z",
     "iopub.status.idle": "2023-11-21T16:24:48.015506Z",
     "shell.execute_reply": "2023-11-21T16:24:48.014532Z"
    },
    "papermill": {
     "duration": 0.03037,
     "end_time": "2023-11-21T16:24:48.017543",
     "exception": false,
     "start_time": "2023-11-21T16:24:47.987173",
     "status": "completed"
    },
    "tags": []
   },
   "outputs": [],
   "source": [
    "test_dataframe = preprocessing.StandardScaler().fit(test_dataframe).transform(test_dataframe.astype(float))"
   ]
  },
  {
   "cell_type": "markdown",
   "id": "f7d3afe6",
   "metadata": {
    "papermill": {
     "duration": 0.017972,
     "end_time": "2023-11-21T16:24:48.054171",
     "exception": false,
     "start_time": "2023-11-21T16:24:48.036199",
     "status": "completed"
    },
    "tags": []
   },
   "source": [
    "# ****Running Model on test data**** "
   ]
  },
  {
   "cell_type": "code",
   "execution_count": 23,
   "id": "0c078a39",
   "metadata": {
    "execution": {
     "iopub.execute_input": "2023-11-21T16:24:48.092559Z",
     "iopub.status.busy": "2023-11-21T16:24:48.092172Z",
     "iopub.status.idle": "2023-11-21T16:24:48.274793Z",
     "shell.execute_reply": "2023-11-21T16:24:48.273784Z"
    },
    "papermill": {
     "duration": 0.204125,
     "end_time": "2023-11-21T16:24:48.276933",
     "exception": false,
     "start_time": "2023-11-21T16:24:48.072808",
     "status": "completed"
    },
    "tags": []
   },
   "outputs": [
    {
     "name": "stdout",
     "output_type": "stream",
     "text": [
      "[5 5 2 5 5 5 5 5 1 3 5 5 5 5 5 5 1 5 3 4 5 5 5 5 5 5 1 5 5 1 5 5 5 5 5 5 5\n",
      " 5 5 5 5 1 5 5 5 5 5 5 5 5 1 5 5 5 5 5 5 5 5 5 5 5 5 5 5 5 5 5 5 5 5 5 5 5\n",
      " 5 5 5 5 5 1 5 5 5 5 1 5 5 5 5 5 5 1 5 5 5 5 5 5 5 5 5 3 1 5 2 5 4 5 5 4 5\n",
      " 5 1 5 5 5 5 5 5 5 5 5 5 5 3 5 5 5 5 5 5 5 5 5 5 5 5 5 5 5 5 5 5 5 5 5 5 5\n",
      " 5 3 5 5 4 4 5 5 5 5 5 1 5 5 3 4 5 5 5 5 5 4 5 5 5 5 4 5 5 1 5 5 5 5 5 2 5\n",
      " 2 5 5 4 5 5 5 5 5 5 5 5 5 5 5 5 5 5 5 5 5 3 1 5 5 4 5 5 5 5 5 5 5 5 5 5 5\n",
      " 5 5 5 5 5 5 1 5 5 5 4 5 5 1 5 5 5 5 5 5 5 5 5 5 5 5 5 1 1 4 5 5 4 5 1 5 5\n",
      " 5 5 3 5 5 5 5 5 5 5 5 5 4 5 2 5 5 5 5 4 5 5 5 3 4 5 5 5 5 5 5 5 5 5 5 5 5\n",
      " 5 5 5 5 5 5 2 5 5 5 5 5 5 5 5 3 5 1 5 3 5 5 4 5 5 5 5 5 5 5 5 5 5 3 5 5 5\n",
      " 5 5 5 5 5 5 5 5 5 1 5 3 5 5 5 5 5 1 5 5 5 5 5 1 5 5 4 4 4 4 5 5 5 5 5 5 5\n",
      " 5 5 5 5 1 5 5 5 5 5 1 5 5 5 5 5 5 1 1 3 5 5 5 5 1 5 5 5 1 5 4 5 4 5 5 5 5\n",
      " 5 5 5 5 4 5 5 5 5 5 5 1 5 5 5 5 5 5 5 5 5 5 5 5 5 5 5 4 5 5 5 5 5 5 2 3 5\n",
      " 5 5 5 5 5 1 5 5 5 1 5 5 3 5 5 5 5 5 5 3 5 5 1 5 5 4 5 5 5 5 5 4 1 5 5 5 5\n",
      " 5 5 5 3 5 5 5 5 5 1 4 5 5 5 3 5 5 5 5 5 5 4 5 5 5 5 5 5 1 5 5 5 5 5 5 5 5\n",
      " 5 5 5 5 5 1 5 5 5 5 5 4 5 5 5 5 5 5 5 1 5 5 5 5 5 5 5 1 5 5 5 5 1 5 5 5 5\n",
      " 5 5 4 5 2 5 5 5 5 5 5 5 4 5 5 2 5 5 5 5 4 5 5 5 5 5 5 5 5 5 5 5 5 5 5 4 5\n",
      " 5 5 5 5 4 5 5 5 5 5 5 5 1 1 5 5 5 5 5 5 5 5 5 5 5 5 4 4 5 5 5 5 1 5 5 5 5\n",
      " 5]\n"
     ]
    }
   ],
   "source": [
    "arr=dtree_model.predict(test_dataframe)\n",
    "print(arr)"
   ]
  },
  {
   "cell_type": "markdown",
   "id": "33caca91",
   "metadata": {
    "papermill": {
     "duration": 0.016992,
     "end_time": "2023-11-21T16:24:48.311793",
     "exception": false,
     "start_time": "2023-11-21T16:24:48.294801",
     "status": "completed"
    },
    "tags": []
   },
   "source": [
    "# ****Test data and Result Visualization****"
   ]
  },
  {
   "cell_type": "code",
   "execution_count": 24,
   "id": "bf4b0237",
   "metadata": {
    "execution": {
     "iopub.execute_input": "2023-11-21T16:24:48.348161Z",
     "iopub.status.busy": "2023-11-21T16:24:48.347830Z",
     "iopub.status.idle": "2023-11-21T16:24:48.805958Z",
     "shell.execute_reply": "2023-11-21T16:24:48.805016Z"
    },
    "papermill": {
     "duration": 0.479272,
     "end_time": "2023-11-21T16:24:48.808570",
     "exception": false,
     "start_time": "2023-11-21T16:24:48.329298",
     "status": "completed"
    },
    "tags": []
   },
   "outputs": [
    {
     "data": {
      "image/png": "[encoded data removed]",
      "text/plain": [
       "<Figure size 800x800 with 1 Axes>"
      ]
     },
     "metadata": {},
     "output_type": "display_data"
    }
   ],
   "source": [
    "plt.figure(figsize=(8, 8))\n",
    "plt.pie(test_data['variation'].value_counts().values, labels=test_data['variation'].value_counts().index, autopct='%1.1f%%', startangle=90, colors=sns.color_palette('viridis'))\n",
    "plt.title('Pie Chart with Legends for Categorical Column')\n",
    "plt.legend(title='Categories', labels=test_data['variation'].value_counts().index, loc='best')\n",
    "plt.show()"
   ]
  },
  {
   "cell_type": "code",
   "execution_count": 25,
   "id": "09a5fc45",
   "metadata": {
    "execution": {
     "iopub.execute_input": "2023-11-21T16:24:48.849425Z",
     "iopub.status.busy": "2023-11-21T16:24:48.849091Z",
     "iopub.status.idle": "2023-11-21T16:24:49.048380Z",
     "shell.execute_reply": "2023-11-21T16:24:49.047389Z"
    },
    "papermill": {
     "duration": 0.221807,
     "end_time": "2023-11-21T16:24:49.050531",
     "exception": false,
     "start_time": "2023-11-21T16:24:48.828724",
     "status": "completed"
    },
    "tags": []
   },
   "outputs": [
    {
     "data": {
      "image/png": "[encoded data removed]",
      "text/plain": [
       "<Figure size 640x480 with 1 Axes>"
      ]
     },
     "metadata": {},
     "output_type": "display_data"
    }
   ],
   "source": [
    "sns.barplot(x=[\"1 rating\",\"2 rating\",\"3 rating\",\"4 rating\",\"5 rating\"],y=[sum([1 for i in arr if i==1]),sum([1 for i in arr if i==2]),sum([1 for i in arr if i==3]),sum([1 for i in arr if i==4]),sum([1 for i in arr if i==5])], palette=\"viridis\")\n",
    "plt.xlabel('review')\n",
    "plt.ylabel('ratings')\n",
    "plt.title('Bar Chart on predicted ratings')\n",
    "plt.show()"
   ]
  },
  {
   "cell_type": "code",
   "execution_count": 26,
   "id": "d15ac29d",
   "metadata": {
    "execution": {
     "iopub.execute_input": "2023-11-21T16:24:49.092775Z",
     "iopub.status.busy": "2023-11-21T16:24:49.092450Z",
     "iopub.status.idle": "2023-11-21T16:24:49.323584Z",
     "shell.execute_reply": "2023-11-21T16:24:49.322609Z"
    },
    "papermill": {
     "duration": 0.254542,
     "end_time": "2023-11-21T16:24:49.325812",
     "exception": false,
     "start_time": "2023-11-21T16:24:49.071270",
     "status": "completed"
    },
    "tags": []
   },
   "outputs": [
    {
     "data": {
      "image/png": "[encoded data removed]",
      "text/plain": [
       "<Figure size 640x480 with 1 Axes>"
      ]
     },
     "metadata": {},
     "output_type": "display_data"
    }
   ],
   "source": [
    "sns.barplot(x=[\"postive review\",\"negative review\",\"neutral review\"],y=[sum(pov_test_ratings),sum(neg_test_ratings),sum(neu_test_ratings)], palette=\"viridis\")\n",
    "plt.xlabel('Categories')\n",
    "plt.ylabel('Values')\n",
    "plt.title('Bar chart on reviews')\n",
    "plt.show()"
   ]
  },
  {
   "cell_type": "code",
   "execution_count": 27,
   "id": "575bfe83",
   "metadata": {
    "execution": {
     "iopub.execute_input": "2023-11-21T16:24:49.367123Z",
     "iopub.status.busy": "2023-11-21T16:24:49.366745Z",
     "iopub.status.idle": "2023-11-21T16:24:49.604400Z",
     "shell.execute_reply": "2023-11-21T16:24:49.603451Z"
    },
    "papermill": {
     "duration": 0.260628,
     "end_time": "2023-11-21T16:24:49.606620",
     "exception": false,
     "start_time": "2023-11-21T16:24:49.345992",
     "status": "completed"
    },
    "tags": []
   },
   "outputs": [
    {
     "data": {
      "image/png": "[encoded data removed]",
      "text/plain": [
       "<Figure size 640x480 with 1 Axes>"
      ]
     },
     "metadata": {},
     "output_type": "display_data"
    }
   ],
   "source": [
    "sns.barplot(x=[\"0\",\"1\"],y=[sum([1 for i in test_data['feedback'] if i==0.0]),sum([1 for i in test_data['feedback'] if i==1.0])], palette=\"viridis\")\n",
    "plt.xlabel('Review')\n",
    "plt.ylabel('Feedback')\n",
    "plt.title('Bar chart on feedback')\n",
    "plt.show()"
   ]
  },
  {
   "cell_type": "markdown",
   "id": "831db526",
   "metadata": {
    "papermill": {
     "duration": 0.021402,
     "end_time": "2023-11-21T16:24:49.650469",
     "exception": false,
     "start_time": "2023-11-21T16:24:49.629067",
     "status": "completed"
    },
    "tags": []
   },
   "source": [
    "# ****Downloading the CSV file****"
   ]
  },
  {
   "cell_type": "code",
   "execution_count": 28,
   "id": "3d23b3d8",
   "metadata": {
    "execution": {
     "iopub.execute_input": "2023-11-21T16:24:49.691581Z",
     "iopub.status.busy": "2023-11-21T16:24:49.691224Z",
     "iopub.status.idle": "2023-11-21T16:24:49.700839Z",
     "shell.execute_reply": "2023-11-21T16:24:49.700092Z"
    },
    "papermill": {
     "duration": 0.032617,
     "end_time": "2023-11-21T16:24:49.702907",
     "exception": false,
     "start_time": "2023-11-21T16:24:49.670290",
     "status": "completed"
    },
    "tags": []
   },
   "outputs": [],
   "source": [
    "submission=pd.DataFrame({\"id\":test_data['id'],\"sentiment\":arr})\n",
    "submission.to_csv(\"submission.csv\",index=False)"
   ]
  }
 ],
 "metadata": {
  "kaggle": {
   "accelerator": "gpu",
   "dataSources": [
    {
     "databundleVersionId": 6967454,
     "sourceId": 63364,
     "sourceType": "competition"
    }
   ],
   "dockerImageVersionId": 30558,
   "isGpuEnabled": true,
   "isInternetEnabled": true,
   "language": "python",
   "sourceType": "notebook"
  },
  "kernelspec": {
   "display_name": "Python 3",
   "language": "python",
   "name": "python3"
  },
  "language_info": {
   "codemirror_mode": {
    "name": "ipython",
    "version": 3
   },
   "file_extension": ".py",
   "mimetype": "text/x-python",
   "name": "python",
   "nbconvert_exporter": "python",
   "pygments_lexer": "ipython3",
   "version": "3.10.12"
  },
  "papermill": {
   "default_parameters": {},
   "duration": 314.825341,
   "end_time": "2023-11-21T16:24:52.932426",
   "environment_variables": {},
   "exception": null,
   "input_path": "__notebook__.ipynb",
   "output_path": "__notebook__.ipynb",
   "parameters": {},
   "start_time": "2023-11-21T16:19:38.107085",
   "version": "2.4.0"
  },
  "widgets": {
   "application/vnd.jupyter.widget-state+json": {
    "state": {
     "063e714afbc940f3932343fb4a32ac87": {
      "model_module": "@jupyter-widgets/controls",
      "model_module_version": "1.5.0",
      "model_name": "HTMLModel",
      "state": {
       "_dom_classes": [],
       "_model_module": "@jupyter-widgets/controls",
       "_model_module_version": "1.5.0",
       "_model_name": "HTMLModel",
       "_view_count": null,
       "_view_module": "@jupyter-widgets/controls",
       "_view_module_version": "1.5.0",
       "_view_name": "HTMLView",
       "description": "",
       "description_tooltip": null,
       "layout": "IPY_MODEL_244c923a4f3f42d6a59a6bbcfb7a6c43",
       "placeholder": "​",
       "style": "IPY_MODEL_59414e07455446af8fca99cd74191a54",
       "value": "Downloading (…)cial_tokens_map.json: 100%"
      }
     },
     "0be8e328b21144dc9ee29f7066ab1a7c": {
      "model_module": "@jupyter-widgets/base",
      "model_module_version": "1.2.0",
      "model_name": "LayoutModel",
      "state": {
       "_model_module": "@jupyter-widgets/base",
       "_model_module_version": "1.2.0",
       "_model_name": "LayoutModel",
       "_view_count": null,
       "_view_module": "@jupyter-widgets/base",
       "_view_module_version": "1.2.0",
       "_view_name": "LayoutView",
       "align_content": null,
       "align_items": null,
       "align_self": null,
       "border": null,
       "bottom": null,
       "display": null,
       "flex": null,
       "flex_flow": null,
       "grid_area": null,
       "grid_auto_columns": null,
       "grid_auto_flow": null,
       "grid_auto_rows": null,
       "grid_column": null,
       "grid_gap": null,
       "grid_row": null,
       "grid_template_areas": null,
       "grid_template_columns": null,
       "grid_template_rows": null,
       "height": null,
       "justify_content": null,
       "justify_items": null,
       "left": null,
       "margin": null,
       "max_height": null,
       "max_width": null,
       "min_height": null,
       "min_width": null,
       "object_fit": null,
       "object_position": null,
       "order": null,
       "overflow": null,
       "overflow_x": null,
       "overflow_y": null,
       "padding": null,
       "right": null,
       "top": null,
       "visibility": null,
       "width": null
      }
     },
     "0e3374a321084fe4809e0075d0d88523": {
      "model_module": "@jupyter-widgets/controls",
      "model_module_version": "1.5.0",
      "model_name": "ProgressStyleModel",
      "state": {
       "_model_module": "@jupyter-widgets/controls",
       "_model_module_version": "1.5.0",
       "_model_name": "ProgressStyleModel",
       "_view_count": null,
       "_view_module": "@jupyter-widgets/base",
       "_view_module_version": "1.2.0",
       "_view_name": "StyleView",
       "bar_color": null,
       "description_width": ""
      }
     },
     "106581c8ee324df0bf9aebcb8fea39e3": {
      "model_module": "@jupyter-widgets/base",
      "model_module_version": "1.2.0",
      "model_name": "LayoutModel",
      "state": {
       "_model_module": "@jupyter-widgets/base",
       "_model_module_version": "1.2.0",
       "_model_name": "LayoutModel",
       "_view_count": null,
       "_view_module": "@jupyter-widgets/base",
       "_view_module_version": "1.2.0",
       "_view_name": "LayoutView",
       "align_content": null,
       "align_items": null,
       "align_self": null,
       "border": null,
       "bottom": null,
       "display": null,
       "flex": null,
       "flex_flow": null,
       "grid_area": null,
       "grid_auto_columns": null,
       "grid_auto_flow": null,
       "grid_auto_rows": null,
       "grid_column": null,
       "grid_gap": null,
       "grid_row": null,
       "grid_template_areas": null,
       "grid_template_columns": null,
       "grid_template_rows": null,
       "height": null,
       "justify_content": null,
       "justify_items": null,
       "left": null,
       "margin": null,
       "max_height": null,
       "max_width": null,
       "min_height": null,
       "min_width": null,
       "object_fit": null,
       "object_position": null,
       "order": null,
       "overflow": null,
       "overflow_x": null,
       "overflow_y": null,
       "padding": null,
       "right": null,
       "top": null,
       "visibility": null,
       "width": null
      }
     },
     "15facb29ae4f4297b9c237d203fda32a": {
      "model_module": "@jupyter-widgets/base",
      "model_module_version": "1.2.0",
      "model_name": "LayoutModel",
      "state": {
       "_model_module": "@jupyter-widgets/base",
       "_model_module_version": "1.2.0",
       "_model_name": "LayoutModel",
       "_view_count": null,
       "_view_module": "@jupyter-widgets/base",
       "_view_module_version": "1.2.0",
       "_view_name": "LayoutView",
       "align_content": null,
       "align_items": null,
       "align_self": null,
       "border": null,
       "bottom": null,
       "display": null,
       "flex": null,
       "flex_flow": null,
       "grid_area": null,
       "grid_auto_columns": null,
       "grid_auto_flow": null,
       "grid_auto_rows": null,
       "grid_column": null,
       "grid_gap": null,
       "grid_row": null,
       "grid_template_areas": null,
       "grid_template_columns": null,
       "grid_template_rows": null,
       "height": null,
       "justify_content": null,
       "justify_items": null,
       "left": null,
       "margin": null,
       "max_height": null,
       "max_width": null,
       "min_height": null,
       "min_width": null,
       "object_fit": null,
       "object_position": null,
       "order": null,
       "overflow": null,
       "overflow_x": null,
       "overflow_y": null,
       "padding": null,
       "right": null,
       "top": null,
       "visibility": null,
       "width": null
      }
     },
     "20f0e3203c3d4d749e56e3466c224e45": {
      "model_module": "@jupyter-widgets/base",
      "model_module_version": "1.2.0",
      "model_name": "LayoutModel",
      "state": {
       "_model_module": "@jupyter-widgets/base",
       "_model_module_version": "1.2.0",
       "_model_name": "LayoutModel",
       "_view_count": null,
       "_view_module": "@jupyter-widgets/base",
       "_view_module_version": "1.2.0",
       "_view_name": "LayoutView",
       "align_content": null,
       "align_items": null,
       "align_self": null,
       "border": null,
       "bottom": null,
       "display": null,
       "flex": null,
       "flex_flow": null,
       "grid_area": null,
       "grid_auto_columns": null,
       "grid_auto_flow": null,
       "grid_auto_rows": null,
       "grid_column": null,
       "grid_gap": null,
       "grid_row": null,
       "grid_template_areas": null,
       "grid_template_columns": null,
       "grid_template_rows": null,
       "height": null,
       "justify_content": null,
       "justify_items": null,
       "left": null,
       "margin": null,
       "max_height": null,
       "max_width": null,
       "min_height": null,
       "min_width": null,
       "object_fit": null,
       "object_position": null,
       "order": null,
       "overflow": null,
       "overflow_x": null,
       "overflow_y": null,
       "padding": null,
       "right": null,
       "top": null,
       "visibility": null,
       "width": null
      }
     },
     "21ee3f3853fe4442ac5f902d2803ddd9": {
      "model_module": "@jupyter-widgets/controls",
      "model_module_version": "1.5.0",
      "model_name": "HTMLModel",
      "state": {
       "_dom_classes": [],
       "_model_module": "@jupyter-widgets/controls",
       "_model_module_version": "1.5.0",
       "_model_name": "HTMLModel",
       "_view_count": null,
       "_view_module": "@jupyter-widgets/controls",
       "_view_module_version": "1.5.0",
       "_view_name": "HTMLView",
       "description": "",
       "description_tooltip": null,
       "layout": "IPY_MODEL_7123b54c7e3a4534ad58d80fa7d03e3d",
       "placeholder": "​",
       "style": "IPY_MODEL_ed4ebd4aa2a749319c1bb762b7c87560",
       "value": "Downloading (…)tencepiece.bpe.model: 100%"
      }
     },
     "22c221efcc6546a19f574cf718e99a73": {
      "model_module": "@jupyter-widgets/base",
      "model_module_version": "1.2.0",
      "model_name": "LayoutModel",
      "state": {
       "_model_module": "@jupyter-widgets/base",
       "_model_module_version": "1.2.0",
       "_model_name": "LayoutModel",
       "_view_count": null,
       "_view_module": "@jupyter-widgets/base",
       "_view_module_version": "1.2.0",
       "_view_name": "LayoutView",
       "align_content": null,
       "align_items": null,
       "align_self": null,
       "border": null,
       "bottom": null,
       "display": null,
       "flex": null,
       "flex_flow": null,
       "grid_area": null,
       "grid_auto_columns": null,
       "grid_auto_flow": null,
       "grid_auto_rows": null,
       "grid_column": null,
       "grid_gap": null,
       "grid_row": null,
       "grid_template_areas": null,
       "grid_template_columns": null,
       "grid_template_rows": null,
       "height": null,
       "justify_content": null,
       "justify_items": null,
       "left": null,
       "margin": null,
       "max_height": null,
       "max_width": null,
       "min_height": null,
       "min_width": null,
       "object_fit": null,
       "object_position": null,
       "order": null,
       "overflow": null,
       "overflow_x": null,
       "overflow_y": null,
       "padding": null,
       "right": null,
       "top": null,
       "visibility": null,
       "width": null
      }
     },
     "244c923a4f3f42d6a59a6bbcfb7a6c43": {
      "model_module": "@jupyter-widgets/base",
      "model_module_version": "1.2.0",
      "model_name": "LayoutModel",
      "state": {
       "_model_module": "@jupyter-widgets/base",
       "_model_module_version": "1.2.0",
       "_model_name": "LayoutModel",
       "_view_count": null,
       "_view_module": "@jupyter-widgets/base",
       "_view_module_version": "1.2.0",
       "_view_name": "LayoutView",
       "align_content": null,
       "align_items": null,
       "align_self": null,
       "border": null,
       "bottom": null,
       "display": null,
       "flex": null,
       "flex_flow": null,
       "grid_area": null,
       "grid_auto_columns": null,
       "grid_auto_flow": null,
       "grid_auto_rows": null,
       "grid_column": null,
       "grid_gap": null,
       "grid_row": null,
       "grid_template_areas": null,
       "grid_template_columns": null,
       "grid_template_rows": null,
       "height": null,
       "justify_content": null,
       "justify_items": null,
       "left": null,
       "margin": null,
       "max_height": null,
       "max_width": null,
       "min_height": null,
       "min_width": null,
       "object_fit": null,
       "object_position": null,
       "order": null,
       "overflow": null,
       "overflow_x": null,
       "overflow_y": null,
       "padding": null,
       "right": null,
       "top": null,
       "visibility": null,
       "width": null
      }
     },
     "257b304b380a4f62b80b7887d5f4bb4a": {
      "model_module": "@jupyter-widgets/controls",
      "model_module_version": "1.5.0",
      "model_name": "HBoxModel",
      "state": {
       "_dom_classes": [],
       "_model_module": "@jupyter-widgets/controls",
       "_model_module_version": "1.5.0",
       "_model_name": "HBoxModel",
       "_view_count": null,
       "_view_module": "@jupyter-widgets/controls",
       "_view_module_version": "1.5.0",
       "_view_name": "HBoxView",
       "box_style": "",
       "children": [
        "IPY_MODEL_063e714afbc940f3932343fb4a32ac87",
        "IPY_MODEL_3bc17913ae07461c80b621772a933a98",
        "IPY_MODEL_79e5cd3e2c3d4392ad6339f7a2247627"
       ],
       "layout": "IPY_MODEL_599825d5766e44dfa13b0a351d5c29ef"
      }
     },
     "27751bc9141f44c6bd0972e26008f7df": {
      "model_module": "@jupyter-widgets/base",
      "model_module_version": "1.2.0",
      "model_name": "LayoutModel",
      "state": {
       "_model_module": "@jupyter-widgets/base",
       "_model_module_version": "1.2.0",
       "_model_name": "LayoutModel",
       "_view_count": null,
       "_view_module": "@jupyter-widgets/base",
       "_view_module_version": "1.2.0",
       "_view_name": "LayoutView",
       "align_content": null,
       "align_items": null,
       "align_self": null,
       "border": null,
       "bottom": null,
       "display": null,
       "flex": null,
       "flex_flow": null,
       "grid_area": null,
       "grid_auto_columns": null,
       "grid_auto_flow": null,
       "grid_auto_rows": null,
       "grid_column": null,
       "grid_gap": null,
       "grid_row": null,
       "grid_template_areas": null,
       "grid_template_columns": null,
       "grid_template_rows": null,
       "height": null,
       "justify_content": null,
       "justify_items": null,
       "left": null,
       "margin": null,
       "max_height": null,
       "max_width": null,
       "min_height": null,
       "min_width": null,
       "object_fit": null,
       "object_position": null,
       "order": null,
       "overflow": null,
       "overflow_x": null,
       "overflow_y": null,
       "padding": null,
       "right": null,
       "top": null,
       "visibility": null,
       "width": null
      }
     },
     "32cd3a5993574ad5b95eddcee7051c74": {
      "model_module": "@jupyter-widgets/controls",
      "model_module_version": "1.5.0",
      "model_name": "HBoxModel",
      "state": {
       "_dom_classes": [],
       "_model_module": "@jupyter-widgets/controls",
       "_model_module_version": "1.5.0",
       "_model_name": "HBoxModel",
       "_view_count": null,
       "_view_module": "@jupyter-widgets/controls",
       "_view_module_version": "1.5.0",
       "_view_name": "HBoxView",
       "box_style": "",
       "children": [
        "IPY_MODEL_61a764e09988459bae975f3e117c03a5",
        "IPY_MODEL_ea3480d0421044bf80f4e50ffd28bba5",
        "IPY_MODEL_892d5cf5272e4e0180dd0c165f74bc70"
       ],
       "layout": "IPY_MODEL_59ee0ffb3eb54c6ba79543d0e00a32dd"
      }
     },
     "32dd23e59c7b4614837729778647c379": {
      "model_module": "@jupyter-widgets/controls",
      "model_module_version": "1.5.0",
      "model_name": "DescriptionStyleModel",
      "state": {
       "_model_module": "@jupyter-widgets/controls",
       "_model_module_version": "1.5.0",
       "_model_name": "DescriptionStyleModel",
       "_view_count": null,
       "_view_module": "@jupyter-widgets/base",
       "_view_module_version": "1.2.0",
       "_view_name": "StyleView",
       "description_width": ""
      }
     },
     "37837b4688e34694a116d277dd27ec46": {
      "model_module": "@jupyter-widgets/base",
      "model_module_version": "1.2.0",
      "model_name": "LayoutModel",
      "state": {
       "_model_module": "@jupyter-widgets/base",
       "_model_module_version": "1.2.0",
       "_model_name": "LayoutModel",
       "_view_count": null,
       "_view_module": "@jupyter-widgets/base",
       "_view_module_version": "1.2.0",
       "_view_name": "LayoutView",
       "align_content": null,
       "align_items": null,
       "align_self": null,
       "border": null,
       "bottom": null,
       "display": null,
       "flex": null,
       "flex_flow": null,
       "grid_area": null,
       "grid_auto_columns": null,
       "grid_auto_flow": null,
       "grid_auto_rows": null,
       "grid_column": null,
       "grid_gap": null,
       "grid_row": null,
       "grid_template_areas": null,
       "grid_template_columns": null,
       "grid_template_rows": null,
       "height": null,
       "justify_content": null,
       "justify_items": null,
       "left": null,
       "margin": null,
       "max_height": null,
       "max_width": null,
       "min_height": null,
       "min_width": null,
       "object_fit": null,
       "object_position": null,
       "order": null,
       "overflow": null,
       "overflow_x": null,
       "overflow_y": null,
       "padding": null,
       "right": null,
       "top": null,
       "visibility": null,
       "width": null
      }
     },
     "3bc17913ae07461c80b621772a933a98": {
      "model_module": "@jupyter-widgets/controls",
      "model_module_version": "1.5.0",
      "model_name": "FloatProgressModel",
      "state": {
       "_dom_classes": [],
       "_model_module": "@jupyter-widgets/controls",
       "_model_module_version": "1.5.0",
       "_model_name": "FloatProgressModel",
       "_view_count": null,
       "_view_module": "@jupyter-widgets/controls",
       "_view_module_version": "1.5.0",
       "_view_name": "ProgressView",
       "bar_style": "success",
       "description": "",
       "description_tooltip": null,
       "layout": "IPY_MODEL_0be8e328b21144dc9ee29f7066ab1a7c",
       "max": 150.0,
       "min": 0.0,
       "orientation": "horizontal",
       "style": "IPY_MODEL_a8e1e1e035064469a36627ae9699a7bd",
       "value": 150.0
      }
     },
     "51c547293f3b4b3182c1aed5d0a0f2a2": {
      "model_module": "@jupyter-widgets/controls",
      "model_module_version": "1.5.0",
      "model_name": "DescriptionStyleModel",
      "state": {
       "_model_module": "@jupyter-widgets/controls",
       "_model_module_version": "1.5.0",
       "_model_name": "DescriptionStyleModel",
       "_view_count": null,
       "_view_module": "@jupyter-widgets/base",
       "_view_module_version": "1.2.0",
       "_view_name": "StyleView",
       "description_width": ""
      }
     },
     "57c8e33dfe194e0c98de61c0149b6bb6": {
      "model_module": "@jupyter-widgets/controls",
      "model_module_version": "1.5.0",
      "model_name": "ProgressStyleModel",
      "state": {
       "_model_module": "@jupyter-widgets/controls",
       "_model_module_version": "1.5.0",
       "_model_name": "ProgressStyleModel",
       "_view_count": null,
       "_view_module": "@jupyter-widgets/base",
       "_view_module_version": "1.2.0",
       "_view_name": "StyleView",
       "bar_color": null,
       "description_width": ""
      }
     },
     "59414e07455446af8fca99cd74191a54": {
      "model_module": "@jupyter-widgets/controls",
      "model_module_version": "1.5.0",
      "model_name": "DescriptionStyleModel",
      "state": {
       "_model_module": "@jupyter-widgets/controls",
       "_model_module_version": "1.5.0",
       "_model_name": "DescriptionStyleModel",
       "_view_count": null,
       "_view_module": "@jupyter-widgets/base",
       "_view_module_version": "1.2.0",
       "_view_name": "StyleView",
       "description_width": ""
      }
     },
     "599825d5766e44dfa13b0a351d5c29ef": {
      "model_module": "@jupyter-widgets/base",
      "model_module_version": "1.2.0",
      "model_name": "LayoutModel",
      "state": {
       "_model_module": "@jupyter-widgets/base",
       "_model_module_version": "1.2.0",
       "_model_name": "LayoutModel",
       "_view_count": null,
       "_view_module": "@jupyter-widgets/base",
       "_view_module_version": "1.2.0",
       "_view_name": "LayoutView",
       "align_content": null,
       "align_items": null,
       "align_self": null,
       "border": null,
       "bottom": null,
       "display": null,
       "flex": null,
       "flex_flow": null,
       "grid_area": null,
       "grid_auto_columns": null,
       "grid_auto_flow": null,
       "grid_auto_rows": null,
       "grid_column": null,
       "grid_gap": null,
       "grid_row": null,
       "grid_template_areas": null,
       "grid_template_columns": null,
       "grid_template_rows": null,
       "height": null,
       "justify_content": null,
       "justify_items": null,
       "left": null,
       "margin": null,
       "max_height": null,
       "max_width": null,
       "min_height": null,
       "min_width": null,
       "object_fit": null,
       "object_position": null,
       "order": null,
       "overflow": null,
       "overflow_x": null,
       "overflow_y": null,
       "padding": null,
       "right": null,
       "top": null,
       "visibility": null,
       "width": null
      }
     },
     "59ee0ffb3eb54c6ba79543d0e00a32dd": {
      "model_module": "@jupyter-widgets/base",
      "model_module_version": "1.2.0",
      "model_name": "LayoutModel",
      "state": {
       "_model_module": "@jupyter-widgets/base",
       "_model_module_version": "1.2.0",
       "_model_name": "LayoutModel",
       "_view_count": null,
       "_view_module": "@jupyter-widgets/base",
       "_view_module_version": "1.2.0",
       "_view_name": "LayoutView",
       "align_content": null,
       "align_items": null,
       "align_self": null,
       "border": null,
       "bottom": null,
       "display": null,
       "flex": null,
       "flex_flow": null,
       "grid_area": null,
       "grid_auto_columns": null,
       "grid_auto_flow": null,
       "grid_auto_rows": null,
       "grid_column": null,
       "grid_gap": null,
       "grid_row": null,
       "grid_template_areas": null,
       "grid_template_columns": null,
       "grid_template_rows": null,
       "height": null,
       "justify_content": null,
       "justify_items": null,
       "left": null,
       "margin": null,
       "max_height": null,
       "max_width": null,
       "min_height": null,
       "min_width": null,
       "object_fit": null,
       "object_position": null,
       "order": null,
       "overflow": null,
       "overflow_x": null,
       "overflow_y": null,
       "padding": null,
       "right": null,
       "top": null,
       "visibility": null,
       "width": null
      }
     },
     "61a764e09988459bae975f3e117c03a5": {
      "model_module": "@jupyter-widgets/controls",
      "model_module_version": "1.5.0",
      "model_name": "HTMLModel",
      "state": {
       "_dom_classes": [],
       "_model_module": "@jupyter-widgets/controls",
       "_model_module_version": "1.5.0",
       "_model_name": "HTMLModel",
       "_view_count": null,
       "_view_module": "@jupyter-widgets/controls",
       "_view_module_version": "1.5.0",
       "_view_name": "HTMLView",
       "description": "",
       "description_tooltip": null,
       "layout": "IPY_MODEL_106581c8ee324df0bf9aebcb8fea39e3",
       "placeholder": "​",
       "style": "IPY_MODEL_d2099131a91e486ba456099df6f2be46",
       "value": "Downloading config.json: 100%"
      }
     },
     "7007039c0e0b4fe1b2c01b8e12087a93": {
      "model_module": "@jupyter-widgets/base",
      "model_module_version": "1.2.0",
      "model_name": "LayoutModel",
      "state": {
       "_model_module": "@jupyter-widgets/base",
       "_model_module_version": "1.2.0",
       "_model_name": "LayoutModel",
       "_view_count": null,
       "_view_module": "@jupyter-widgets/base",
       "_view_module_version": "1.2.0",
       "_view_name": "LayoutView",
       "align_content": null,
       "align_items": null,
       "align_self": null,
       "border": null,
       "bottom": null,
       "display": null,
       "flex": null,
       "flex_flow": null,
       "grid_area": null,
       "grid_auto_columns": null,
       "grid_auto_flow": null,
       "grid_auto_rows": null,
       "grid_column": null,
       "grid_gap": null,
       "grid_row": null,
       "grid_template_areas": null,
       "grid_template_columns": null,
       "grid_template_rows": null,
       "height": null,
       "justify_content": null,
       "justify_items": null,
       "left": null,
       "margin": null,
       "max_height": null,
       "max_width": null,
       "min_height": null,
       "min_width": null,
       "object_fit": null,
       "object_position": null,
       "order": null,
       "overflow": null,
       "overflow_x": null,
       "overflow_y": null,
       "padding": null,
       "right": null,
       "top": null,
       "visibility": null,
       "width": null
      }
     },
     "7123b54c7e3a4534ad58d80fa7d03e3d": {
      "model_module": "@jupyter-widgets/base",
      "model_module_version": "1.2.0",
      "model_name": "LayoutModel",
      "state": {
       "_model_module": "@jupyter-widgets/base",
       "_model_module_version": "1.2.0",
       "_model_name": "LayoutModel",
       "_view_count": null,
       "_view_module": "@jupyter-widgets/base",
       "_view_module_version": "1.2.0",
       "_view_name": "LayoutView",
       "align_content": null,
       "align_items": null,
       "align_self": null,
       "border": null,
       "bottom": null,
       "display": null,
       "flex": null,
       "flex_flow": null,
       "grid_area": null,
       "grid_auto_columns": null,
       "grid_auto_flow": null,
       "grid_auto_rows": null,
       "grid_column": null,
       "grid_gap": null,
       "grid_row": null,
       "grid_template_areas": null,
       "grid_template_columns": null,
       "grid_template_rows": null,
       "height": null,
       "justify_content": null,
       "justify_items": null,
       "left": null,
       "margin": null,
       "max_height": null,
       "max_width": null,
       "min_height": null,
       "min_width": null,
       "object_fit": null,
       "object_position": null,
       "order": null,
       "overflow": null,
       "overflow_x": null,
       "overflow_y": null,
       "padding": null,
       "right": null,
       "top": null,
       "visibility": null,
       "width": null
      }
     },
     "7328a5d3886b4897a927f49a56548d1a": {
      "model_module": "@jupyter-widgets/controls",
      "model_module_version": "1.5.0",
      "model_name": "HBoxModel",
      "state": {
       "_dom_classes": [],
       "_model_module": "@jupyter-widgets/controls",
       "_model_module_version": "1.5.0",
       "_model_name": "HBoxModel",
       "_view_count": null,
       "_view_module": "@jupyter-widgets/controls",
       "_view_module_version": "1.5.0",
       "_view_name": "HBoxView",
       "box_style": "",
       "children": [
        "IPY_MODEL_7c732a408a244f9db7e244541e123013",
        "IPY_MODEL_8c508d5d54b94fd480812582d1a02a57",
        "IPY_MODEL_b84f9f5380184a998ad944c7ba56073d"
       ],
       "layout": "IPY_MODEL_27751bc9141f44c6bd0972e26008f7df"
      }
     },
     "79e5cd3e2c3d4392ad6339f7a2247627": {
      "model_module": "@jupyter-widgets/controls",
      "model_module_version": "1.5.0",
      "model_name": "HTMLModel",
      "state": {
       "_dom_classes": [],
       "_model_module": "@jupyter-widgets/controls",
       "_model_module_version": "1.5.0",
       "_model_name": "HTMLModel",
       "_view_count": null,
       "_view_module": "@jupyter-widgets/controls",
       "_view_module_version": "1.5.0",
       "_view_name": "HTMLView",
       "description": "",
       "description_tooltip": null,
       "layout": "IPY_MODEL_22c221efcc6546a19f574cf718e99a73",
       "placeholder": "​",
       "style": "IPY_MODEL_e60ca355188e422892f58b5624ce2f4a",
       "value": " 150/150 [00:00&lt;00:00, 13.0kB/s]"
      }
     },
     "7c732a408a244f9db7e244541e123013": {
      "model_module": "@jupyter-widgets/controls",
      "model_module_version": "1.5.0",
      "model_name": "HTMLModel",
      "state": {
       "_dom_classes": [],
       "_model_module": "@jupyter-widgets/controls",
       "_model_module_version": "1.5.0",
       "_model_name": "HTMLModel",
       "_view_count": null,
       "_view_module": "@jupyter-widgets/controls",
       "_view_module_version": "1.5.0",
       "_view_name": "HTMLView",
       "description": "",
       "description_tooltip": null,
       "layout": "IPY_MODEL_8ce32407414b4c9795cb6ec3d03fd6aa",
       "placeholder": "​",
       "style": "IPY_MODEL_51c547293f3b4b3182c1aed5d0a0f2a2",
       "value": "Downloading pytorch_model.bin: 100%"
      }
     },
     "88b375d516e94d7a937ab47e9871beeb": {
      "model_module": "@jupyter-widgets/controls",
      "model_module_version": "1.5.0",
      "model_name": "DescriptionStyleModel",
      "state": {
       "_model_module": "@jupyter-widgets/controls",
       "_model_module_version": "1.5.0",
       "_model_name": "DescriptionStyleModel",
       "_view_count": null,
       "_view_module": "@jupyter-widgets/base",
       "_view_module_version": "1.2.0",
       "_view_name": "StyleView",
       "description_width": ""
      }
     },
     "892d5cf5272e4e0180dd0c165f74bc70": {
      "model_module": "@jupyter-widgets/controls",
      "model_module_version": "1.5.0",
      "model_name": "HTMLModel",
      "state": {
       "_dom_classes": [],
       "_model_module": "@jupyter-widgets/controls",
       "_model_module_version": "1.5.0",
       "_model_name": "HTMLModel",
       "_view_count": null,
       "_view_module": "@jupyter-widgets/controls",
       "_view_module_version": "1.5.0",
       "_view_name": "HTMLView",
       "description": "",
       "description_tooltip": null,
       "layout": "IPY_MODEL_37837b4688e34694a116d277dd27ec46",
       "placeholder": "​",
       "style": "IPY_MODEL_88b375d516e94d7a937ab47e9871beeb",
       "value": " 841/841 [00:00&lt;00:00, 75.6kB/s]"
      }
     },
     "8c508d5d54b94fd480812582d1a02a57": {
      "model_module": "@jupyter-widgets/controls",
      "model_module_version": "1.5.0",
      "model_name": "FloatProgressModel",
      "state": {
       "_dom_classes": [],
       "_model_module": "@jupyter-widgets/controls",
       "_model_module_version": "1.5.0",
       "_model_name": "FloatProgressModel",
       "_view_count": null,
       "_view_module": "@jupyter-widgets/controls",
       "_view_module_version": "1.5.0",
       "_view_name": "ProgressView",
       "bar_style": "success",
       "description": "",
       "description_tooltip": null,
       "layout": "IPY_MODEL_bc0c6943480a498d94aa0d8ee4437372",
       "max": 1112271561.0,
       "min": 0.0,
       "orientation": "horizontal",
       "style": "IPY_MODEL_0e3374a321084fe4809e0075d0d88523",
       "value": 1112271561.0
      }
     },
     "8ce32407414b4c9795cb6ec3d03fd6aa": {
      "model_module": "@jupyter-widgets/base",
      "model_module_version": "1.2.0",
      "model_name": "LayoutModel",
      "state": {
       "_model_module": "@jupyter-widgets/base",
       "_model_module_version": "1.2.0",
       "_model_name": "LayoutModel",
       "_view_count": null,
       "_view_module": "@jupyter-widgets/base",
       "_view_module_version": "1.2.0",
       "_view_name": "LayoutView",
       "align_content": null,
       "align_items": null,
       "align_self": null,
       "border": null,
       "bottom": null,
       "display": null,
       "flex": null,
       "flex_flow": null,
       "grid_area": null,
       "grid_auto_columns": null,
       "grid_auto_flow": null,
       "grid_auto_rows": null,
       "grid_column": null,
       "grid_gap": null,
       "grid_row": null,
       "grid_template_areas": null,
       "grid_template_columns": null,
       "grid_template_rows": null,
       "height": null,
       "justify_content": null,
       "justify_items": null,
       "left": null,
       "margin": null,
       "max_height": null,
       "max_width": null,
       "min_height": null,
       "min_width": null,
       "object_fit": null,
       "object_position": null,
       "order": null,
       "overflow": null,
       "overflow_x": null,
       "overflow_y": null,
       "padding": null,
       "right": null,
       "top": null,
       "visibility": null,
       "width": null
      }
     },
     "a3421dc0db8e4deebed9865172f8cd01": {
      "model_module": "@jupyter-widgets/controls",
      "model_module_version": "1.5.0",
      "model_name": "ProgressStyleModel",
      "state": {
       "_model_module": "@jupyter-widgets/controls",
       "_model_module_version": "1.5.0",
       "_model_name": "ProgressStyleModel",
       "_view_count": null,
       "_view_module": "@jupyter-widgets/base",
       "_view_module_version": "1.2.0",
       "_view_name": "StyleView",
       "bar_color": null,
       "description_width": ""
      }
     },
     "a674a9172191439cac2aae993372ffd2": {
      "model_module": "@jupyter-widgets/controls",
      "model_module_version": "1.5.0",
      "model_name": "DescriptionStyleModel",
      "state": {
       "_model_module": "@jupyter-widgets/controls",
       "_model_module_version": "1.5.0",
       "_model_name": "DescriptionStyleModel",
       "_view_count": null,
       "_view_module": "@jupyter-widgets/base",
       "_view_module_version": "1.2.0",
       "_view_name": "StyleView",
       "description_width": ""
      }
     },
     "a8e1e1e035064469a36627ae9699a7bd": {
      "model_module": "@jupyter-widgets/controls",
      "model_module_version": "1.5.0",
      "model_name": "ProgressStyleModel",
      "state": {
       "_model_module": "@jupyter-widgets/controls",
       "_model_module_version": "1.5.0",
       "_model_name": "ProgressStyleModel",
       "_view_count": null,
       "_view_module": "@jupyter-widgets/base",
       "_view_module_version": "1.2.0",
       "_view_name": "StyleView",
       "bar_color": null,
       "description_width": ""
      }
     },
     "b84f9f5380184a998ad944c7ba56073d": {
      "model_module": "@jupyter-widgets/controls",
      "model_module_version": "1.5.0",
      "model_name": "HTMLModel",
      "state": {
       "_dom_classes": [],
       "_model_module": "@jupyter-widgets/controls",
       "_model_module_version": "1.5.0",
       "_model_name": "HTMLModel",
       "_view_count": null,
       "_view_module": "@jupyter-widgets/controls",
       "_view_module_version": "1.5.0",
       "_view_name": "HTMLView",
       "description": "",
       "description_tooltip": null,
       "layout": "IPY_MODEL_d9273460a4744ceab8d304ad93878cf5",
       "placeholder": "​",
       "style": "IPY_MODEL_32dd23e59c7b4614837729778647c379",
       "value": " 1.11G/1.11G [00:04&lt;00:00, 224MB/s]"
      }
     },
     "bc0c6943480a498d94aa0d8ee4437372": {
      "model_module": "@jupyter-widgets/base",
      "model_module_version": "1.2.0",
      "model_name": "LayoutModel",
      "state": {
       "_model_module": "@jupyter-widgets/base",
       "_model_module_version": "1.2.0",
       "_model_name": "LayoutModel",
       "_view_count": null,
       "_view_module": "@jupyter-widgets/base",
       "_view_module_version": "1.2.0",
       "_view_name": "LayoutView",
       "align_content": null,
       "align_items": null,
       "align_self": null,
       "border": null,
       "bottom": null,
       "display": null,
       "flex": null,
       "flex_flow": null,
       "grid_area": null,
       "grid_auto_columns": null,
       "grid_auto_flow": null,
       "grid_auto_rows": null,
       "grid_column": null,
       "grid_gap": null,
       "grid_row": null,
       "grid_template_areas": null,
       "grid_template_columns": null,
       "grid_template_rows": null,
       "height": null,
       "justify_content": null,
       "justify_items": null,
       "left": null,
       "margin": null,
       "max_height": null,
       "max_width": null,
       "min_height": null,
       "min_width": null,
       "object_fit": null,
       "object_position": null,
       "order": null,
       "overflow": null,
       "overflow_x": null,
       "overflow_y": null,
       "padding": null,
       "right": null,
       "top": null,
       "visibility": null,
       "width": null
      }
     },
     "bee902ebce8c4bdf933fd752ce2f7c5f": {
      "model_module": "@jupyter-widgets/base",
      "model_module_version": "1.2.0",
      "model_name": "LayoutModel",
      "state": {
       "_model_module": "@jupyter-widgets/base",
       "_model_module_version": "1.2.0",
       "_model_name": "LayoutModel",
       "_view_count": null,
       "_view_module": "@jupyter-widgets/base",
       "_view_module_version": "1.2.0",
       "_view_name": "LayoutView",
       "align_content": null,
       "align_items": null,
       "align_self": null,
       "border": null,
       "bottom": null,
       "display": null,
       "flex": null,
       "flex_flow": null,
       "grid_area": null,
       "grid_auto_columns": null,
       "grid_auto_flow": null,
       "grid_auto_rows": null,
       "grid_column": null,
       "grid_gap": null,
       "grid_row": null,
       "grid_template_areas": null,
       "grid_template_columns": null,
       "grid_template_rows": null,
       "height": null,
       "justify_content": null,
       "justify_items": null,
       "left": null,
       "margin": null,
       "max_height": null,
       "max_width": null,
       "min_height": null,
       "min_width": null,
       "object_fit": null,
       "object_position": null,
       "order": null,
       "overflow": null,
       "overflow_x": null,
       "overflow_y": null,
       "padding": null,
       "right": null,
       "top": null,
       "visibility": null,
       "width": null
      }
     },
     "c017f8eac1414f1cbf3353aef1a8c349": {
      "model_module": "@jupyter-widgets/controls",
      "model_module_version": "1.5.0",
      "model_name": "FloatProgressModel",
      "state": {
       "_dom_classes": [],
       "_model_module": "@jupyter-widgets/controls",
       "_model_module_version": "1.5.0",
       "_model_name": "FloatProgressModel",
       "_view_count": null,
       "_view_module": "@jupyter-widgets/controls",
       "_view_module_version": "1.5.0",
       "_view_name": "ProgressView",
       "bar_style": "success",
       "description": "",
       "description_tooltip": null,
       "layout": "IPY_MODEL_bee902ebce8c4bdf933fd752ce2f7c5f",
       "max": 5069051.0,
       "min": 0.0,
       "orientation": "horizontal",
       "style": "IPY_MODEL_57c8e33dfe194e0c98de61c0149b6bb6",
       "value": 5069051.0
      }
     },
     "cbe2045f7a9b429fbf535478dac834da": {
      "model_module": "@jupyter-widgets/controls",
      "model_module_version": "1.5.0",
      "model_name": "HTMLModel",
      "state": {
       "_dom_classes": [],
       "_model_module": "@jupyter-widgets/controls",
       "_model_module_version": "1.5.0",
       "_model_name": "HTMLModel",
       "_view_count": null,
       "_view_module": "@jupyter-widgets/controls",
       "_view_module_version": "1.5.0",
       "_view_name": "HTMLView",
       "description": "",
       "description_tooltip": null,
       "layout": "IPY_MODEL_15facb29ae4f4297b9c237d203fda32a",
       "placeholder": "​",
       "style": "IPY_MODEL_a674a9172191439cac2aae993372ffd2",
       "value": " 5.07M/5.07M [00:00&lt;00:00, 19.8MB/s]"
      }
     },
     "d2099131a91e486ba456099df6f2be46": {
      "model_module": "@jupyter-widgets/controls",
      "model_module_version": "1.5.0",
      "model_name": "DescriptionStyleModel",
      "state": {
       "_model_module": "@jupyter-widgets/controls",
       "_model_module_version": "1.5.0",
       "_model_name": "DescriptionStyleModel",
       "_view_count": null,
       "_view_module": "@jupyter-widgets/base",
       "_view_module_version": "1.2.0",
       "_view_name": "StyleView",
       "description_width": ""
      }
     },
     "d9273460a4744ceab8d304ad93878cf5": {
      "model_module": "@jupyter-widgets/base",
      "model_module_version": "1.2.0",
      "model_name": "LayoutModel",
      "state": {
       "_model_module": "@jupyter-widgets/base",
       "_model_module_version": "1.2.0",
       "_model_name": "LayoutModel",
       "_view_count": null,
       "_view_module": "@jupyter-widgets/base",
       "_view_module_version": "1.2.0",
       "_view_name": "LayoutView",
       "align_content": null,
       "align_items": null,
       "align_self": null,
       "border": null,
       "bottom": null,
       "display": null,
       "flex": null,
       "flex_flow": null,
       "grid_area": null,
       "grid_auto_columns": null,
       "grid_auto_flow": null,
       "grid_auto_rows": null,
       "grid_column": null,
       "grid_gap": null,
       "grid_row": null,
       "grid_template_areas": null,
       "grid_template_columns": null,
       "grid_template_rows": null,
       "height": null,
       "justify_content": null,
       "justify_items": null,
       "left": null,
       "margin": null,
       "max_height": null,
       "max_width": null,
       "min_height": null,
       "min_width": null,
       "object_fit": null,
       "object_position": null,
       "order": null,
       "overflow": null,
       "overflow_x": null,
       "overflow_y": null,
       "padding": null,
       "right": null,
       "top": null,
       "visibility": null,
       "width": null
      }
     },
     "e60ca355188e422892f58b5624ce2f4a": {
      "model_module": "@jupyter-widgets/controls",
      "model_module_version": "1.5.0",
      "model_name": "DescriptionStyleModel",
      "state": {
       "_model_module": "@jupyter-widgets/controls",
       "_model_module_version": "1.5.0",
       "_model_name": "DescriptionStyleModel",
       "_view_count": null,
       "_view_module": "@jupyter-widgets/base",
       "_view_module_version": "1.2.0",
       "_view_name": "StyleView",
       "description_width": ""
      }
     },
     "e7af92be74c14219b276b1d73b0b6cbb": {
      "model_module": "@jupyter-widgets/controls",
      "model_module_version": "1.5.0",
      "model_name": "HBoxModel",
      "state": {
       "_dom_classes": [],
       "_model_module": "@jupyter-widgets/controls",
       "_model_module_version": "1.5.0",
       "_model_name": "HBoxModel",
       "_view_count": null,
       "_view_module": "@jupyter-widgets/controls",
       "_view_module_version": "1.5.0",
       "_view_name": "HBoxView",
       "box_style": "",
       "children": [
        "IPY_MODEL_21ee3f3853fe4442ac5f902d2803ddd9",
        "IPY_MODEL_c017f8eac1414f1cbf3353aef1a8c349",
        "IPY_MODEL_cbe2045f7a9b429fbf535478dac834da"
       ],
       "layout": "IPY_MODEL_7007039c0e0b4fe1b2c01b8e12087a93"
      }
     },
     "ea3480d0421044bf80f4e50ffd28bba5": {
      "model_module": "@jupyter-widgets/controls",
      "model_module_version": "1.5.0",
      "model_name": "FloatProgressModel",
      "state": {
       "_dom_classes": [],
       "_model_module": "@jupyter-widgets/controls",
       "_model_module_version": "1.5.0",
       "_model_name": "FloatProgressModel",
       "_view_count": null,
       "_view_module": "@jupyter-widgets/controls",
       "_view_module_version": "1.5.0",
       "_view_name": "ProgressView",
       "bar_style": "success",
       "description": "",
       "description_tooltip": null,
       "layout": "IPY_MODEL_20f0e3203c3d4d749e56e3466c224e45",
       "max": 841.0,
       "min": 0.0,
       "orientation": "horizontal",
       "style": "IPY_MODEL_a3421dc0db8e4deebed9865172f8cd01",
       "value": 841.0
      }
     },
     "ed4ebd4aa2a749319c1bb762b7c87560": {
      "model_module": "@jupyter-widgets/controls",
      "model_module_version": "1.5.0",
      "model_name": "DescriptionStyleModel",
      "state": {
       "_model_module": "@jupyter-widgets/controls",
       "_model_module_version": "1.5.0",
       "_model_name": "DescriptionStyleModel",
       "_view_count": null,
       "_view_module": "@jupyter-widgets/base",
       "_view_module_version": "1.2.0",
       "_view_name": "StyleView",
       "description_width": ""
      }
     }
    },
    "version_major": 2,
    "version_minor": 0
   }
  }
 },
 "nbformat": 4,
 "nbformat_minor": 5
}
