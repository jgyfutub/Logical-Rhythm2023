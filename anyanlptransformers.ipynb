{
 "cells": [
  {
   "cell_type": "markdown",
   "id": "8aab1327",
   "metadata": {
    "papermill": {
     "duration": 0.010577,
     "end_time": "2023-11-12T11:53:23.900366",
     "exception": false,
     "start_time": "2023-11-12T11:53:23.889789",
     "status": "completed"
    },
    "tags": []
   },
   "source": [
    "# ****Importing Models****"
   ]
  },
  {
   "cell_type": "code",
   "execution_count": 1,
   "id": "efa463ae",
   "metadata": {
    "_cell_guid": "b1076dfc-b9ad-4769-8c92-a6c4dae69d19",
    "_uuid": "8f2839f25d086af736a60e9eeb907d3b93b6e0e5",
    "execution": {
     "iopub.execute_input": "2023-11-12T11:53:23.923429Z",
     "iopub.status.busy": "2023-11-12T11:53:23.922678Z",
     "iopub.status.idle": "2023-11-12T11:53:38.586531Z",
     "shell.execute_reply": "2023-11-12T11:53:38.585417Z"
    },
    "papermill": {
     "duration": 14.67936,
     "end_time": "2023-11-12T11:53:38.589944",
     "exception": false,
     "start_time": "2023-11-12T11:53:23.910584",
     "status": "completed"
    },
    "tags": []
   },
   "outputs": [],
   "source": [
    "import pandas as pd\n",
    "import numpy as np\n",
    "from tensorflow.keras.preprocessing.text import Tokenizer\n",
    "from transformers import AutoTokenizer,AutoModelForSequenceClassification\n",
    "from tensorflow.keras.layers import Dense,Input,GlobalMaxPooling1D,LSTM,Embedding,Conv1D,Flatten\n",
    "from tensorflow.keras.models import Model\n",
    "from tensorflow.keras.preprocessing.sequence import pad_sequences\n",
    "from sklearn.tree import DecisionTreeClassifier\n",
    "import matplotlib.pyplot as plt\n",
    "from sklearn.metrics import confusion_matrix \n",
    "from sklearn.metrics import f1_score\n",
    "from sklearn.model_selection import train_test_split\n",
    "from sklearn.preprocessing import OrdinalEncoder\n",
    "from sklearn.ensemble import RandomForestClassifier\n",
    "from sklearn.preprocessing import StandardScaler\n",
    "from catboost import CatBoostClassifier\n",
    "import seaborn as sns"
   ]
  },
  {
   "cell_type": "markdown",
   "id": "f847c5f9",
   "metadata": {
    "papermill": {
     "duration": 0.013342,
     "end_time": "2023-11-12T11:53:38.617524",
     "exception": false,
     "start_time": "2023-11-12T11:53:38.604182",
     "status": "completed"
    },
    "tags": []
   },
   "source": [
    "# ****Training data review****"
   ]
  },
  {
   "cell_type": "code",
   "execution_count": 2,
   "id": "3b00f2fc",
   "metadata": {
    "execution": {
     "iopub.execute_input": "2023-11-12T11:53:38.644093Z",
     "iopub.status.busy": "2023-11-12T11:53:38.643424Z",
     "iopub.status.idle": "2023-11-12T11:53:38.730534Z",
     "shell.execute_reply": "2023-11-12T11:53:38.729111Z"
    },
    "papermill": {
     "duration": 0.103727,
     "end_time": "2023-11-12T11:53:38.734132",
     "exception": false,
     "start_time": "2023-11-12T11:53:38.630405",
     "status": "completed"
    },
    "tags": []
   },
   "outputs": [
    {
     "data": {
      "text/html": [
       "<div>\n",
       "<style scoped>\n",
       "    .dataframe tbody tr th:only-of-type {\n",
       "        vertical-align: middle;\n",
       "    }\n",
       "\n",
       "    .dataframe tbody tr th {\n",
       "        vertical-align: top;\n",
       "    }\n",
       "\n",
       "    .dataframe thead th {\n",
       "        text-align: right;\n",
       "    }\n",
       "</style>\n",
       "<table border=\"1\" class=\"dataframe\">\n",
       "  <thead>\n",
       "    <tr style=\"text-align: right;\">\n",
       "      <th></th>\n",
       "      <th>date</th>\n",
       "      <th>time</th>\n",
       "      <th>id</th>\n",
       "      <th>reviewer name</th>\n",
       "      <th>reviewer address</th>\n",
       "      <th>contact number</th>\n",
       "      <th>variation</th>\n",
       "      <th>verified_reviews</th>\n",
       "      <th>sentiment</th>\n",
       "      <th>feedback</th>\n",
       "    </tr>\n",
       "  </thead>\n",
       "  <tbody>\n",
       "    <tr>\n",
       "      <th>0</th>\n",
       "      <td>30-Jul-18</td>\n",
       "      <td>02:16:00</td>\n",
       "      <td>5138527</td>\n",
       "      <td>Theresa Diaz</td>\n",
       "      <td>2373 Long Mews\\nSouth Lorraine, FL 83715</td>\n",
       "      <td>7445448464</td>\n",
       "      <td>Black  Plus</td>\n",
       "      <td>Love my new Echo Plus</td>\n",
       "      <td>5</td>\n",
       "      <td>1</td>\n",
       "    </tr>\n",
       "    <tr>\n",
       "      <th>1</th>\n",
       "      <td>30-Jul-18</td>\n",
       "      <td>20:13:24</td>\n",
       "      <td>7881409</td>\n",
       "      <td>Michael Wagner</td>\n",
       "      <td>34120 James Well Apt. 930\\nSouth Kenneth, AK 5...</td>\n",
       "      <td>(202)233-6662</td>\n",
       "      <td>Configuration: Fire TV Stick</td>\n",
       "      <td>Works really well.</td>\n",
       "      <td>5</td>\n",
       "      <td>1</td>\n",
       "    </tr>\n",
       "    <tr>\n",
       "      <th>2</th>\n",
       "      <td>29-Jul-18</td>\n",
       "      <td>03:20:48</td>\n",
       "      <td>5658396</td>\n",
       "      <td>Erin Rodriguez</td>\n",
       "      <td>7996 Booth Mission\\nTaylorport, AL 13457</td>\n",
       "      <td>(219)882-0705</td>\n",
       "      <td>Black  Show</td>\n",
       "      <td>Echo Show is said to work with certain apps bu...</td>\n",
       "      <td>2</td>\n",
       "      <td>0</td>\n",
       "    </tr>\n",
       "    <tr>\n",
       "      <th>3</th>\n",
       "      <td>30-Jul-18</td>\n",
       "      <td>22:48:21</td>\n",
       "      <td>4317957</td>\n",
       "      <td>Christine Perez</td>\n",
       "      <td>USS Schaefer\\nFPO AA 86432</td>\n",
       "      <td>291-900-6087</td>\n",
       "      <td>Heather Gray Fabric</td>\n",
       "      <td>Very cool product. Speaker sounds good with my...</td>\n",
       "      <td>5</td>\n",
       "      <td>1</td>\n",
       "    </tr>\n",
       "    <tr>\n",
       "      <th>4</th>\n",
       "      <td>23-Jul-18</td>\n",
       "      <td>12:36:42</td>\n",
       "      <td>7570569</td>\n",
       "      <td>Jamie Davila</td>\n",
       "      <td>000 Kevin Cliffs Suite 674\\nBrennanview, NM 77690</td>\n",
       "      <td>9527296610</td>\n",
       "      <td>Black  Plus</td>\n",
       "      <td>So far I love it.  It was easy to set up - if ...</td>\n",
       "      <td>5</td>\n",
       "      <td>1</td>\n",
       "    </tr>\n",
       "  </tbody>\n",
       "</table>\n",
       "</div>"
      ],
      "text/plain": [
       "        date      time       id    reviewer name  \\\n",
       "0  30-Jul-18  02:16:00  5138527     Theresa Diaz   \n",
       "1  30-Jul-18  20:13:24  7881409   Michael Wagner   \n",
       "2  29-Jul-18  03:20:48  5658396   Erin Rodriguez   \n",
       "3  30-Jul-18  22:48:21  4317957  Christine Perez   \n",
       "4  23-Jul-18  12:36:42  7570569     Jamie Davila   \n",
       "\n",
       "                                    reviewer address contact number  \\\n",
       "0           2373 Long Mews\\nSouth Lorraine, FL 83715     7445448464   \n",
       "1  34120 James Well Apt. 930\\nSouth Kenneth, AK 5...  (202)233-6662   \n",
       "2           7996 Booth Mission\\nTaylorport, AL 13457  (219)882-0705   \n",
       "3                         USS Schaefer\\nFPO AA 86432   291-900-6087   \n",
       "4  000 Kevin Cliffs Suite 674\\nBrennanview, NM 77690     9527296610   \n",
       "\n",
       "                      variation  \\\n",
       "0                   Black  Plus   \n",
       "1  Configuration: Fire TV Stick   \n",
       "2                   Black  Show   \n",
       "3          Heather Gray Fabric    \n",
       "4                   Black  Plus   \n",
       "\n",
       "                                    verified_reviews  sentiment  feedback  \n",
       "0                              Love my new Echo Plus          5         1  \n",
       "1                                 Works really well.          5         1  \n",
       "2  Echo Show is said to work with certain apps bu...          2         0  \n",
       "3  Very cool product. Speaker sounds good with my...          5         1  \n",
       "4  So far I love it.  It was easy to set up - if ...          5         1  "
      ]
     },
     "execution_count": 2,
     "metadata": {},
     "output_type": "execute_result"
    }
   ],
   "source": [
    "train_data=pd.read_csv('/kaggle/input/anyas-gojo-revival-space-shop/train.tsv', sep='\\t')\n",
    "train_data.head()"
   ]
  },
  {
   "cell_type": "code",
   "execution_count": 3,
   "id": "68f2f2cb",
   "metadata": {
    "execution": {
     "iopub.execute_input": "2023-11-12T11:53:38.760597Z",
     "iopub.status.busy": "2023-11-12T11:53:38.760217Z",
     "iopub.status.idle": "2023-11-12T11:53:38.775548Z",
     "shell.execute_reply": "2023-11-12T11:53:38.774363Z"
    },
    "papermill": {
     "duration": 0.031512,
     "end_time": "2023-11-12T11:53:38.778243",
     "exception": false,
     "start_time": "2023-11-12T11:53:38.746731",
     "status": "completed"
    },
    "tags": []
   },
   "outputs": [
    {
     "data": {
      "text/plain": [
       "date                0\n",
       "time                0\n",
       "id                  0\n",
       "reviewer name       0\n",
       "reviewer address    0\n",
       "contact number      0\n",
       "variation           0\n",
       "verified_reviews    1\n",
       "sentiment           0\n",
       "feedback            0\n",
       "dtype: int64"
      ]
     },
     "execution_count": 3,
     "metadata": {},
     "output_type": "execute_result"
    }
   ],
   "source": [
    "train_data.isnull().sum()"
   ]
  },
  {
   "cell_type": "code",
   "execution_count": 4,
   "id": "6b7d1cd9",
   "metadata": {
    "execution": {
     "iopub.execute_input": "2023-11-12T11:53:38.803123Z",
     "iopub.status.busy": "2023-11-12T11:53:38.802592Z",
     "iopub.status.idle": "2023-11-12T11:53:38.811563Z",
     "shell.execute_reply": "2023-11-12T11:53:38.810131Z"
    },
    "papermill": {
     "duration": 0.024704,
     "end_time": "2023-11-12T11:53:38.814176",
     "exception": false,
     "start_time": "2023-11-12T11:53:38.789472",
     "status": "completed"
    },
    "tags": []
   },
   "outputs": [],
   "source": [
    "train_data.fillna({\"verified_reviews\":\"no review\"}, inplace=True)"
   ]
  },
  {
   "cell_type": "markdown",
   "id": "ab5eadc0",
   "metadata": {
    "papermill": {
     "duration": 0.010168,
     "end_time": "2023-11-12T11:53:38.835284",
     "exception": false,
     "start_time": "2023-11-12T11:53:38.825116",
     "status": "completed"
    },
    "tags": []
   },
   "source": [
    "# ****Downloading RoBERTa transformer model****"
   ]
  },
  {
   "cell_type": "code",
   "execution_count": 5,
   "id": "894f4ed3",
   "metadata": {
    "execution": {
     "iopub.execute_input": "2023-11-12T11:53:38.859388Z",
     "iopub.status.busy": "2023-11-12T11:53:38.858521Z",
     "iopub.status.idle": "2023-11-12T11:53:50.462306Z",
     "shell.execute_reply": "2023-11-12T11:53:50.461446Z"
    },
    "papermill": {
     "duration": 11.61924,
     "end_time": "2023-11-12T11:53:50.465249",
     "exception": false,
     "start_time": "2023-11-12T11:53:38.846009",
     "status": "completed"
    },
    "tags": []
   },
   "outputs": [
    {
     "data": {
      "application/vnd.jupyter.widget-view+json": {
       "model_id": "5d4287e31fa44e148803db27da1d67b9",
       "version_major": 2,
       "version_minor": 0
      },
      "text/plain": [
       "Downloading (…)lve/main/config.json:   0%|          | 0.00/747 [00:00<?, ?B/s]"
      ]
     },
     "metadata": {},
     "output_type": "display_data"
    },
    {
     "data": {
      "application/vnd.jupyter.widget-view+json": {
       "model_id": "f060f4f22b3c479282aee4a75fb40db0",
       "version_major": 2,
       "version_minor": 0
      },
      "text/plain": [
       "Downloading (…)olve/main/vocab.json:   0%|          | 0.00/899k [00:00<?, ?B/s]"
      ]
     },
     "metadata": {},
     "output_type": "display_data"
    },
    {
     "data": {
      "application/vnd.jupyter.widget-view+json": {
       "model_id": "4e4ba729e03f4ef99a1664facca32c55",
       "version_major": 2,
       "version_minor": 0
      },
      "text/plain": [
       "Downloading (…)olve/main/merges.txt:   0%|          | 0.00/456k [00:00<?, ?B/s]"
      ]
     },
     "metadata": {},
     "output_type": "display_data"
    },
    {
     "data": {
      "application/vnd.jupyter.widget-view+json": {
       "model_id": "81d515995ef34ff681d7f65609b73673",
       "version_major": 2,
       "version_minor": 0
      },
      "text/plain": [
       "Downloading (…)cial_tokens_map.json:   0%|          | 0.00/150 [00:00<?, ?B/s]"
      ]
     },
     "metadata": {},
     "output_type": "display_data"
    },
    {
     "data": {
      "application/vnd.jupyter.widget-view+json": {
       "model_id": "0a67a37257b94d34a1debc62285dc35b",
       "version_major": 2,
       "version_minor": 0
      },
      "text/plain": [
       "Downloading pytorch_model.bin:   0%|          | 0.00/499M [00:00<?, ?B/s]"
      ]
     },
     "metadata": {},
     "output_type": "display_data"
    }
   ],
   "source": [
    "MODEL = f\"cardiffnlp/twitter-roberta-base-sentiment\"\n",
    "tokenizer = AutoTokenizer.from_pretrained(MODEL)\n",
    "model = AutoModelForSequenceClassification.from_pretrained(MODEL)"
   ]
  },
  {
   "cell_type": "markdown",
   "id": "5f0b0ab1",
   "metadata": {
    "papermill": {
     "duration": 0.012434,
     "end_time": "2023-11-12T11:53:50.491688",
     "exception": false,
     "start_time": "2023-11-12T11:53:50.479254",
     "status": "completed"
    },
    "tags": []
   },
   "source": [
    "# ****Training Data preprocessing and feature engineering****"
   ]
  },
  {
   "cell_type": "code",
   "execution_count": 6,
   "id": "4b95fec8",
   "metadata": {
    "execution": {
     "iopub.execute_input": "2023-11-12T11:53:50.520406Z",
     "iopub.status.busy": "2023-11-12T11:53:50.519498Z",
     "iopub.status.idle": "2023-11-12T11:58:27.832863Z",
     "shell.execute_reply": "2023-11-12T11:58:27.831516Z"
    },
    "papermill": {
     "duration": 277.330662,
     "end_time": "2023-11-12T11:58:27.835977",
     "exception": false,
     "start_time": "2023-11-12T11:53:50.505315",
     "status": "completed"
    },
    "tags": []
   },
   "outputs": [
    {
     "name": "stdout",
     "output_type": "stream",
     "text": [
      "1\n",
      "1\n"
     ]
    }
   ],
   "source": [
    "from scipy.special import softmax\n",
    "pov_review=[]\n",
    "neg_review=[]\n",
    "neu_review=[]\n",
    "com_review=[]\n",
    "pov_ratings=[]\n",
    "neu_ratings=[]\n",
    "neg_ratings=[]\n",
    "for i in train_data['verified_reviews']:\n",
    "    try:\n",
    "        encoded_text = tokenizer(i, return_tensors='pt')\n",
    "        output = model(**encoded_text)\n",
    "        scores = output[0][0].detach().numpy()\n",
    "        scores = softmax(scores)\n",
    "        neg_review.append(scores[0])\n",
    "        neu_review.append(scores[1])\n",
    "        pov_review.append(scores[2])\n",
    "        com_review.append((scores[0]**2+scores[1]**2+scores[2]**2)**(0.5))\n",
    "        if max(scores)==scores[0]:\n",
    "            neg_ratings.append(1.0)\n",
    "            neu_ratings.append(0.0)\n",
    "            pov_ratings.append(0.0)\n",
    "        elif max(scores)==scores[1]:\n",
    "            neg_ratings.append(0.0)\n",
    "            neu_ratings.append(1.0)\n",
    "            pov_ratings.append(0.0)\n",
    "        elif max(scores)==scores[2]:\n",
    "            neg_ratings.append(0.0)\n",
    "            neu_ratings.append(0.0)\n",
    "            pov_ratings.append(1.0)\n",
    "    except RuntimeError:\n",
    "        print(1)\n",
    "        pov_review.append(1.0)\n",
    "        neg_review.append(0.0)\n",
    "        neu_review.append(0.0)\n",
    "        com_review.append(1.0)\n",
    "        neg_ratings.append(0.0)\n",
    "        neu_ratings.append(0.0)\n",
    "        pov_ratings.append(1.0)"
   ]
  },
  {
   "cell_type": "code",
   "execution_count": 7,
   "id": "5794dfc8",
   "metadata": {
    "execution": {
     "iopub.execute_input": "2023-11-12T11:58:27.865365Z",
     "iopub.status.busy": "2023-11-12T11:58:27.864187Z",
     "iopub.status.idle": "2023-11-12T11:58:27.885147Z",
     "shell.execute_reply": "2023-11-12T11:58:27.883753Z"
    },
    "papermill": {
     "duration": 0.038335,
     "end_time": "2023-11-12T11:58:27.888006",
     "exception": false,
     "start_time": "2023-11-12T11:58:27.849671",
     "status": "completed"
    },
    "tags": []
   },
   "outputs": [
    {
     "name": "stdout",
     "output_type": "stream",
     "text": [
      "15.0\n"
     ]
    }
   ],
   "source": [
    "ordinal_encoder = OrdinalEncoder()\n",
    "encoded_data = ordinal_encoder.fit_transform([[item] for item in train_data['variation']])\n",
    "print(max([i[0] for i in encoded_data]))"
   ]
  },
  {
   "cell_type": "code",
   "execution_count": 8,
   "id": "2390722b",
   "metadata": {
    "execution": {
     "iopub.execute_input": "2023-11-12T11:58:27.914183Z",
     "iopub.status.busy": "2023-11-12T11:58:27.913711Z",
     "iopub.status.idle": "2023-11-12T11:58:27.946960Z",
     "shell.execute_reply": "2023-11-12T11:58:27.945801Z"
    },
    "papermill": {
     "duration": 0.049834,
     "end_time": "2023-11-12T11:58:27.949978",
     "exception": false,
     "start_time": "2023-11-12T11:58:27.900144",
     "status": "completed"
    },
    "tags": []
   },
   "outputs": [
    {
     "data": {
      "text/html": [
       "<div>\n",
       "<style scoped>\n",
       "    .dataframe tbody tr th:only-of-type {\n",
       "        vertical-align: middle;\n",
       "    }\n",
       "\n",
       "    .dataframe tbody tr th {\n",
       "        vertical-align: top;\n",
       "    }\n",
       "\n",
       "    .dataframe thead th {\n",
       "        text-align: right;\n",
       "    }\n",
       "</style>\n",
       "<table border=\"1\" class=\"dataframe\">\n",
       "  <thead>\n",
       "    <tr style=\"text-align: right;\">\n",
       "      <th></th>\n",
       "      <th>positive</th>\n",
       "      <th>negative</th>\n",
       "      <th>neutral</th>\n",
       "      <th>combined</th>\n",
       "      <th>feedback</th>\n",
       "      <th>isPositive</th>\n",
       "      <th>isNegative</th>\n",
       "      <th>isNeutral</th>\n",
       "      <th>item</th>\n",
       "    </tr>\n",
       "  </thead>\n",
       "  <tbody>\n",
       "    <tr>\n",
       "      <th>0</th>\n",
       "      <td>0.989508</td>\n",
       "      <td>0.001466</td>\n",
       "      <td>0.009026</td>\n",
       "      <td>0.989550</td>\n",
       "      <td>1.0</td>\n",
       "      <td>1.0</td>\n",
       "      <td>0.0</td>\n",
       "      <td>0.0</td>\n",
       "      <td>2.0</td>\n",
       "    </tr>\n",
       "    <tr>\n",
       "      <th>1</th>\n",
       "      <td>0.936137</td>\n",
       "      <td>0.004737</td>\n",
       "      <td>0.059127</td>\n",
       "      <td>0.938014</td>\n",
       "      <td>1.0</td>\n",
       "      <td>1.0</td>\n",
       "      <td>0.0</td>\n",
       "      <td>0.0</td>\n",
       "      <td>6.0</td>\n",
       "    </tr>\n",
       "    <tr>\n",
       "      <th>2</th>\n",
       "      <td>0.107922</td>\n",
       "      <td>0.570545</td>\n",
       "      <td>0.321533</td>\n",
       "      <td>0.663741</td>\n",
       "      <td>0.0</td>\n",
       "      <td>0.0</td>\n",
       "      <td>1.0</td>\n",
       "      <td>0.0</td>\n",
       "      <td>3.0</td>\n",
       "    </tr>\n",
       "    <tr>\n",
       "      <th>3</th>\n",
       "      <td>0.988388</td>\n",
       "      <td>0.001345</td>\n",
       "      <td>0.010267</td>\n",
       "      <td>0.988442</td>\n",
       "      <td>1.0</td>\n",
       "      <td>1.0</td>\n",
       "      <td>0.0</td>\n",
       "      <td>0.0</td>\n",
       "      <td>7.0</td>\n",
       "    </tr>\n",
       "    <tr>\n",
       "      <th>4</th>\n",
       "      <td>0.991431</td>\n",
       "      <td>0.002093</td>\n",
       "      <td>0.006476</td>\n",
       "      <td>0.991454</td>\n",
       "      <td>1.0</td>\n",
       "      <td>1.0</td>\n",
       "      <td>0.0</td>\n",
       "      <td>0.0</td>\n",
       "      <td>2.0</td>\n",
       "    </tr>\n",
       "  </tbody>\n",
       "</table>\n",
       "</div>"
      ],
      "text/plain": [
       "   positive  negative   neutral  combined  feedback  isPositive  isNegative  \\\n",
       "0  0.989508  0.001466  0.009026  0.989550       1.0         1.0         0.0   \n",
       "1  0.936137  0.004737  0.059127  0.938014       1.0         1.0         0.0   \n",
       "2  0.107922  0.570545  0.321533  0.663741       0.0         0.0         1.0   \n",
       "3  0.988388  0.001345  0.010267  0.988442       1.0         1.0         0.0   \n",
       "4  0.991431  0.002093  0.006476  0.991454       1.0         1.0         0.0   \n",
       "\n",
       "   isNeutral  item  \n",
       "0        0.0   2.0  \n",
       "1        0.0   6.0  \n",
       "2        0.0   3.0  \n",
       "3        0.0   7.0  \n",
       "4        0.0   2.0  "
      ]
     },
     "execution_count": 8,
     "metadata": {},
     "output_type": "execute_result"
    }
   ],
   "source": [
    "new_dataframe=pd.DataFrame({\"positive\":pov_review,\"negative\":neg_review,\"neutral\":neu_review,\"combined\":com_review,\"feedback\":list(map(lambda x: float(x),train_data['feedback'])),\"isPositive\":pov_ratings,\"isNegative\":neg_ratings,\"isNeutral\":neu_ratings ,\"item\":[i[0] for i in encoded_data],})\n",
    "new_dataframe.head()"
   ]
  },
  {
   "cell_type": "markdown",
   "id": "ccd7ac9f",
   "metadata": {
    "papermill": {
     "duration": 0.011655,
     "end_time": "2023-11-12T11:58:27.973773",
     "exception": false,
     "start_time": "2023-11-12T11:58:27.962118",
     "status": "completed"
    },
    "tags": []
   },
   "source": [
    "# ****Data Visualization****"
   ]
  },
  {
   "cell_type": "code",
   "execution_count": 9,
   "id": "a4ae4430",
   "metadata": {
    "execution": {
     "iopub.execute_input": "2023-11-12T11:58:28.000102Z",
     "iopub.status.busy": "2023-11-12T11:58:27.999682Z",
     "iopub.status.idle": "2023-11-12T11:58:28.625835Z",
     "shell.execute_reply": "2023-11-12T11:58:28.624838Z"
    },
    "papermill": {
     "duration": 0.64326,
     "end_time": "2023-11-12T11:58:28.628610",
     "exception": false,
     "start_time": "2023-11-12T11:58:27.985350",
     "status": "completed"
    },
    "tags": []
   },
   "outputs": [
    {
     "data": {
      "image/png": "[encoded data removed]",
      "text/plain": [
       "<Figure size 800x800 with 1 Axes>"
      ]
     },
     "metadata": {},
     "output_type": "display_data"
    }
   ],
   "source": [
    "plt.figure(figsize=(8, 8))\n",
    "plt.pie(train_data['variation'].value_counts().values, labels=train_data['variation'].value_counts().index, autopct='%1.1f%%', startangle=90, colors=sns.color_palette('viridis'))\n",
    "plt.title('Pie Chart with Legends for Categorical Column')\n",
    "plt.legend(title='Categories', labels=train_data['variation'].value_counts().index, loc='best')\n",
    "plt.show()"
   ]
  },
  {
   "cell_type": "code",
   "execution_count": 10,
   "id": "55cc6a2b",
   "metadata": {
    "execution": {
     "iopub.execute_input": "2023-11-12T11:58:28.660013Z",
     "iopub.status.busy": "2023-11-12T11:58:28.659169Z",
     "iopub.status.idle": "2023-11-12T11:58:28.961296Z",
     "shell.execute_reply": "2023-11-12T11:58:28.957839Z"
    },
    "papermill": {
     "duration": 0.32118,
     "end_time": "2023-11-12T11:58:28.964474",
     "exception": false,
     "start_time": "2023-11-12T11:58:28.643294",
     "status": "completed"
    },
    "tags": []
   },
   "outputs": [
    {
     "data": {
      "image/png": "[encoded data removed]",
      "text/plain": [
       "<Figure size 640x480 with 1 Axes>"
      ]
     },
     "metadata": {},
     "output_type": "display_data"
    }
   ],
   "source": [
    "sns.barplot(x=[\"1 rating\",\"2 rating\",\"3 rating\",\"4 rating\",\"5 rating\"],y=[sum([1 for i in train_data['sentiment'] if i==1.0]),sum([1 for i in train_data['sentiment'] if i==2.0]),sum([1 for i in train_data['sentiment'] if i==3.0]),sum([1 for i in train_data['sentiment'] if i==4.0]),sum([1 for i in train_data['sentiment'] if i==5.0])], palette=\"viridis\")\n",
    "plt.xlabel('review')\n",
    "plt.ylabel('ratings')\n",
    "plt.title('ratings preview')\n",
    "plt.show()"
   ]
  },
  {
   "cell_type": "code",
   "execution_count": 11,
   "id": "0098d448",
   "metadata": {
    "execution": {
     "iopub.execute_input": "2023-11-12T11:58:28.999362Z",
     "iopub.status.busy": "2023-11-12T11:58:28.998929Z",
     "iopub.status.idle": "2023-11-12T11:58:29.280192Z",
     "shell.execute_reply": "2023-11-12T11:58:29.278810Z"
    },
    "papermill": {
     "duration": 0.303027,
     "end_time": "2023-11-12T11:58:29.283310",
     "exception": false,
     "start_time": "2023-11-12T11:58:28.980283",
     "status": "completed"
    },
    "tags": []
   },
   "outputs": [
    {
     "data": {
      "image/png": "[encoded data removed]",
      "text/plain": [
       "<Figure size 640x480 with 1 Axes>"
      ]
     },
     "metadata": {},
     "output_type": "display_data"
    }
   ],
   "source": [
    "sns.barplot(x=[\"postive review\",\"negative review\",\"neutral review\"],y=[sum(pov_ratings),sum(neg_ratings),sum(neu_ratings)], palette=\"viridis\")\n",
    "plt.xlabel('Categories')\n",
    "plt.ylabel('Values')\n",
    "plt.title('reviews preview')\n",
    "plt.show()"
   ]
  },
  {
   "cell_type": "code",
   "execution_count": 12,
   "id": "1629cf36",
   "metadata": {
    "execution": {
     "iopub.execute_input": "2023-11-12T11:58:29.321426Z",
     "iopub.status.busy": "2023-11-12T11:58:29.321000Z",
     "iopub.status.idle": "2023-11-12T11:58:29.551413Z",
     "shell.execute_reply": "2023-11-12T11:58:29.549921Z"
    },
    "papermill": {
     "duration": 0.253368,
     "end_time": "2023-11-12T11:58:29.554359",
     "exception": false,
     "start_time": "2023-11-12T11:58:29.300991",
     "status": "completed"
    },
    "tags": []
   },
   "outputs": [
    {
     "data": {
      "image/png": "[encoded data removed]",
      "text/plain": [
       "<Figure size 640x480 with 1 Axes>"
      ]
     },
     "metadata": {},
     "output_type": "display_data"
    }
   ],
   "source": [
    "sns.barplot(x=[\"0\",\"1\"],y=[sum([1 for i in train_data['feedback'] if i==0.0]),sum([1 for i in train_data['feedback'] if i==1.0])], palette=\"viridis\")\n",
    "plt.xlabel('Review')\n",
    "plt.ylabel('Feedback')\n",
    "plt.title('reviews preview')\n",
    "plt.show()"
   ]
  },
  {
   "cell_type": "markdown",
   "id": "80aabe13",
   "metadata": {
    "papermill": {
     "duration": 0.020092,
     "end_time": "2023-11-12T11:58:29.592421",
     "exception": false,
     "start_time": "2023-11-12T11:58:29.572329",
     "status": "completed"
    },
    "tags": []
   },
   "source": [
    "graphs to be made:no of positive,negative and neutrals,(barchart)\n",
    "graph on feedback\n",
    "barchart on ratings\n",
    "variation graph\n",
    "confusion matrix and related graphs\n"
   ]
  },
  {
   "cell_type": "markdown",
   "id": "8028646e",
   "metadata": {
    "papermill": {
     "duration": 0.018094,
     "end_time": "2023-11-12T11:58:29.627521",
     "exception": false,
     "start_time": "2023-11-12T11:58:29.609427",
     "status": "completed"
    },
    "tags": []
   },
   "source": [
    "# ****Training RandomForestClassifier on data featured out****"
   ]
  },
  {
   "cell_type": "code",
   "execution_count": 13,
   "id": "eaf23cb7",
   "metadata": {
    "execution": {
     "iopub.execute_input": "2023-11-12T11:58:29.666590Z",
     "iopub.status.busy": "2023-11-12T11:58:29.666136Z",
     "iopub.status.idle": "2023-11-12T11:58:41.410173Z",
     "shell.execute_reply": "2023-11-12T11:58:41.408977Z"
    },
    "papermill": {
     "duration": 11.766041,
     "end_time": "2023-11-12T11:58:41.412583",
     "exception": false,
     "start_time": "2023-11-12T11:58:29.646542",
     "status": "completed"
    },
    "tags": []
   },
   "outputs": [
    {
     "name": "stdout",
     "output_type": "stream",
     "text": [
      "0.8015873015873016\n"
     ]
    }
   ],
   "source": [
    "X_train, X_test, y_train, y_test = train_test_split(new_dataframe, train_data['sentiment'],  test_size=0.1, random_state=42) \n",
    "dtree_model = RandomForestClassifier(n_estimators=2000 ,random_state=0).fit(X_train, y_train)\n",
    "dtree_predictions = dtree_model.score(X_test,y_test) \n",
    "print(dtree_predictions)"
   ]
  },
  {
   "cell_type": "markdown",
   "id": "efbc1cf8",
   "metadata": {
    "papermill": {
     "duration": 0.015336,
     "end_time": "2023-11-12T11:58:41.444029",
     "exception": false,
     "start_time": "2023-11-12T11:58:41.428693",
     "status": "completed"
    },
    "tags": []
   },
   "source": [
    "# ****Model Analysis****"
   ]
  },
  {
   "cell_type": "code",
   "execution_count": 14,
   "id": "d27e0406",
   "metadata": {
    "execution": {
     "iopub.execute_input": "2023-11-12T11:58:41.535404Z",
     "iopub.status.busy": "2023-11-12T11:58:41.533931Z",
     "iopub.status.idle": "2023-11-12T11:58:42.187720Z",
     "shell.execute_reply": "2023-11-12T11:58:42.185932Z"
    },
    "papermill": {
     "duration": 0.674562,
     "end_time": "2023-11-12T11:58:42.191520",
     "exception": false,
     "start_time": "2023-11-12T11:58:41.516958",
     "status": "completed"
    },
    "tags": []
   },
   "outputs": [
    {
     "name": "stdout",
     "output_type": "stream",
     "text": [
      "0.6722124357912498\n"
     ]
    },
    {
     "data": {
      "image/png": "[encoded data removed]",
      "text/plain": [
       "<Figure size 800x600 with 1 Axes>"
      ]
     },
     "metadata": {},
     "output_type": "display_data"
    }
   ],
   "source": [
    "y_pred = dtree_model.predict(X_test)\n",
    "macro_f1 = f1_score(y_test, y_pred, average='macro')\n",
    "print(macro_f1)\n",
    "cm = confusion_matrix(y_test, y_pred)\n",
    "plt.figure(figsize=(8, 6))\n",
    "sns.heatmap(cm, annot=True, fmt=\"d\", cmap=\"Blues\", cbar=False)\n",
    "plt.title('Confusion Matrix')\n",
    "plt.xlabel('Predicted Labels')\n",
    "plt.ylabel('True Labels')\n",
    "plt.show()"
   ]
  },
  {
   "cell_type": "markdown",
   "id": "7549f74f",
   "metadata": {
    "papermill": {
     "duration": 0.018965,
     "end_time": "2023-11-12T11:58:42.228582",
     "exception": false,
     "start_time": "2023-11-12T11:58:42.209617",
     "status": "completed"
    },
    "tags": []
   },
   "source": [
    "# ****Testing Data preprocessing and feature engineering****"
   ]
  },
  {
   "cell_type": "code",
   "execution_count": 15,
   "id": "2ee63c78",
   "metadata": {
    "execution": {
     "iopub.execute_input": "2023-11-12T11:58:42.269846Z",
     "iopub.status.busy": "2023-11-12T11:58:42.269164Z",
     "iopub.status.idle": "2023-11-12T11:59:50.489613Z",
     "shell.execute_reply": "2023-11-12T11:59:50.488168Z"
    },
    "papermill": {
     "duration": 68.246184,
     "end_time": "2023-11-12T11:59:50.493423",
     "exception": false,
     "start_time": "2023-11-12T11:58:42.247239",
     "status": "completed"
    },
    "tags": []
   },
   "outputs": [],
   "source": [
    "test_data=pd.read_csv('/kaggle/input/anyas-gojo-revival-space-shop/test.tsv', sep='\\t')\n",
    "pov_test_review=[]\n",
    "neg_test_review=[]\n",
    "neu_test_review=[]\n",
    "com_test_review=[]\n",
    "neg_test_ratings=[]\n",
    "neu_test_ratings=[]\n",
    "pov_test_ratings=[]\n",
    "for i in test_data['verified_reviews']:\n",
    "    try:\n",
    "        encoded_text = tokenizer(i, return_tensors='pt')\n",
    "        output = model(**encoded_text)\n",
    "        scores = output[0][0].detach().numpy()\n",
    "        scores = softmax(scores)\n",
    "#         print(scores)\n",
    "        neg_test_review.append(scores[0])\n",
    "        neu_test_review.append(scores[1])\n",
    "        pov_test_review.append(scores[2])\n",
    "        com_test_review.append((scores[0]**2+scores[1]**2+scores[2]**2)**(0.5))\n",
    "        if max(scores)==scores[0]:\n",
    "            neg_test_ratings.append(1.0)\n",
    "            neu_test_ratings.append(0.0)\n",
    "            pov_test_ratings.append(0.0)\n",
    "        elif max(scores)==scores[1]:\n",
    "            neg_test_ratings.append(0.0)\n",
    "            neu_test_ratings.append(1.0)\n",
    "            pov_test_ratings.append(0.0)\n",
    "        elif max(scores)==scores[2]:\n",
    "            neg_test_ratings.append(0.0)\n",
    "            neu_test_ratings.append(0.0)\n",
    "            pov_test_ratings.append(1.0)\n",
    "    except RuntimeError:\n",
    "        print(1)\n",
    "        pov_test_review.append(1.0)\n",
    "        neg_test_review.append(0.0)\n",
    "        neu_test_review.append(0.0)\n",
    "        com_test_review.append(1.0)\n",
    "        neg_test_ratings.append(0.0)\n",
    "        neu_test_ratings.append(0.0)\n",
    "        pov_test_ratings.append(1.0)"
   ]
  },
  {
   "cell_type": "code",
   "execution_count": 16,
   "id": "6ee1a0b6",
   "metadata": {
    "execution": {
     "iopub.execute_input": "2023-11-12T11:59:50.536185Z",
     "iopub.status.busy": "2023-11-12T11:59:50.534981Z",
     "iopub.status.idle": "2023-11-12T11:59:50.548490Z",
     "shell.execute_reply": "2023-11-12T11:59:50.546565Z"
    },
    "papermill": {
     "duration": 0.037172,
     "end_time": "2023-11-12T11:59:50.551092",
     "exception": false,
     "start_time": "2023-11-12T11:59:50.513920",
     "status": "completed"
    },
    "tags": []
   },
   "outputs": [
    {
     "name": "stdout",
     "output_type": "stream",
     "text": [
      "15.0\n"
     ]
    }
   ],
   "source": [
    "encoded_test_data = ordinal_encoder.transform([[item] for item in test_data['variation']])\n",
    "print(max([i[0] for i in encoded_test_data]))"
   ]
  },
  {
   "cell_type": "code",
   "execution_count": 17,
   "id": "b6190b8a",
   "metadata": {
    "execution": {
     "iopub.execute_input": "2023-11-12T11:59:50.586771Z",
     "iopub.status.busy": "2023-11-12T11:59:50.585912Z",
     "iopub.status.idle": "2023-11-12T11:59:50.613183Z",
     "shell.execute_reply": "2023-11-12T11:59:50.612309Z"
    },
    "papermill": {
     "duration": 0.047638,
     "end_time": "2023-11-12T11:59:50.615285",
     "exception": false,
     "start_time": "2023-11-12T11:59:50.567647",
     "status": "completed"
    },
    "tags": []
   },
   "outputs": [
    {
     "data": {
      "text/html": [
       "<div>\n",
       "<style scoped>\n",
       "    .dataframe tbody tr th:only-of-type {\n",
       "        vertical-align: middle;\n",
       "    }\n",
       "\n",
       "    .dataframe tbody tr th {\n",
       "        vertical-align: top;\n",
       "    }\n",
       "\n",
       "    .dataframe thead th {\n",
       "        text-align: right;\n",
       "    }\n",
       "</style>\n",
       "<table border=\"1\" class=\"dataframe\">\n",
       "  <thead>\n",
       "    <tr style=\"text-align: right;\">\n",
       "      <th></th>\n",
       "      <th>positive</th>\n",
       "      <th>negative</th>\n",
       "      <th>neutral</th>\n",
       "      <th>combined</th>\n",
       "      <th>feedback</th>\n",
       "      <th>isPositive</th>\n",
       "      <th>isNegative</th>\n",
       "      <th>isNeutral</th>\n",
       "      <th>item</th>\n",
       "    </tr>\n",
       "  </thead>\n",
       "  <tbody>\n",
       "    <tr>\n",
       "      <th>0</th>\n",
       "      <td>0.984899</td>\n",
       "      <td>0.002404</td>\n",
       "      <td>0.012697</td>\n",
       "      <td>0.984984</td>\n",
       "      <td>1.0</td>\n",
       "      <td>1.0</td>\n",
       "      <td>0.0</td>\n",
       "      <td>0.0</td>\n",
       "      <td>7.0</td>\n",
       "    </tr>\n",
       "    <tr>\n",
       "      <th>1</th>\n",
       "      <td>0.986175</td>\n",
       "      <td>0.003311</td>\n",
       "      <td>0.010514</td>\n",
       "      <td>0.986236</td>\n",
       "      <td>1.0</td>\n",
       "      <td>1.0</td>\n",
       "      <td>0.0</td>\n",
       "      <td>0.0</td>\n",
       "      <td>2.0</td>\n",
       "    </tr>\n",
       "    <tr>\n",
       "      <th>2</th>\n",
       "      <td>0.005175</td>\n",
       "      <td>0.963042</td>\n",
       "      <td>0.031783</td>\n",
       "      <td>0.963580</td>\n",
       "      <td>0.0</td>\n",
       "      <td>0.0</td>\n",
       "      <td>1.0</td>\n",
       "      <td>0.0</td>\n",
       "      <td>6.0</td>\n",
       "    </tr>\n",
       "    <tr>\n",
       "      <th>3</th>\n",
       "      <td>0.858581</td>\n",
       "      <td>0.032428</td>\n",
       "      <td>0.108991</td>\n",
       "      <td>0.866078</td>\n",
       "      <td>1.0</td>\n",
       "      <td>1.0</td>\n",
       "      <td>0.0</td>\n",
       "      <td>0.0</td>\n",
       "      <td>2.0</td>\n",
       "    </tr>\n",
       "    <tr>\n",
       "      <th>4</th>\n",
       "      <td>0.963731</td>\n",
       "      <td>0.003297</td>\n",
       "      <td>0.032972</td>\n",
       "      <td>0.964301</td>\n",
       "      <td>1.0</td>\n",
       "      <td>1.0</td>\n",
       "      <td>0.0</td>\n",
       "      <td>0.0</td>\n",
       "      <td>3.0</td>\n",
       "    </tr>\n",
       "  </tbody>\n",
       "</table>\n",
       "</div>"
      ],
      "text/plain": [
       "   positive  negative   neutral  combined  feedback  isPositive  isNegative  \\\n",
       "0  0.984899  0.002404  0.012697  0.984984       1.0         1.0         0.0   \n",
       "1  0.986175  0.003311  0.010514  0.986236       1.0         1.0         0.0   \n",
       "2  0.005175  0.963042  0.031783  0.963580       0.0         0.0         1.0   \n",
       "3  0.858581  0.032428  0.108991  0.866078       1.0         1.0         0.0   \n",
       "4  0.963731  0.003297  0.032972  0.964301       1.0         1.0         0.0   \n",
       "\n",
       "   isNeutral  item  \n",
       "0        0.0   7.0  \n",
       "1        0.0   2.0  \n",
       "2        0.0   6.0  \n",
       "3        0.0   2.0  \n",
       "4        0.0   3.0  "
      ]
     },
     "execution_count": 17,
     "metadata": {},
     "output_type": "execute_result"
    }
   ],
   "source": [
    "test_dataframe=pd.DataFrame({\"positive\":pov_test_review,\"negative\":neg_test_review,\"neutral\":neu_test_review,\"combined\":com_test_review,\"feedback\":list(map(lambda x: float(x),test_data['feedback'])),\"isPositive\":pov_test_ratings,\"isNegative\":neg_test_ratings,\"isNeutral\":neu_test_ratings,\"item\":[i[0] for i in encoded_test_data]})\n",
    "test_dataframe.head()"
   ]
  },
  {
   "cell_type": "markdown",
   "id": "bcd714c3",
   "metadata": {
    "papermill": {
     "duration": 0.016127,
     "end_time": "2023-11-12T11:59:50.648022",
     "exception": false,
     "start_time": "2023-11-12T11:59:50.631895",
     "status": "completed"
    },
    "tags": []
   },
   "source": [
    "# ****Running Model on test data**** "
   ]
  },
  {
   "cell_type": "code",
   "execution_count": 18,
   "id": "0e5b6b90",
   "metadata": {
    "execution": {
     "iopub.execute_input": "2023-11-12T11:59:50.686252Z",
     "iopub.status.busy": "2023-11-12T11:59:50.685712Z",
     "iopub.status.idle": "2023-11-12T11:59:51.161493Z",
     "shell.execute_reply": "2023-11-12T11:59:51.159486Z"
    },
    "papermill": {
     "duration": 0.498135,
     "end_time": "2023-11-12T11:59:51.164142",
     "exception": false,
     "start_time": "2023-11-12T11:59:50.666007",
     "status": "completed"
    },
    "tags": []
   },
   "outputs": [
    {
     "name": "stdout",
     "output_type": "stream",
     "text": [
      "[5 5 1 5 5 5 5 5 2 3 5 5 5 4 5 5 1 5 5 3 5 5 5 5 5 5 1 5 5 1 5 5 5 5 5 5 5\n",
      " 5 5 5 5 1 5 5 5 5 5 5 5 5 1 5 5 5 5 5 5 4 3 5 5 5 5 5 4 5 5 5 5 5 5 5 5 5\n",
      " 5 5 5 5 5 1 5 5 5 5 2 5 3 5 5 5 5 2 5 5 5 5 5 5 5 5 5 3 1 5 2 5 5 5 5 4 5\n",
      " 5 1 5 5 5 5 5 5 5 5 4 5 5 3 5 5 5 5 5 5 5 5 5 5 5 5 5 5 5 5 5 5 5 5 5 5 5\n",
      " 5 3 5 5 4 5 5 5 5 4 5 2 5 5 3 4 5 5 5 5 5 3 5 5 5 5 4 5 5 1 5 5 5 5 5 2 5\n",
      " 2 5 5 4 5 5 5 5 5 5 5 4 5 5 5 5 5 5 4 5 5 3 1 4 5 3 5 5 5 5 5 5 4 5 5 5 5\n",
      " 5 5 5 5 5 5 1 5 5 5 4 5 5 1 4 5 5 3 5 5 5 5 3 5 5 4 3 1 1 5 4 5 5 5 1 5 5\n",
      " 5 4 3 5 5 5 4 5 5 5 5 3 5 5 2 5 5 5 5 3 5 4 5 3 5 5 5 5 5 5 4 4 5 5 5 5 5\n",
      " 5 5 5 5 5 5 1 5 5 5 5 5 5 5 5 5 5 1 5 5 5 3 5 5 5 5 5 5 5 5 5 5 5 3 5 5 5\n",
      " 5 5 5 5 5 5 5 5 5 1 5 4 5 5 5 5 5 1 5 5 5 5 4 1 5 5 4 4 4 4 5 5 4 5 5 5 5\n",
      " 5 5 5 5 1 5 5 5 5 5 1 5 5 5 5 5 5 2 1 3 5 5 5 5 1 3 5 5 1 5 5 3 5 5 5 5 5\n",
      " 5 5 5 5 4 5 5 5 5 5 5 1 5 4 5 5 5 5 5 5 4 5 5 5 5 5 5 5 5 5 5 5 5 4 2 3 5\n",
      " 3 5 5 4 5 2 5 5 5 2 4 5 5 4 5 5 5 5 5 3 5 5 1 5 5 5 5 5 5 5 4 3 1 5 5 5 5\n",
      " 5 5 5 3 5 5 5 5 5 1 4 5 5 5 3 5 5 5 5 5 5 4 5 5 5 5 5 5 2 5 5 5 5 4 5 5 5\n",
      " 5 4 5 5 5 1 5 5 4 4 5 5 3 5 5 5 5 5 5 1 5 5 5 5 5 5 5 2 5 5 5 5 1 5 5 5 5\n",
      " 5 5 4 5 1 5 5 5 5 5 5 5 3 5 5 2 5 5 5 5 4 5 5 5 5 5 5 5 5 5 5 5 5 5 5 3 5\n",
      " 5 5 5 5 4 5 5 5 5 5 5 5 2 1 4 5 5 5 5 5 5 5 5 4 5 5 5 4 5 5 5 5 1 5 5 5 5\n",
      " 5]\n"
     ]
    }
   ],
   "source": [
    "arr=dtree_model.predict(test_dataframe)\n",
    "print(arr)"
   ]
  },
  {
   "cell_type": "markdown",
   "id": "1f9e9252",
   "metadata": {
    "papermill": {
     "duration": 0.020942,
     "end_time": "2023-11-12T11:59:51.202881",
     "exception": false,
     "start_time": "2023-11-12T11:59:51.181939",
     "status": "completed"
    },
    "tags": []
   },
   "source": [
    "# ****Test data and Result Visualization****"
   ]
  },
  {
   "cell_type": "code",
   "execution_count": 19,
   "id": "4a063fbf",
   "metadata": {
    "execution": {
     "iopub.execute_input": "2023-11-12T11:59:51.247863Z",
     "iopub.status.busy": "2023-11-12T11:59:51.247385Z",
     "iopub.status.idle": "2023-11-12T11:59:51.905728Z",
     "shell.execute_reply": "2023-11-12T11:59:51.904305Z"
    },
    "papermill": {
     "duration": 0.683168,
     "end_time": "2023-11-12T11:59:51.908321",
     "exception": false,
     "start_time": "2023-11-12T11:59:51.225153",
     "status": "completed"
    },
    "tags": []
   },
   "outputs": [
    {
     "data": {
      "image/png": "[encoded data removed]",
      "text/plain": [
       "<Figure size 800x800 with 1 Axes>"
      ]
     },
     "metadata": {},
     "output_type": "display_data"
    }
   ],
   "source": [
    "plt.figure(figsize=(8, 8))\n",
    "plt.pie(test_data['variation'].value_counts().values, labels=test_data['variation'].value_counts().index, autopct='%1.1f%%', startangle=90, colors=sns.color_palette('viridis'))\n",
    "plt.title('Pie Chart with Legends for Categorical Column')\n",
    "plt.legend(title='Categories', labels=test_data['variation'].value_counts().index, loc='best')\n",
    "plt.show()"
   ]
  },
  {
   "cell_type": "code",
   "execution_count": 20,
   "id": "34382338",
   "metadata": {
    "execution": {
     "iopub.execute_input": "2023-11-12T11:59:51.948329Z",
     "iopub.status.busy": "2023-11-12T11:59:51.947863Z",
     "iopub.status.idle": "2023-11-12T11:59:52.271637Z",
     "shell.execute_reply": "2023-11-12T11:59:52.270090Z"
    },
    "papermill": {
     "duration": 0.346764,
     "end_time": "2023-11-12T11:59:52.274212",
     "exception": false,
     "start_time": "2023-11-12T11:59:51.927448",
     "status": "completed"
    },
    "tags": []
   },
   "outputs": [
    {
     "data": {
      "image/png": "[encoded data removed]",
      "text/plain": [
       "<Figure size 640x480 with 1 Axes>"
      ]
     },
     "metadata": {},
     "output_type": "display_data"
    }
   ],
   "source": [
    "sns.barplot(x=[\"1 rating\",\"2 rating\",\"3 rating\",\"4 rating\",\"5 rating\"],y=[sum([1 for i in arr if i==1]),sum([1 for i in arr if i==2]),sum([1 for i in arr if i==3]),sum([1 for i in arr if i==4]),sum([1 for i in arr if i==5])], palette=\"viridis\")\n",
    "plt.xlabel('review')\n",
    "plt.ylabel('ratings')\n",
    "plt.title('ratings preview')\n",
    "plt.show()"
   ]
  },
  {
   "cell_type": "code",
   "execution_count": 21,
   "id": "7c0aeba4",
   "metadata": {
    "execution": {
     "iopub.execute_input": "2023-11-12T11:59:52.313534Z",
     "iopub.status.busy": "2023-11-12T11:59:52.313155Z",
     "iopub.status.idle": "2023-11-12T11:59:52.566038Z",
     "shell.execute_reply": "2023-11-12T11:59:52.564327Z"
    },
    "papermill": {
     "duration": 0.275744,
     "end_time": "2023-11-12T11:59:52.568805",
     "exception": false,
     "start_time": "2023-11-12T11:59:52.293061",
     "status": "completed"
    },
    "tags": []
   },
   "outputs": [
    {
     "data": {
      "image/png": "[encoded data removed]",
      "text/plain": [
       "<Figure size 640x480 with 1 Axes>"
      ]
     },
     "metadata": {},
     "output_type": "display_data"
    }
   ],
   "source": [
    "sns.barplot(x=[\"postive review\",\"negative review\",\"neutral review\"],y=[sum(pov_test_ratings),sum(neg_test_ratings),sum(neu_test_ratings)], palette=\"viridis\")\n",
    "plt.xlabel('Categories')\n",
    "plt.ylabel('Values')\n",
    "plt.title('reviews preview')\n",
    "plt.show()"
   ]
  },
  {
   "cell_type": "code",
   "execution_count": 22,
   "id": "c264823b",
   "metadata": {
    "execution": {
     "iopub.execute_input": "2023-11-12T11:59:52.608808Z",
     "iopub.status.busy": "2023-11-12T11:59:52.608419Z",
     "iopub.status.idle": "2023-11-12T11:59:52.854774Z",
     "shell.execute_reply": "2023-11-12T11:59:52.852949Z"
    },
    "papermill": {
     "duration": 0.269503,
     "end_time": "2023-11-12T11:59:52.857579",
     "exception": false,
     "start_time": "2023-11-12T11:59:52.588076",
     "status": "completed"
    },
    "tags": []
   },
   "outputs": [
    {
     "data": {
      "image/png": "[encoded data removed]",
      "text/plain": [
       "<Figure size 640x480 with 1 Axes>"
      ]
     },
     "metadata": {},
     "output_type": "display_data"
    }
   ],
   "source": [
    "sns.barplot(x=[\"0\",\"1\"],y=[sum([1 for i in test_data['feedback'] if i==0.0]),sum([1 for i in test_data['feedback'] if i==1.0])], palette=\"viridis\")\n",
    "plt.xlabel('Review')\n",
    "plt.ylabel('Feedback')\n",
    "plt.title('reviews preview')\n",
    "plt.show()"
   ]
  },
  {
   "cell_type": "markdown",
   "id": "73235d00",
   "metadata": {
    "papermill": {
     "duration": 0.021902,
     "end_time": "2023-11-12T11:59:52.902310",
     "exception": false,
     "start_time": "2023-11-12T11:59:52.880408",
     "status": "completed"
    },
    "tags": []
   },
   "source": [
    "# ****Downloading the CSV file****"
   ]
  },
  {
   "cell_type": "code",
   "execution_count": 23,
   "id": "a60b740a",
   "metadata": {
    "execution": {
     "iopub.execute_input": "2023-11-12T11:59:52.949926Z",
     "iopub.status.busy": "2023-11-12T11:59:52.949493Z",
     "iopub.status.idle": "2023-11-12T11:59:52.963451Z",
     "shell.execute_reply": "2023-11-12T11:59:52.962243Z"
    },
    "papermill": {
     "duration": 0.042022,
     "end_time": "2023-11-12T11:59:52.966541",
     "exception": false,
     "start_time": "2023-11-12T11:59:52.924519",
     "status": "completed"
    },
    "tags": []
   },
   "outputs": [],
   "source": [
    "submission=pd.DataFrame({\"id\":test_data['id'],\"sentiment\":arr})\n",
    "submission.to_csv(\"submission6.csv\",index=False)"
   ]
  }
 ],
 "metadata": {
  "kernelspec": {
   "display_name": "Python 3",
   "language": "python",
   "name": "python3"
  },
  "language_info": {
   "codemirror_mode": {
    "name": "ipython",
    "version": 3
   },
   "file_extension": ".py",
   "mimetype": "text/x-python",
   "name": "python",
   "nbconvert_exporter": "python",
   "pygments_lexer": "ipython3",
   "version": "3.10.12"
  },
  "papermill": {
   "default_parameters": {},
   "duration": 396.206497,
   "end_time": "2023-11-12T11:59:55.856898",
   "environment_variables": {},
   "exception": null,
   "input_path": "__notebook__.ipynb",
   "output_path": "__notebook__.ipynb",
   "parameters": {},
   "start_time": "2023-11-12T11:53:19.650401",
   "version": "2.4.0"
  },
  "widgets": {
   "application/vnd.jupyter.widget-state+json": {
    "state": {
     "024186b0f9b04ca5bf4ccaf9fdff3daa": {
      "model_module": "@jupyter-widgets/base",
      "model_module_version": "1.2.0",
      "model_name": "LayoutModel",
      "state": {
       "_model_module": "@jupyter-widgets/base",
       "_model_module_version": "1.2.0",
       "_model_name": "LayoutModel",
       "_view_count": null,
       "_view_module": "@jupyter-widgets/base",
       "_view_module_version": "1.2.0",
       "_view_name": "LayoutView",
       "align_content": null,
       "align_items": null,
       "align_self": null,
       "border": null,
       "bottom": null,
       "display": null,
       "flex": null,
       "flex_flow": null,
       "grid_area": null,
       "grid_auto_columns": null,
       "grid_auto_flow": null,
       "grid_auto_rows": null,
       "grid_column": null,
       "grid_gap": null,
       "grid_row": null,
       "grid_template_areas": null,
       "grid_template_columns": null,
       "grid_template_rows": null,
       "height": null,
       "justify_content": null,
       "justify_items": null,
       "left": null,
       "margin": null,
       "max_height": null,
       "max_width": null,
       "min_height": null,
       "min_width": null,
       "object_fit": null,
       "object_position": null,
       "order": null,
       "overflow": null,
       "overflow_x": null,
       "overflow_y": null,
       "padding": null,
       "right": null,
       "top": null,
       "visibility": null,
       "width": null
      }
     },
     "092d2a50f92a4a3697dad624bf39d33e": {
      "model_module": "@jupyter-widgets/base",
      "model_module_version": "1.2.0",
      "model_name": "LayoutModel",
      "state": {
       "_model_module": "@jupyter-widgets/base",
       "_model_module_version": "1.2.0",
       "_model_name": "LayoutModel",
       "_view_count": null,
       "_view_module": "@jupyter-widgets/base",
       "_view_module_version": "1.2.0",
       "_view_name": "LayoutView",
       "align_content": null,
       "align_items": null,
       "align_self": null,
       "border": null,
       "bottom": null,
       "display": null,
       "flex": null,
       "flex_flow": null,
       "grid_area": null,
       "grid_auto_columns": null,
       "grid_auto_flow": null,
       "grid_auto_rows": null,
       "grid_column": null,
       "grid_gap": null,
       "grid_row": null,
       "grid_template_areas": null,
       "grid_template_columns": null,
       "grid_template_rows": null,
       "height": null,
       "justify_content": null,
       "justify_items": null,
       "left": null,
       "margin": null,
       "max_height": null,
       "max_width": null,
       "min_height": null,
       "min_width": null,
       "object_fit": null,
       "object_position": null,
       "order": null,
       "overflow": null,
       "overflow_x": null,
       "overflow_y": null,
       "padding": null,
       "right": null,
       "top": null,
       "visibility": null,
       "width": null
      }
     },
     "0a67a37257b94d34a1debc62285dc35b": {
      "model_module": "@jupyter-widgets/controls",
      "model_module_version": "1.5.0",
      "model_name": "HBoxModel",
      "state": {
       "_dom_classes": [],
       "_model_module": "@jupyter-widgets/controls",
       "_model_module_version": "1.5.0",
       "_model_name": "HBoxModel",
       "_view_count": null,
       "_view_module": "@jupyter-widgets/controls",
       "_view_module_version": "1.5.0",
       "_view_name": "HBoxView",
       "box_style": "",
       "children": [
        "IPY_MODEL_1fa7b925f44943fe9be2b1c9059d9f7c",
        "IPY_MODEL_9a6f606b0d694f70b174e5ab91f71ce3",
        "IPY_MODEL_d7f04b51172e40469c2ff5889de2c5c0"
       ],
       "layout": "IPY_MODEL_24dcaed4c31c412f9a3d4fdd53718b52"
      }
     },
     "173b3eea16af4363800977da319d340c": {
      "model_module": "@jupyter-widgets/base",
      "model_module_version": "1.2.0",
      "model_name": "LayoutModel",
      "state": {
       "_model_module": "@jupyter-widgets/base",
       "_model_module_version": "1.2.0",
       "_model_name": "LayoutModel",
       "_view_count": null,
       "_view_module": "@jupyter-widgets/base",
       "_view_module_version": "1.2.0",
       "_view_name": "LayoutView",
       "align_content": null,
       "align_items": null,
       "align_self": null,
       "border": null,
       "bottom": null,
       "display": null,
       "flex": null,
       "flex_flow": null,
       "grid_area": null,
       "grid_auto_columns": null,
       "grid_auto_flow": null,
       "grid_auto_rows": null,
       "grid_column": null,
       "grid_gap": null,
       "grid_row": null,
       "grid_template_areas": null,
       "grid_template_columns": null,
       "grid_template_rows": null,
       "height": null,
       "justify_content": null,
       "justify_items": null,
       "left": null,
       "margin": null,
       "max_height": null,
       "max_width": null,
       "min_height": null,
       "min_width": null,
       "object_fit": null,
       "object_position": null,
       "order": null,
       "overflow": null,
       "overflow_x": null,
       "overflow_y": null,
       "padding": null,
       "right": null,
       "top": null,
       "visibility": null,
       "width": null
      }
     },
     "18c7654497454e5c85aca48292cfd30b": {
      "model_module": "@jupyter-widgets/controls",
      "model_module_version": "1.5.0",
      "model_name": "FloatProgressModel",
      "state": {
       "_dom_classes": [],
       "_model_module": "@jupyter-widgets/controls",
       "_model_module_version": "1.5.0",
       "_model_name": "FloatProgressModel",
       "_view_count": null,
       "_view_module": "@jupyter-widgets/controls",
       "_view_module_version": "1.5.0",
       "_view_name": "ProgressView",
       "bar_style": "success",
       "description": "",
       "description_tooltip": null,
       "layout": "IPY_MODEL_d083fe6b0ad84fa4a193741616090111",
       "max": 150.0,
       "min": 0.0,
       "orientation": "horizontal",
       "style": "IPY_MODEL_2854096af1084dec905209f9f2a635a3",
       "value": 150.0
      }
     },
     "19e2efe04ef7413e89ad64dcf3bb34fc": {
      "model_module": "@jupyter-widgets/controls",
      "model_module_version": "1.5.0",
      "model_name": "FloatProgressModel",
      "state": {
       "_dom_classes": [],
       "_model_module": "@jupyter-widgets/controls",
       "_model_module_version": "1.5.0",
       "_model_name": "FloatProgressModel",
       "_view_count": null,
       "_view_module": "@jupyter-widgets/controls",
       "_view_module_version": "1.5.0",
       "_view_name": "ProgressView",
       "bar_style": "success",
       "description": "",
       "description_tooltip": null,
       "layout": "IPY_MODEL_67ebc733e4ee4dfa976d47f3f78fe7c0",
       "max": 747.0,
       "min": 0.0,
       "orientation": "horizontal",
       "style": "IPY_MODEL_e5a3f682d85f4bbfab8e63b5f4d9f72c",
       "value": 747.0
      }
     },
     "1f045d25716c43e1ba72d606a06518a8": {
      "model_module": "@jupyter-widgets/base",
      "model_module_version": "1.2.0",
      "model_name": "LayoutModel",
      "state": {
       "_model_module": "@jupyter-widgets/base",
       "_model_module_version": "1.2.0",
       "_model_name": "LayoutModel",
       "_view_count": null,
       "_view_module": "@jupyter-widgets/base",
       "_view_module_version": "1.2.0",
       "_view_name": "LayoutView",
       "align_content": null,
       "align_items": null,
       "align_self": null,
       "border": null,
       "bottom": null,
       "display": null,
       "flex": null,
       "flex_flow": null,
       "grid_area": null,
       "grid_auto_columns": null,
       "grid_auto_flow": null,
       "grid_auto_rows": null,
       "grid_column": null,
       "grid_gap": null,
       "grid_row": null,
       "grid_template_areas": null,
       "grid_template_columns": null,
       "grid_template_rows": null,
       "height": null,
       "justify_content": null,
       "justify_items": null,
       "left": null,
       "margin": null,
       "max_height": null,
       "max_width": null,
       "min_height": null,
       "min_width": null,
       "object_fit": null,
       "object_position": null,
       "order": null,
       "overflow": null,
       "overflow_x": null,
       "overflow_y": null,
       "padding": null,
       "right": null,
       "top": null,
       "visibility": null,
       "width": null
      }
     },
     "1fa7b925f44943fe9be2b1c9059d9f7c": {
      "model_module": "@jupyter-widgets/controls",
      "model_module_version": "1.5.0",
      "model_name": "HTMLModel",
      "state": {
       "_dom_classes": [],
       "_model_module": "@jupyter-widgets/controls",
       "_model_module_version": "1.5.0",
       "_model_name": "HTMLModel",
       "_view_count": null,
       "_view_module": "@jupyter-widgets/controls",
       "_view_module_version": "1.5.0",
       "_view_name": "HTMLView",
       "description": "",
       "description_tooltip": null,
       "layout": "IPY_MODEL_173b3eea16af4363800977da319d340c",
       "placeholder": "​",
       "style": "IPY_MODEL_7116ae822cd44b97814211c7facbc195",
       "value": "Downloading pytorch_model.bin: 100%"
      }
     },
     "23b99a44a5994b589d6192af62eb8539": {
      "model_module": "@jupyter-widgets/controls",
      "model_module_version": "1.5.0",
      "model_name": "ProgressStyleModel",
      "state": {
       "_model_module": "@jupyter-widgets/controls",
       "_model_module_version": "1.5.0",
       "_model_name": "ProgressStyleModel",
       "_view_count": null,
       "_view_module": "@jupyter-widgets/base",
       "_view_module_version": "1.2.0",
       "_view_name": "StyleView",
       "bar_color": null,
       "description_width": ""
      }
     },
     "24dcaed4c31c412f9a3d4fdd53718b52": {
      "model_module": "@jupyter-widgets/base",
      "model_module_version": "1.2.0",
      "model_name": "LayoutModel",
      "state": {
       "_model_module": "@jupyter-widgets/base",
       "_model_module_version": "1.2.0",
       "_model_name": "LayoutModel",
       "_view_count": null,
       "_view_module": "@jupyter-widgets/base",
       "_view_module_version": "1.2.0",
       "_view_name": "LayoutView",
       "align_content": null,
       "align_items": null,
       "align_self": null,
       "border": null,
       "bottom": null,
       "display": null,
       "flex": null,
       "flex_flow": null,
       "grid_area": null,
       "grid_auto_columns": null,
       "grid_auto_flow": null,
       "grid_auto_rows": null,
       "grid_column": null,
       "grid_gap": null,
       "grid_row": null,
       "grid_template_areas": null,
       "grid_template_columns": null,
       "grid_template_rows": null,
       "height": null,
       "justify_content": null,
       "justify_items": null,
       "left": null,
       "margin": null,
       "max_height": null,
       "max_width": null,
       "min_height": null,
       "min_width": null,
       "object_fit": null,
       "object_position": null,
       "order": null,
       "overflow": null,
       "overflow_x": null,
       "overflow_y": null,
       "padding": null,
       "right": null,
       "top": null,
       "visibility": null,
       "width": null
      }
     },
     "262f453b2b7644e28ef43af76b3d3a30": {
      "model_module": "@jupyter-widgets/controls",
      "model_module_version": "1.5.0",
      "model_name": "ProgressStyleModel",
      "state": {
       "_model_module": "@jupyter-widgets/controls",
       "_model_module_version": "1.5.0",
       "_model_name": "ProgressStyleModel",
       "_view_count": null,
       "_view_module": "@jupyter-widgets/base",
       "_view_module_version": "1.2.0",
       "_view_name": "StyleView",
       "bar_color": null,
       "description_width": ""
      }
     },
     "2854096af1084dec905209f9f2a635a3": {
      "model_module": "@jupyter-widgets/controls",
      "model_module_version": "1.5.0",
      "model_name": "ProgressStyleModel",
      "state": {
       "_model_module": "@jupyter-widgets/controls",
       "_model_module_version": "1.5.0",
       "_model_name": "ProgressStyleModel",
       "_view_count": null,
       "_view_module": "@jupyter-widgets/base",
       "_view_module_version": "1.2.0",
       "_view_name": "StyleView",
       "bar_color": null,
       "description_width": ""
      }
     },
     "28baa1dd791943c18c649f0165c62342": {
      "model_module": "@jupyter-widgets/base",
      "model_module_version": "1.2.0",
      "model_name": "LayoutModel",
      "state": {
       "_model_module": "@jupyter-widgets/base",
       "_model_module_version": "1.2.0",
       "_model_name": "LayoutModel",
       "_view_count": null,
       "_view_module": "@jupyter-widgets/base",
       "_view_module_version": "1.2.0",
       "_view_name": "LayoutView",
       "align_content": null,
       "align_items": null,
       "align_self": null,
       "border": null,
       "bottom": null,
       "display": null,
       "flex": null,
       "flex_flow": null,
       "grid_area": null,
       "grid_auto_columns": null,
       "grid_auto_flow": null,
       "grid_auto_rows": null,
       "grid_column": null,
       "grid_gap": null,
       "grid_row": null,
       "grid_template_areas": null,
       "grid_template_columns": null,
       "grid_template_rows": null,
       "height": null,
       "justify_content": null,
       "justify_items": null,
       "left": null,
       "margin": null,
       "max_height": null,
       "max_width": null,
       "min_height": null,
       "min_width": null,
       "object_fit": null,
       "object_position": null,
       "order": null,
       "overflow": null,
       "overflow_x": null,
       "overflow_y": null,
       "padding": null,
       "right": null,
       "top": null,
       "visibility": null,
       "width": null
      }
     },
     "29c449c030b7460891ae33f39e6466f2": {
      "model_module": "@jupyter-widgets/controls",
      "model_module_version": "1.5.0",
      "model_name": "DescriptionStyleModel",
      "state": {
       "_model_module": "@jupyter-widgets/controls",
       "_model_module_version": "1.5.0",
       "_model_name": "DescriptionStyleModel",
       "_view_count": null,
       "_view_module": "@jupyter-widgets/base",
       "_view_module_version": "1.2.0",
       "_view_name": "StyleView",
       "description_width": ""
      }
     },
     "35e5ce10c89c483a9cd33f23ebd55f01": {
      "model_module": "@jupyter-widgets/base",
      "model_module_version": "1.2.0",
      "model_name": "LayoutModel",
      "state": {
       "_model_module": "@jupyter-widgets/base",
       "_model_module_version": "1.2.0",
       "_model_name": "LayoutModel",
       "_view_count": null,
       "_view_module": "@jupyter-widgets/base",
       "_view_module_version": "1.2.0",
       "_view_name": "LayoutView",
       "align_content": null,
       "align_items": null,
       "align_self": null,
       "border": null,
       "bottom": null,
       "display": null,
       "flex": null,
       "flex_flow": null,
       "grid_area": null,
       "grid_auto_columns": null,
       "grid_auto_flow": null,
       "grid_auto_rows": null,
       "grid_column": null,
       "grid_gap": null,
       "grid_row": null,
       "grid_template_areas": null,
       "grid_template_columns": null,
       "grid_template_rows": null,
       "height": null,
       "justify_content": null,
       "justify_items": null,
       "left": null,
       "margin": null,
       "max_height": null,
       "max_width": null,
       "min_height": null,
       "min_width": null,
       "object_fit": null,
       "object_position": null,
       "order": null,
       "overflow": null,
       "overflow_x": null,
       "overflow_y": null,
       "padding": null,
       "right": null,
       "top": null,
       "visibility": null,
       "width": null
      }
     },
     "36b812cea07c41b1a20c58958ec2e317": {
      "model_module": "@jupyter-widgets/controls",
      "model_module_version": "1.5.0",
      "model_name": "HTMLModel",
      "state": {
       "_dom_classes": [],
       "_model_module": "@jupyter-widgets/controls",
       "_model_module_version": "1.5.0",
       "_model_name": "HTMLModel",
       "_view_count": null,
       "_view_module": "@jupyter-widgets/controls",
       "_view_module_version": "1.5.0",
       "_view_name": "HTMLView",
       "description": "",
       "description_tooltip": null,
       "layout": "IPY_MODEL_1f045d25716c43e1ba72d606a06518a8",
       "placeholder": "​",
       "style": "IPY_MODEL_f37d343631cf41458c8c5c55177724a5",
       "value": " 456k/456k [00:00&lt;00:00, 5.66MB/s]"
      }
     },
     "3b518e70c46a45dfa80b0be97cdb7b8b": {
      "model_module": "@jupyter-widgets/controls",
      "model_module_version": "1.5.0",
      "model_name": "DescriptionStyleModel",
      "state": {
       "_model_module": "@jupyter-widgets/controls",
       "_model_module_version": "1.5.0",
       "_model_name": "DescriptionStyleModel",
       "_view_count": null,
       "_view_module": "@jupyter-widgets/base",
       "_view_module_version": "1.2.0",
       "_view_name": "StyleView",
       "description_width": ""
      }
     },
     "3f3fbb2d7224406fba0e2b9c3d483f35": {
      "model_module": "@jupyter-widgets/controls",
      "model_module_version": "1.5.0",
      "model_name": "HTMLModel",
      "state": {
       "_dom_classes": [],
       "_model_module": "@jupyter-widgets/controls",
       "_model_module_version": "1.5.0",
       "_model_name": "HTMLModel",
       "_view_count": null,
       "_view_module": "@jupyter-widgets/controls",
       "_view_module_version": "1.5.0",
       "_view_name": "HTMLView",
       "description": "",
       "description_tooltip": null,
       "layout": "IPY_MODEL_f6f869c842b0453898892f441713ef80",
       "placeholder": "​",
       "style": "IPY_MODEL_e317c3d7902a4d1689c49c622b4a6c73",
       "value": "Downloading (…)olve/main/vocab.json: 100%"
      }
     },
     "4e4ba729e03f4ef99a1664facca32c55": {
      "model_module": "@jupyter-widgets/controls",
      "model_module_version": "1.5.0",
      "model_name": "HBoxModel",
      "state": {
       "_dom_classes": [],
       "_model_module": "@jupyter-widgets/controls",
       "_model_module_version": "1.5.0",
       "_model_name": "HBoxModel",
       "_view_count": null,
       "_view_module": "@jupyter-widgets/controls",
       "_view_module_version": "1.5.0",
       "_view_name": "HBoxView",
       "box_style": "",
       "children": [
        "IPY_MODEL_7e5abbd8ef1a4a1e871eba7d7d60429e",
        "IPY_MODEL_93e950bd71624301a69284f0fda7f314",
        "IPY_MODEL_36b812cea07c41b1a20c58958ec2e317"
       ],
       "layout": "IPY_MODEL_9074b6013c5b4e54bb5c536b49962959"
      }
     },
     "4fea6fe89acd408386e1bfe3e9103e83": {
      "model_module": "@jupyter-widgets/controls",
      "model_module_version": "1.5.0",
      "model_name": "DescriptionStyleModel",
      "state": {
       "_model_module": "@jupyter-widgets/controls",
       "_model_module_version": "1.5.0",
       "_model_name": "DescriptionStyleModel",
       "_view_count": null,
       "_view_module": "@jupyter-widgets/base",
       "_view_module_version": "1.2.0",
       "_view_name": "StyleView",
       "description_width": ""
      }
     },
     "5c25d8bfb75c4e83a2b48d0111b97bbd": {
      "model_module": "@jupyter-widgets/controls",
      "model_module_version": "1.5.0",
      "model_name": "HTMLModel",
      "state": {
       "_dom_classes": [],
       "_model_module": "@jupyter-widgets/controls",
       "_model_module_version": "1.5.0",
       "_model_name": "HTMLModel",
       "_view_count": null,
       "_view_module": "@jupyter-widgets/controls",
       "_view_module_version": "1.5.0",
       "_view_name": "HTMLView",
       "description": "",
       "description_tooltip": null,
       "layout": "IPY_MODEL_7178dd40a6bd40b091e6201f8ed3f954",
       "placeholder": "​",
       "style": "IPY_MODEL_4fea6fe89acd408386e1bfe3e9103e83",
       "value": "Downloading (…)lve/main/config.json: 100%"
      }
     },
     "5d4287e31fa44e148803db27da1d67b9": {
      "model_module": "@jupyter-widgets/controls",
      "model_module_version": "1.5.0",
      "model_name": "HBoxModel",
      "state": {
       "_dom_classes": [],
       "_model_module": "@jupyter-widgets/controls",
       "_model_module_version": "1.5.0",
       "_model_name": "HBoxModel",
       "_view_count": null,
       "_view_module": "@jupyter-widgets/controls",
       "_view_module_version": "1.5.0",
       "_view_name": "HBoxView",
       "box_style": "",
       "children": [
        "IPY_MODEL_5c25d8bfb75c4e83a2b48d0111b97bbd",
        "IPY_MODEL_19e2efe04ef7413e89ad64dcf3bb34fc",
        "IPY_MODEL_ab0a8d3347364ca4a976198d46ca0c64"
       ],
       "layout": "IPY_MODEL_28baa1dd791943c18c649f0165c62342"
      }
     },
     "66cfcf79c579493b8e3aed6ae8d9094c": {
      "model_module": "@jupyter-widgets/base",
      "model_module_version": "1.2.0",
      "model_name": "LayoutModel",
      "state": {
       "_model_module": "@jupyter-widgets/base",
       "_model_module_version": "1.2.0",
       "_model_name": "LayoutModel",
       "_view_count": null,
       "_view_module": "@jupyter-widgets/base",
       "_view_module_version": "1.2.0",
       "_view_name": "LayoutView",
       "align_content": null,
       "align_items": null,
       "align_self": null,
       "border": null,
       "bottom": null,
       "display": null,
       "flex": null,
       "flex_flow": null,
       "grid_area": null,
       "grid_auto_columns": null,
       "grid_auto_flow": null,
       "grid_auto_rows": null,
       "grid_column": null,
       "grid_gap": null,
       "grid_row": null,
       "grid_template_areas": null,
       "grid_template_columns": null,
       "grid_template_rows": null,
       "height": null,
       "justify_content": null,
       "justify_items": null,
       "left": null,
       "margin": null,
       "max_height": null,
       "max_width": null,
       "min_height": null,
       "min_width": null,
       "object_fit": null,
       "object_position": null,
       "order": null,
       "overflow": null,
       "overflow_x": null,
       "overflow_y": null,
       "padding": null,
       "right": null,
       "top": null,
       "visibility": null,
       "width": null
      }
     },
     "67ebc733e4ee4dfa976d47f3f78fe7c0": {
      "model_module": "@jupyter-widgets/base",
      "model_module_version": "1.2.0",
      "model_name": "LayoutModel",
      "state": {
       "_model_module": "@jupyter-widgets/base",
       "_model_module_version": "1.2.0",
       "_model_name": "LayoutModel",
       "_view_count": null,
       "_view_module": "@jupyter-widgets/base",
       "_view_module_version": "1.2.0",
       "_view_name": "LayoutView",
       "align_content": null,
       "align_items": null,
       "align_self": null,
       "border": null,
       "bottom": null,
       "display": null,
       "flex": null,
       "flex_flow": null,
       "grid_area": null,
       "grid_auto_columns": null,
       "grid_auto_flow": null,
       "grid_auto_rows": null,
       "grid_column": null,
       "grid_gap": null,
       "grid_row": null,
       "grid_template_areas": null,
       "grid_template_columns": null,
       "grid_template_rows": null,
       "height": null,
       "justify_content": null,
       "justify_items": null,
       "left": null,
       "margin": null,
       "max_height": null,
       "max_width": null,
       "min_height": null,
       "min_width": null,
       "object_fit": null,
       "object_position": null,
       "order": null,
       "overflow": null,
       "overflow_x": null,
       "overflow_y": null,
       "padding": null,
       "right": null,
       "top": null,
       "visibility": null,
       "width": null
      }
     },
     "6d16bf90c4ea49d8a027df926d0151ad": {
      "model_module": "@jupyter-widgets/base",
      "model_module_version": "1.2.0",
      "model_name": "LayoutModel",
      "state": {
       "_model_module": "@jupyter-widgets/base",
       "_model_module_version": "1.2.0",
       "_model_name": "LayoutModel",
       "_view_count": null,
       "_view_module": "@jupyter-widgets/base",
       "_view_module_version": "1.2.0",
       "_view_name": "LayoutView",
       "align_content": null,
       "align_items": null,
       "align_self": null,
       "border": null,
       "bottom": null,
       "display": null,
       "flex": null,
       "flex_flow": null,
       "grid_area": null,
       "grid_auto_columns": null,
       "grid_auto_flow": null,
       "grid_auto_rows": null,
       "grid_column": null,
       "grid_gap": null,
       "grid_row": null,
       "grid_template_areas": null,
       "grid_template_columns": null,
       "grid_template_rows": null,
       "height": null,
       "justify_content": null,
       "justify_items": null,
       "left": null,
       "margin": null,
       "max_height": null,
       "max_width": null,
       "min_height": null,
       "min_width": null,
       "object_fit": null,
       "object_position": null,
       "order": null,
       "overflow": null,
       "overflow_x": null,
       "overflow_y": null,
       "padding": null,
       "right": null,
       "top": null,
       "visibility": null,
       "width": null
      }
     },
     "70c2800a1ae74341a6e19c628e5152d0": {
      "model_module": "@jupyter-widgets/base",
      "model_module_version": "1.2.0",
      "model_name": "LayoutModel",
      "state": {
       "_model_module": "@jupyter-widgets/base",
       "_model_module_version": "1.2.0",
       "_model_name": "LayoutModel",
       "_view_count": null,
       "_view_module": "@jupyter-widgets/base",
       "_view_module_version": "1.2.0",
       "_view_name": "LayoutView",
       "align_content": null,
       "align_items": null,
       "align_self": null,
       "border": null,
       "bottom": null,
       "display": null,
       "flex": null,
       "flex_flow": null,
       "grid_area": null,
       "grid_auto_columns": null,
       "grid_auto_flow": null,
       "grid_auto_rows": null,
       "grid_column": null,
       "grid_gap": null,
       "grid_row": null,
       "grid_template_areas": null,
       "grid_template_columns": null,
       "grid_template_rows": null,
       "height": null,
       "justify_content": null,
       "justify_items": null,
       "left": null,
       "margin": null,
       "max_height": null,
       "max_width": null,
       "min_height": null,
       "min_width": null,
       "object_fit": null,
       "object_position": null,
       "order": null,
       "overflow": null,
       "overflow_x": null,
       "overflow_y": null,
       "padding": null,
       "right": null,
       "top": null,
       "visibility": null,
       "width": null
      }
     },
     "7116ae822cd44b97814211c7facbc195": {
      "model_module": "@jupyter-widgets/controls",
      "model_module_version": "1.5.0",
      "model_name": "DescriptionStyleModel",
      "state": {
       "_model_module": "@jupyter-widgets/controls",
       "_model_module_version": "1.5.0",
       "_model_name": "DescriptionStyleModel",
       "_view_count": null,
       "_view_module": "@jupyter-widgets/base",
       "_view_module_version": "1.2.0",
       "_view_name": "StyleView",
       "description_width": ""
      }
     },
     "712696c4e6d64b9d827cf389a5e14b50": {
      "model_module": "@jupyter-widgets/base",
      "model_module_version": "1.2.0",
      "model_name": "LayoutModel",
      "state": {
       "_model_module": "@jupyter-widgets/base",
       "_model_module_version": "1.2.0",
       "_model_name": "LayoutModel",
       "_view_count": null,
       "_view_module": "@jupyter-widgets/base",
       "_view_module_version": "1.2.0",
       "_view_name": "LayoutView",
       "align_content": null,
       "align_items": null,
       "align_self": null,
       "border": null,
       "bottom": null,
       "display": null,
       "flex": null,
       "flex_flow": null,
       "grid_area": null,
       "grid_auto_columns": null,
       "grid_auto_flow": null,
       "grid_auto_rows": null,
       "grid_column": null,
       "grid_gap": null,
       "grid_row": null,
       "grid_template_areas": null,
       "grid_template_columns": null,
       "grid_template_rows": null,
       "height": null,
       "justify_content": null,
       "justify_items": null,
       "left": null,
       "margin": null,
       "max_height": null,
       "max_width": null,
       "min_height": null,
       "min_width": null,
       "object_fit": null,
       "object_position": null,
       "order": null,
       "overflow": null,
       "overflow_x": null,
       "overflow_y": null,
       "padding": null,
       "right": null,
       "top": null,
       "visibility": null,
       "width": null
      }
     },
     "7178dd40a6bd40b091e6201f8ed3f954": {
      "model_module": "@jupyter-widgets/base",
      "model_module_version": "1.2.0",
      "model_name": "LayoutModel",
      "state": {
       "_model_module": "@jupyter-widgets/base",
       "_model_module_version": "1.2.0",
       "_model_name": "LayoutModel",
       "_view_count": null,
       "_view_module": "@jupyter-widgets/base",
       "_view_module_version": "1.2.0",
       "_view_name": "LayoutView",
       "align_content": null,
       "align_items": null,
       "align_self": null,
       "border": null,
       "bottom": null,
       "display": null,
       "flex": null,
       "flex_flow": null,
       "grid_area": null,
       "grid_auto_columns": null,
       "grid_auto_flow": null,
       "grid_auto_rows": null,
       "grid_column": null,
       "grid_gap": null,
       "grid_row": null,
       "grid_template_areas": null,
       "grid_template_columns": null,
       "grid_template_rows": null,
       "height": null,
       "justify_content": null,
       "justify_items": null,
       "left": null,
       "margin": null,
       "max_height": null,
       "max_width": null,
       "min_height": null,
       "min_width": null,
       "object_fit": null,
       "object_position": null,
       "order": null,
       "overflow": null,
       "overflow_x": null,
       "overflow_y": null,
       "padding": null,
       "right": null,
       "top": null,
       "visibility": null,
       "width": null
      }
     },
     "7ca0149659684a8cbb354c0d4379518a": {
      "model_module": "@jupyter-widgets/base",
      "model_module_version": "1.2.0",
      "model_name": "LayoutModel",
      "state": {
       "_model_module": "@jupyter-widgets/base",
       "_model_module_version": "1.2.0",
       "_model_name": "LayoutModel",
       "_view_count": null,
       "_view_module": "@jupyter-widgets/base",
       "_view_module_version": "1.2.0",
       "_view_name": "LayoutView",
       "align_content": null,
       "align_items": null,
       "align_self": null,
       "border": null,
       "bottom": null,
       "display": null,
       "flex": null,
       "flex_flow": null,
       "grid_area": null,
       "grid_auto_columns": null,
       "grid_auto_flow": null,
       "grid_auto_rows": null,
       "grid_column": null,
       "grid_gap": null,
       "grid_row": null,
       "grid_template_areas": null,
       "grid_template_columns": null,
       "grid_template_rows": null,
       "height": null,
       "justify_content": null,
       "justify_items": null,
       "left": null,
       "margin": null,
       "max_height": null,
       "max_width": null,
       "min_height": null,
       "min_width": null,
       "object_fit": null,
       "object_position": null,
       "order": null,
       "overflow": null,
       "overflow_x": null,
       "overflow_y": null,
       "padding": null,
       "right": null,
       "top": null,
       "visibility": null,
       "width": null
      }
     },
     "7e5abbd8ef1a4a1e871eba7d7d60429e": {
      "model_module": "@jupyter-widgets/controls",
      "model_module_version": "1.5.0",
      "model_name": "HTMLModel",
      "state": {
       "_dom_classes": [],
       "_model_module": "@jupyter-widgets/controls",
       "_model_module_version": "1.5.0",
       "_model_name": "HTMLModel",
       "_view_count": null,
       "_view_module": "@jupyter-widgets/controls",
       "_view_module_version": "1.5.0",
       "_view_name": "HTMLView",
       "description": "",
       "description_tooltip": null,
       "layout": "IPY_MODEL_c734531ec253452aa50a7879074ee7bc",
       "placeholder": "​",
       "style": "IPY_MODEL_9ec4500f41c9421bae78491d9cf3fa11",
       "value": "Downloading (…)olve/main/merges.txt: 100%"
      }
     },
     "81d515995ef34ff681d7f65609b73673": {
      "model_module": "@jupyter-widgets/controls",
      "model_module_version": "1.5.0",
      "model_name": "HBoxModel",
      "state": {
       "_dom_classes": [],
       "_model_module": "@jupyter-widgets/controls",
       "_model_module_version": "1.5.0",
       "_model_name": "HBoxModel",
       "_view_count": null,
       "_view_module": "@jupyter-widgets/controls",
       "_view_module_version": "1.5.0",
       "_view_name": "HBoxView",
       "box_style": "",
       "children": [
        "IPY_MODEL_fa2c381585ca42ba9fd9cbe8c5bf56d5",
        "IPY_MODEL_18c7654497454e5c85aca48292cfd30b",
        "IPY_MODEL_faeaa50e55d142858084722fe5b4d42d"
       ],
       "layout": "IPY_MODEL_6d16bf90c4ea49d8a027df926d0151ad"
      }
     },
     "86f0c620418742d6b399429b5e128388": {
      "model_module": "@jupyter-widgets/controls",
      "model_module_version": "1.5.0",
      "model_name": "DescriptionStyleModel",
      "state": {
       "_model_module": "@jupyter-widgets/controls",
       "_model_module_version": "1.5.0",
       "_model_name": "DescriptionStyleModel",
       "_view_count": null,
       "_view_module": "@jupyter-widgets/base",
       "_view_module_version": "1.2.0",
       "_view_name": "StyleView",
       "description_width": ""
      }
     },
     "88766f6e52534178b93a2913bdd9445c": {
      "model_module": "@jupyter-widgets/controls",
      "model_module_version": "1.5.0",
      "model_name": "DescriptionStyleModel",
      "state": {
       "_model_module": "@jupyter-widgets/controls",
       "_model_module_version": "1.5.0",
       "_model_name": "DescriptionStyleModel",
       "_view_count": null,
       "_view_module": "@jupyter-widgets/base",
       "_view_module_version": "1.2.0",
       "_view_name": "StyleView",
       "description_width": ""
      }
     },
     "9074b6013c5b4e54bb5c536b49962959": {
      "model_module": "@jupyter-widgets/base",
      "model_module_version": "1.2.0",
      "model_name": "LayoutModel",
      "state": {
       "_model_module": "@jupyter-widgets/base",
       "_model_module_version": "1.2.0",
       "_model_name": "LayoutModel",
       "_view_count": null,
       "_view_module": "@jupyter-widgets/base",
       "_view_module_version": "1.2.0",
       "_view_name": "LayoutView",
       "align_content": null,
       "align_items": null,
       "align_self": null,
       "border": null,
       "bottom": null,
       "display": null,
       "flex": null,
       "flex_flow": null,
       "grid_area": null,
       "grid_auto_columns": null,
       "grid_auto_flow": null,
       "grid_auto_rows": null,
       "grid_column": null,
       "grid_gap": null,
       "grid_row": null,
       "grid_template_areas": null,
       "grid_template_columns": null,
       "grid_template_rows": null,
       "height": null,
       "justify_content": null,
       "justify_items": null,
       "left": null,
       "margin": null,
       "max_height": null,
       "max_width": null,
       "min_height": null,
       "min_width": null,
       "object_fit": null,
       "object_position": null,
       "order": null,
       "overflow": null,
       "overflow_x": null,
       "overflow_y": null,
       "padding": null,
       "right": null,
       "top": null,
       "visibility": null,
       "width": null
      }
     },
     "93e950bd71624301a69284f0fda7f314": {
      "model_module": "@jupyter-widgets/controls",
      "model_module_version": "1.5.0",
      "model_name": "FloatProgressModel",
      "state": {
       "_dom_classes": [],
       "_model_module": "@jupyter-widgets/controls",
       "_model_module_version": "1.5.0",
       "_model_name": "FloatProgressModel",
       "_view_count": null,
       "_view_module": "@jupyter-widgets/controls",
       "_view_module_version": "1.5.0",
       "_view_name": "ProgressView",
       "bar_style": "success",
       "description": "",
       "description_tooltip": null,
       "layout": "IPY_MODEL_70c2800a1ae74341a6e19c628e5152d0",
       "max": 456318.0,
       "min": 0.0,
       "orientation": "horizontal",
       "style": "IPY_MODEL_262f453b2b7644e28ef43af76b3d3a30",
       "value": 456318.0
      }
     },
     "9a6f606b0d694f70b174e5ab91f71ce3": {
      "model_module": "@jupyter-widgets/controls",
      "model_module_version": "1.5.0",
      "model_name": "FloatProgressModel",
      "state": {
       "_dom_classes": [],
       "_model_module": "@jupyter-widgets/controls",
       "_model_module_version": "1.5.0",
       "_model_name": "FloatProgressModel",
       "_view_count": null,
       "_view_module": "@jupyter-widgets/controls",
       "_view_module_version": "1.5.0",
       "_view_name": "ProgressView",
       "bar_style": "success",
       "description": "",
       "description_tooltip": null,
       "layout": "IPY_MODEL_c12f6ccc573f4b72b6bf12fc10ed5882",
       "max": 498679497.0,
       "min": 0.0,
       "orientation": "horizontal",
       "style": "IPY_MODEL_ac43f146f10046bfa75805625c096ec3",
       "value": 498679497.0
      }
     },
     "9ec4500f41c9421bae78491d9cf3fa11": {
      "model_module": "@jupyter-widgets/controls",
      "model_module_version": "1.5.0",
      "model_name": "DescriptionStyleModel",
      "state": {
       "_model_module": "@jupyter-widgets/controls",
       "_model_module_version": "1.5.0",
       "_model_name": "DescriptionStyleModel",
       "_view_count": null,
       "_view_module": "@jupyter-widgets/base",
       "_view_module_version": "1.2.0",
       "_view_name": "StyleView",
       "description_width": ""
      }
     },
     "ab0a8d3347364ca4a976198d46ca0c64": {
      "model_module": "@jupyter-widgets/controls",
      "model_module_version": "1.5.0",
      "model_name": "HTMLModel",
      "state": {
       "_dom_classes": [],
       "_model_module": "@jupyter-widgets/controls",
       "_model_module_version": "1.5.0",
       "_model_name": "HTMLModel",
       "_view_count": null,
       "_view_module": "@jupyter-widgets/controls",
       "_view_module_version": "1.5.0",
       "_view_name": "HTMLView",
       "description": "",
       "description_tooltip": null,
       "layout": "IPY_MODEL_fae9b09fe4f24df593c7fa20dfd6d73f",
       "placeholder": "​",
       "style": "IPY_MODEL_86f0c620418742d6b399429b5e128388",
       "value": " 747/747 [00:00&lt;00:00, 51.0kB/s]"
      }
     },
     "ac43f146f10046bfa75805625c096ec3": {
      "model_module": "@jupyter-widgets/controls",
      "model_module_version": "1.5.0",
      "model_name": "ProgressStyleModel",
      "state": {
       "_model_module": "@jupyter-widgets/controls",
       "_model_module_version": "1.5.0",
       "_model_name": "ProgressStyleModel",
       "_view_count": null,
       "_view_module": "@jupyter-widgets/base",
       "_view_module_version": "1.2.0",
       "_view_name": "StyleView",
       "bar_color": null,
       "description_width": ""
      }
     },
     "b1d097881b6140228c9b6a74c43d0712": {
      "model_module": "@jupyter-widgets/controls",
      "model_module_version": "1.5.0",
      "model_name": "HTMLModel",
      "state": {
       "_dom_classes": [],
       "_model_module": "@jupyter-widgets/controls",
       "_model_module_version": "1.5.0",
       "_model_name": "HTMLModel",
       "_view_count": null,
       "_view_module": "@jupyter-widgets/controls",
       "_view_module_version": "1.5.0",
       "_view_name": "HTMLView",
       "description": "",
       "description_tooltip": null,
       "layout": "IPY_MODEL_66cfcf79c579493b8e3aed6ae8d9094c",
       "placeholder": "​",
       "style": "IPY_MODEL_3b518e70c46a45dfa80b0be97cdb7b8b",
       "value": " 899k/899k [00:00&lt;00:00, 3.72MB/s]"
      }
     },
     "c12f6ccc573f4b72b6bf12fc10ed5882": {
      "model_module": "@jupyter-widgets/base",
      "model_module_version": "1.2.0",
      "model_name": "LayoutModel",
      "state": {
       "_model_module": "@jupyter-widgets/base",
       "_model_module_version": "1.2.0",
       "_model_name": "LayoutModel",
       "_view_count": null,
       "_view_module": "@jupyter-widgets/base",
       "_view_module_version": "1.2.0",
       "_view_name": "LayoutView",
       "align_content": null,
       "align_items": null,
       "align_self": null,
       "border": null,
       "bottom": null,
       "display": null,
       "flex": null,
       "flex_flow": null,
       "grid_area": null,
       "grid_auto_columns": null,
       "grid_auto_flow": null,
       "grid_auto_rows": null,
       "grid_column": null,
       "grid_gap": null,
       "grid_row": null,
       "grid_template_areas": null,
       "grid_template_columns": null,
       "grid_template_rows": null,
       "height": null,
       "justify_content": null,
       "justify_items": null,
       "left": null,
       "margin": null,
       "max_height": null,
       "max_width": null,
       "min_height": null,
       "min_width": null,
       "object_fit": null,
       "object_position": null,
       "order": null,
       "overflow": null,
       "overflow_x": null,
       "overflow_y": null,
       "padding": null,
       "right": null,
       "top": null,
       "visibility": null,
       "width": null
      }
     },
     "c734531ec253452aa50a7879074ee7bc": {
      "model_module": "@jupyter-widgets/base",
      "model_module_version": "1.2.0",
      "model_name": "LayoutModel",
      "state": {
       "_model_module": "@jupyter-widgets/base",
       "_model_module_version": "1.2.0",
       "_model_name": "LayoutModel",
       "_view_count": null,
       "_view_module": "@jupyter-widgets/base",
       "_view_module_version": "1.2.0",
       "_view_name": "LayoutView",
       "align_content": null,
       "align_items": null,
       "align_self": null,
       "border": null,
       "bottom": null,
       "display": null,
       "flex": null,
       "flex_flow": null,
       "grid_area": null,
       "grid_auto_columns": null,
       "grid_auto_flow": null,
       "grid_auto_rows": null,
       "grid_column": null,
       "grid_gap": null,
       "grid_row": null,
       "grid_template_areas": null,
       "grid_template_columns": null,
       "grid_template_rows": null,
       "height": null,
       "justify_content": null,
       "justify_items": null,
       "left": null,
       "margin": null,
       "max_height": null,
       "max_width": null,
       "min_height": null,
       "min_width": null,
       "object_fit": null,
       "object_position": null,
       "order": null,
       "overflow": null,
       "overflow_x": null,
       "overflow_y": null,
       "padding": null,
       "right": null,
       "top": null,
       "visibility": null,
       "width": null
      }
     },
     "d083fe6b0ad84fa4a193741616090111": {
      "model_module": "@jupyter-widgets/base",
      "model_module_version": "1.2.0",
      "model_name": "LayoutModel",
      "state": {
       "_model_module": "@jupyter-widgets/base",
       "_model_module_version": "1.2.0",
       "_model_name": "LayoutModel",
       "_view_count": null,
       "_view_module": "@jupyter-widgets/base",
       "_view_module_version": "1.2.0",
       "_view_name": "LayoutView",
       "align_content": null,
       "align_items": null,
       "align_self": null,
       "border": null,
       "bottom": null,
       "display": null,
       "flex": null,
       "flex_flow": null,
       "grid_area": null,
       "grid_auto_columns": null,
       "grid_auto_flow": null,
       "grid_auto_rows": null,
       "grid_column": null,
       "grid_gap": null,
       "grid_row": null,
       "grid_template_areas": null,
       "grid_template_columns": null,
       "grid_template_rows": null,
       "height": null,
       "justify_content": null,
       "justify_items": null,
       "left": null,
       "margin": null,
       "max_height": null,
       "max_width": null,
       "min_height": null,
       "min_width": null,
       "object_fit": null,
       "object_position": null,
       "order": null,
       "overflow": null,
       "overflow_x": null,
       "overflow_y": null,
       "padding": null,
       "right": null,
       "top": null,
       "visibility": null,
       "width": null
      }
     },
     "d10a4f6cf4f9449ca64ef136971f0dfa": {
      "model_module": "@jupyter-widgets/controls",
      "model_module_version": "1.5.0",
      "model_name": "DescriptionStyleModel",
      "state": {
       "_model_module": "@jupyter-widgets/controls",
       "_model_module_version": "1.5.0",
       "_model_name": "DescriptionStyleModel",
       "_view_count": null,
       "_view_module": "@jupyter-widgets/base",
       "_view_module_version": "1.2.0",
       "_view_name": "StyleView",
       "description_width": ""
      }
     },
     "d7f04b51172e40469c2ff5889de2c5c0": {
      "model_module": "@jupyter-widgets/controls",
      "model_module_version": "1.5.0",
      "model_name": "HTMLModel",
      "state": {
       "_dom_classes": [],
       "_model_module": "@jupyter-widgets/controls",
       "_model_module_version": "1.5.0",
       "_model_name": "HTMLModel",
       "_view_count": null,
       "_view_module": "@jupyter-widgets/controls",
       "_view_module_version": "1.5.0",
       "_view_name": "HTMLView",
       "description": "",
       "description_tooltip": null,
       "layout": "IPY_MODEL_7ca0149659684a8cbb354c0d4379518a",
       "placeholder": "​",
       "style": "IPY_MODEL_d10a4f6cf4f9449ca64ef136971f0dfa",
       "value": " 499M/499M [00:01&lt;00:00, 323MB/s]"
      }
     },
     "e317c3d7902a4d1689c49c622b4a6c73": {
      "model_module": "@jupyter-widgets/controls",
      "model_module_version": "1.5.0",
      "model_name": "DescriptionStyleModel",
      "state": {
       "_model_module": "@jupyter-widgets/controls",
       "_model_module_version": "1.5.0",
       "_model_name": "DescriptionStyleModel",
       "_view_count": null,
       "_view_module": "@jupyter-widgets/base",
       "_view_module_version": "1.2.0",
       "_view_name": "StyleView",
       "description_width": ""
      }
     },
     "e5a3f682d85f4bbfab8e63b5f4d9f72c": {
      "model_module": "@jupyter-widgets/controls",
      "model_module_version": "1.5.0",
      "model_name": "ProgressStyleModel",
      "state": {
       "_model_module": "@jupyter-widgets/controls",
       "_model_module_version": "1.5.0",
       "_model_name": "ProgressStyleModel",
       "_view_count": null,
       "_view_module": "@jupyter-widgets/base",
       "_view_module_version": "1.2.0",
       "_view_name": "StyleView",
       "bar_color": null,
       "description_width": ""
      }
     },
     "efaf8b8a972d4b5aa680a47d5dc93b61": {
      "model_module": "@jupyter-widgets/controls",
      "model_module_version": "1.5.0",
      "model_name": "FloatProgressModel",
      "state": {
       "_dom_classes": [],
       "_model_module": "@jupyter-widgets/controls",
       "_model_module_version": "1.5.0",
       "_model_name": "FloatProgressModel",
       "_view_count": null,
       "_view_module": "@jupyter-widgets/controls",
       "_view_module_version": "1.5.0",
       "_view_name": "ProgressView",
       "bar_style": "success",
       "description": "",
       "description_tooltip": null,
       "layout": "IPY_MODEL_712696c4e6d64b9d827cf389a5e14b50",
       "max": 898822.0,
       "min": 0.0,
       "orientation": "horizontal",
       "style": "IPY_MODEL_23b99a44a5994b589d6192af62eb8539",
       "value": 898822.0
      }
     },
     "f060f4f22b3c479282aee4a75fb40db0": {
      "model_module": "@jupyter-widgets/controls",
      "model_module_version": "1.5.0",
      "model_name": "HBoxModel",
      "state": {
       "_dom_classes": [],
       "_model_module": "@jupyter-widgets/controls",
       "_model_module_version": "1.5.0",
       "_model_name": "HBoxModel",
       "_view_count": null,
       "_view_module": "@jupyter-widgets/controls",
       "_view_module_version": "1.5.0",
       "_view_name": "HBoxView",
       "box_style": "",
       "children": [
        "IPY_MODEL_3f3fbb2d7224406fba0e2b9c3d483f35",
        "IPY_MODEL_efaf8b8a972d4b5aa680a47d5dc93b61",
        "IPY_MODEL_b1d097881b6140228c9b6a74c43d0712"
       ],
       "layout": "IPY_MODEL_092d2a50f92a4a3697dad624bf39d33e"
      }
     },
     "f37d343631cf41458c8c5c55177724a5": {
      "model_module": "@jupyter-widgets/controls",
      "model_module_version": "1.5.0",
      "model_name": "DescriptionStyleModel",
      "state": {
       "_model_module": "@jupyter-widgets/controls",
       "_model_module_version": "1.5.0",
       "_model_name": "DescriptionStyleModel",
       "_view_count": null,
       "_view_module": "@jupyter-widgets/base",
       "_view_module_version": "1.2.0",
       "_view_name": "StyleView",
       "description_width": ""
      }
     },
     "f6f869c842b0453898892f441713ef80": {
      "model_module": "@jupyter-widgets/base",
      "model_module_version": "1.2.0",
      "model_name": "LayoutModel",
      "state": {
       "_model_module": "@jupyter-widgets/base",
       "_model_module_version": "1.2.0",
       "_model_name": "LayoutModel",
       "_view_count": null,
       "_view_module": "@jupyter-widgets/base",
       "_view_module_version": "1.2.0",
       "_view_name": "LayoutView",
       "align_content": null,
       "align_items": null,
       "align_self": null,
       "border": null,
       "bottom": null,
       "display": null,
       "flex": null,
       "flex_flow": null,
       "grid_area": null,
       "grid_auto_columns": null,
       "grid_auto_flow": null,
       "grid_auto_rows": null,
       "grid_column": null,
       "grid_gap": null,
       "grid_row": null,
       "grid_template_areas": null,
       "grid_template_columns": null,
       "grid_template_rows": null,
       "height": null,
       "justify_content": null,
       "justify_items": null,
       "left": null,
       "margin": null,
       "max_height": null,
       "max_width": null,
       "min_height": null,
       "min_width": null,
       "object_fit": null,
       "object_position": null,
       "order": null,
       "overflow": null,
       "overflow_x": null,
       "overflow_y": null,
       "padding": null,
       "right": null,
       "top": null,
       "visibility": null,
       "width": null
      }
     },
     "fa2c381585ca42ba9fd9cbe8c5bf56d5": {
      "model_module": "@jupyter-widgets/controls",
      "model_module_version": "1.5.0",
      "model_name": "HTMLModel",
      "state": {
       "_dom_classes": [],
       "_model_module": "@jupyter-widgets/controls",
       "_model_module_version": "1.5.0",
       "_model_name": "HTMLModel",
       "_view_count": null,
       "_view_module": "@jupyter-widgets/controls",
       "_view_module_version": "1.5.0",
       "_view_name": "HTMLView",
       "description": "",
       "description_tooltip": null,
       "layout": "IPY_MODEL_35e5ce10c89c483a9cd33f23ebd55f01",
       "placeholder": "​",
       "style": "IPY_MODEL_88766f6e52534178b93a2913bdd9445c",
       "value": "Downloading (…)cial_tokens_map.json: 100%"
      }
     },
     "fae9b09fe4f24df593c7fa20dfd6d73f": {
      "model_module": "@jupyter-widgets/base",
      "model_module_version": "1.2.0",
      "model_name": "LayoutModel",
      "state": {
       "_model_module": "@jupyter-widgets/base",
       "_model_module_version": "1.2.0",
       "_model_name": "LayoutModel",
       "_view_count": null,
       "_view_module": "@jupyter-widgets/base",
       "_view_module_version": "1.2.0",
       "_view_name": "LayoutView",
       "align_content": null,
       "align_items": null,
       "align_self": null,
       "border": null,
       "bottom": null,
       "display": null,
       "flex": null,
       "flex_flow": null,
       "grid_area": null,
       "grid_auto_columns": null,
       "grid_auto_flow": null,
       "grid_auto_rows": null,
       "grid_column": null,
       "grid_gap": null,
       "grid_row": null,
       "grid_template_areas": null,
       "grid_template_columns": null,
       "grid_template_rows": null,
       "height": null,
       "justify_content": null,
       "justify_items": null,
       "left": null,
       "margin": null,
       "max_height": null,
       "max_width": null,
       "min_height": null,
       "min_width": null,
       "object_fit": null,
       "object_position": null,
       "order": null,
       "overflow": null,
       "overflow_x": null,
       "overflow_y": null,
       "padding": null,
       "right": null,
       "top": null,
       "visibility": null,
       "width": null
      }
     },
     "faeaa50e55d142858084722fe5b4d42d": {
      "model_module": "@jupyter-widgets/controls",
      "model_module_version": "1.5.0",
      "model_name": "HTMLModel",
      "state": {
       "_dom_classes": [],
       "_model_module": "@jupyter-widgets/controls",
       "_model_module_version": "1.5.0",
       "_model_name": "HTMLModel",
       "_view_count": null,
       "_view_module": "@jupyter-widgets/controls",
       "_view_module_version": "1.5.0",
       "_view_name": "HTMLView",
       "description": "",
       "description_tooltip": null,
       "layout": "IPY_MODEL_024186b0f9b04ca5bf4ccaf9fdff3daa",
       "placeholder": "​",
       "style": "IPY_MODEL_29c449c030b7460891ae33f39e6466f2",
       "value": " 150/150 [00:00&lt;00:00, 10.7kB/s]"
      }
     }
    },
    "version_major": 2,
    "version_minor": 0
   }
  }
 },
 "nbformat": 4,
 "nbformat_minor": 5
}
