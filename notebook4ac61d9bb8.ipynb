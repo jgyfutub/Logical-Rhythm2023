{
 "cells": [
  {
   "cell_type": "code",
   "execution_count": 1,
   "id": "63b48003",
   "metadata": {
    "_cell_guid": "b1076dfc-b9ad-4769-8c92-a6c4dae69d19",
    "_uuid": "8f2839f25d086af736a60e9eeb907d3b93b6e0e5",
    "execution": {
     "iopub.execute_input": "2023-11-07T11:54:50.368832Z",
     "iopub.status.busy": "2023-11-07T11:54:50.368418Z",
     "iopub.status.idle": "2023-11-07T11:55:04.057200Z",
     "shell.execute_reply": "2023-11-07T11:55:04.055803Z"
    },
    "papermill": {
     "duration": 13.702903,
     "end_time": "2023-11-07T11:55:04.060150",
     "exception": false,
     "start_time": "2023-11-07T11:54:50.357247",
     "status": "completed"
    },
    "tags": []
   },
   "outputs": [],
   "source": [
    "import pandas as pd\n",
    "from sklearn.compose import ColumnTransformer\n",
    "from sklearn.pipeline import Pipeline\n",
    "from sklearn.impute import SimpleImputer\n",
    "from sklearn.preprocessing import OneHotEncoder\n",
    "from sklearn.preprocessing import OrdinalEncoder\n",
    "from catboost import CatBoostClassifier\n",
    "from sklearn.model_selection import GridSearchCV\n",
    "from keras.models import Sequential\n",
    "from keras.layers import Dense,Dropout\n",
    "from sklearn.preprocessing import StandardScaler"
   ]
  },
  {
   "cell_type": "code",
   "execution_count": 2,
   "id": "d09804b0",
   "metadata": {
    "execution": {
     "iopub.execute_input": "2023-11-07T11:55:04.076880Z",
     "iopub.status.busy": "2023-11-07T11:55:04.076179Z",
     "iopub.status.idle": "2023-11-07T11:55:10.218491Z",
     "shell.execute_reply": "2023-11-07T11:55:10.217365Z"
    },
    "papermill": {
     "duration": 6.153777,
     "end_time": "2023-11-07T11:55:10.221224",
     "exception": false,
     "start_time": "2023-11-07T11:55:04.067447",
     "status": "completed"
    },
    "tags": []
   },
   "outputs": [
    {
     "name": "stdout",
     "output_type": "stream",
     "text": [
      "['trans_date_trans_time', 'merchant', 'category', 'first', 'last', 'gender', 'street', 'city', 'state', 'job', 'dob', 'trans_num']\n"
     ]
    },
    {
     "data": {
      "text/html": [
       "<div>\n",
       "<style scoped>\n",
       "    .dataframe tbody tr th:only-of-type {\n",
       "        vertical-align: middle;\n",
       "    }\n",
       "\n",
       "    .dataframe tbody tr th {\n",
       "        vertical-align: top;\n",
       "    }\n",
       "\n",
       "    .dataframe thead th {\n",
       "        text-align: right;\n",
       "    }\n",
       "</style>\n",
       "<table border=\"1\" class=\"dataframe\">\n",
       "  <thead>\n",
       "    <tr style=\"text-align: right;\">\n",
       "      <th></th>\n",
       "      <th>id</th>\n",
       "      <th>trans_date_trans_time</th>\n",
       "      <th>cc_num</th>\n",
       "      <th>merchant</th>\n",
       "      <th>category</th>\n",
       "      <th>amt</th>\n",
       "      <th>first</th>\n",
       "      <th>last</th>\n",
       "      <th>gender</th>\n",
       "      <th>street</th>\n",
       "      <th>...</th>\n",
       "      <th>lat</th>\n",
       "      <th>long</th>\n",
       "      <th>city_pop</th>\n",
       "      <th>job</th>\n",
       "      <th>dob</th>\n",
       "      <th>trans_num</th>\n",
       "      <th>unix_time</th>\n",
       "      <th>merch_lat</th>\n",
       "      <th>merch_long</th>\n",
       "      <th>is_fraud</th>\n",
       "    </tr>\n",
       "  </thead>\n",
       "  <tbody>\n",
       "    <tr>\n",
       "      <th>0</th>\n",
       "      <td>1</td>\n",
       "      <td>2019-12-15 10:35:10</td>\n",
       "      <td>3597926034019603</td>\n",
       "      <td>fraud_Ruecker Group</td>\n",
       "      <td>misc_net</td>\n",
       "      <td>7.19</td>\n",
       "      <td>Derrick</td>\n",
       "      <td>Flores</td>\n",
       "      <td>M</td>\n",
       "      <td>83690 Nicholas Ports Apt. 846</td>\n",
       "      <td>...</td>\n",
       "      <td>35.2229</td>\n",
       "      <td>-89.5518</td>\n",
       "      <td>9496</td>\n",
       "      <td>Furniture conservator/restorer</td>\n",
       "      <td>1993-03-23</td>\n",
       "      <td>2642fec2e19c9e18e61fe9a88f6bc79a</td>\n",
       "      <td>1355567710</td>\n",
       "      <td>35.189455</td>\n",
       "      <td>-90.121666</td>\n",
       "      <td>0</td>\n",
       "    </tr>\n",
       "    <tr>\n",
       "      <th>1</th>\n",
       "      <td>2</td>\n",
       "      <td>2019-04-10 21:49:53</td>\n",
       "      <td>4873783502705038</td>\n",
       "      <td>fraud_Lynch Ltd</td>\n",
       "      <td>shopping_pos</td>\n",
       "      <td>6.32</td>\n",
       "      <td>Elizabeth</td>\n",
       "      <td>Maxwell</td>\n",
       "      <td>F</td>\n",
       "      <td>194 Goodman Fall Apt. 569</td>\n",
       "      <td>...</td>\n",
       "      <td>48.4786</td>\n",
       "      <td>-122.3345</td>\n",
       "      <td>14871</td>\n",
       "      <td>Public house manager</td>\n",
       "      <td>1974-03-10</td>\n",
       "      <td>61cec15bdbd3db31b12f886e8e181380</td>\n",
       "      <td>1334094593</td>\n",
       "      <td>49.004316</td>\n",
       "      <td>-122.745016</td>\n",
       "      <td>0</td>\n",
       "    </tr>\n",
       "    <tr>\n",
       "      <th>2</th>\n",
       "      <td>3</td>\n",
       "      <td>2020-02-16 10:56:18</td>\n",
       "      <td>213161869125933</td>\n",
       "      <td>fraud_Bauch-Raynor</td>\n",
       "      <td>grocery_pos</td>\n",
       "      <td>147.59</td>\n",
       "      <td>Monica</td>\n",
       "      <td>Lane</td>\n",
       "      <td>F</td>\n",
       "      <td>3270 Scott Islands</td>\n",
       "      <td>...</td>\n",
       "      <td>44.6084</td>\n",
       "      <td>-70.6993</td>\n",
       "      <td>190</td>\n",
       "      <td>Animal nutritionist</td>\n",
       "      <td>1970-04-17</td>\n",
       "      <td>c8fcf575540e37ce0822cd040148ff57</td>\n",
       "      <td>1361012178</td>\n",
       "      <td>44.455449</td>\n",
       "      <td>-70.809148</td>\n",
       "      <td>0</td>\n",
       "    </tr>\n",
       "    <tr>\n",
       "      <th>3</th>\n",
       "      <td>4</td>\n",
       "      <td>2020-04-30 16:14:16</td>\n",
       "      <td>374656033243756</td>\n",
       "      <td>fraud_Effertz, Welch and Schowalter</td>\n",
       "      <td>entertainment</td>\n",
       "      <td>32.40</td>\n",
       "      <td>David</td>\n",
       "      <td>Lewis</td>\n",
       "      <td>M</td>\n",
       "      <td>1499 Michael Rue</td>\n",
       "      <td>...</td>\n",
       "      <td>38.8954</td>\n",
       "      <td>-77.1633</td>\n",
       "      <td>207410</td>\n",
       "      <td>Mudlogger</td>\n",
       "      <td>1984-07-03</td>\n",
       "      <td>9e9cde0e0963ac746a2cc9938e171c9a</td>\n",
       "      <td>1367338456</td>\n",
       "      <td>39.476941</td>\n",
       "      <td>-77.613438</td>\n",
       "      <td>0</td>\n",
       "    </tr>\n",
       "    <tr>\n",
       "      <th>4</th>\n",
       "      <td>5</td>\n",
       "      <td>2019-12-05 21:07:59</td>\n",
       "      <td>6011999606625827</td>\n",
       "      <td>fraud_Wilkinson LLC</td>\n",
       "      <td>personal_care</td>\n",
       "      <td>29.79</td>\n",
       "      <td>Ronald</td>\n",
       "      <td>Carson</td>\n",
       "      <td>M</td>\n",
       "      <td>870 Rocha Drive</td>\n",
       "      <td>...</td>\n",
       "      <td>40.9918</td>\n",
       "      <td>-73.9800</td>\n",
       "      <td>4664</td>\n",
       "      <td>Radiographer, diagnostic</td>\n",
       "      <td>1965-06-30</td>\n",
       "      <td>0742473d7f6261ce366b43ece063faf3</td>\n",
       "      <td>1354741679</td>\n",
       "      <td>40.863808</td>\n",
       "      <td>-74.674018</td>\n",
       "      <td>0</td>\n",
       "    </tr>\n",
       "  </tbody>\n",
       "</table>\n",
       "<p>5 rows × 23 columns</p>\n",
       "</div>"
      ],
      "text/plain": [
       "   id trans_date_trans_time            cc_num  \\\n",
       "0   1   2019-12-15 10:35:10  3597926034019603   \n",
       "1   2   2019-04-10 21:49:53  4873783502705038   \n",
       "2   3   2020-02-16 10:56:18   213161869125933   \n",
       "3   4   2020-04-30 16:14:16   374656033243756   \n",
       "4   5   2019-12-05 21:07:59  6011999606625827   \n",
       "\n",
       "                              merchant       category     amt      first  \\\n",
       "0                  fraud_Ruecker Group       misc_net    7.19    Derrick   \n",
       "1                      fraud_Lynch Ltd   shopping_pos    6.32  Elizabeth   \n",
       "2                   fraud_Bauch-Raynor    grocery_pos  147.59     Monica   \n",
       "3  fraud_Effertz, Welch and Schowalter  entertainment   32.40      David   \n",
       "4                  fraud_Wilkinson LLC  personal_care   29.79     Ronald   \n",
       "\n",
       "      last gender                         street  ...      lat      long  \\\n",
       "0   Flores      M  83690 Nicholas Ports Apt. 846  ...  35.2229  -89.5518   \n",
       "1  Maxwell      F      194 Goodman Fall Apt. 569  ...  48.4786 -122.3345   \n",
       "2     Lane      F             3270 Scott Islands  ...  44.6084  -70.6993   \n",
       "3    Lewis      M               1499 Michael Rue  ...  38.8954  -77.1633   \n",
       "4   Carson      M                870 Rocha Drive  ...  40.9918  -73.9800   \n",
       "\n",
       "   city_pop                             job         dob  \\\n",
       "0      9496  Furniture conservator/restorer  1993-03-23   \n",
       "1     14871            Public house manager  1974-03-10   \n",
       "2       190             Animal nutritionist  1970-04-17   \n",
       "3    207410                       Mudlogger  1984-07-03   \n",
       "4      4664        Radiographer, diagnostic  1965-06-30   \n",
       "\n",
       "                          trans_num   unix_time  merch_lat  merch_long  \\\n",
       "0  2642fec2e19c9e18e61fe9a88f6bc79a  1355567710  35.189455  -90.121666   \n",
       "1  61cec15bdbd3db31b12f886e8e181380  1334094593  49.004316 -122.745016   \n",
       "2  c8fcf575540e37ce0822cd040148ff57  1361012178  44.455449  -70.809148   \n",
       "3  9e9cde0e0963ac746a2cc9938e171c9a  1367338456  39.476941  -77.613438   \n",
       "4  0742473d7f6261ce366b43ece063faf3  1354741679  40.863808  -74.674018   \n",
       "\n",
       "   is_fraud  \n",
       "0         0  \n",
       "1         0  \n",
       "2         0  \n",
       "3         0  \n",
       "4         0  \n",
       "\n",
       "[5 rows x 23 columns]"
      ]
     },
     "execution_count": 2,
     "metadata": {},
     "output_type": "execute_result"
    }
   ],
   "source": [
    "train_data=pd.read_csv('/kaggle/input/anyas-gojo-revival-bondman/trainData.csv')\n",
    "train_fraud=train_data['is_fraud']\n",
    "numerical_cols=[i for i in train_data.columns if train_data[i].dtype in ['int64', 'float64']]\n",
    "categorical_cols=[i for i in train_data.columns if train_data[i].dtype==\"object\" ]\n",
    "print(categorical_cols)\n",
    "train_data.head()"
   ]
  },
  {
   "cell_type": "code",
   "execution_count": 3,
   "id": "dd1f70da",
   "metadata": {
    "execution": {
     "iopub.execute_input": "2023-11-07T11:55:10.238674Z",
     "iopub.status.busy": "2023-11-07T11:55:10.238281Z",
     "iopub.status.idle": "2023-11-07T11:55:10.901341Z",
     "shell.execute_reply": "2023-11-07T11:55:10.900144Z"
    },
    "papermill": {
     "duration": 0.674843,
     "end_time": "2023-11-07T11:55:10.903705",
     "exception": false,
     "start_time": "2023-11-07T11:55:10.228862",
     "status": "completed"
    },
    "tags": []
   },
   "outputs": [
    {
     "data": {
      "text/plain": [
       "id                       0\n",
       "trans_date_trans_time    0\n",
       "cc_num                   0\n",
       "merchant                 0\n",
       "category                 0\n",
       "amt                      0\n",
       "first                    0\n",
       "last                     0\n",
       "gender                   0\n",
       "street                   0\n",
       "city                     0\n",
       "state                    0\n",
       "zip                      0\n",
       "lat                      0\n",
       "long                     0\n",
       "city_pop                 0\n",
       "job                      0\n",
       "dob                      0\n",
       "trans_num                0\n",
       "unix_time                0\n",
       "merch_lat                0\n",
       "merch_long               0\n",
       "is_fraud                 0\n",
       "dtype: int64"
      ]
     },
     "execution_count": 3,
     "metadata": {},
     "output_type": "execute_result"
    }
   ],
   "source": [
    "train_data.isnull().sum()"
   ]
  },
  {
   "cell_type": "code",
   "execution_count": 4,
   "id": "9f07f72d",
   "metadata": {
    "execution": {
     "iopub.execute_input": "2023-11-07T11:55:10.921531Z",
     "iopub.status.busy": "2023-11-07T11:55:10.921119Z",
     "iopub.status.idle": "2023-11-07T11:55:11.592482Z",
     "shell.execute_reply": "2023-11-07T11:55:11.591099Z"
    },
    "papermill": {
     "duration": 0.683745,
     "end_time": "2023-11-07T11:55:11.595391",
     "exception": false,
     "start_time": "2023-11-07T11:55:10.911646",
     "status": "completed"
    },
    "tags": []
   },
   "outputs": [
    {
     "name": "stdout",
     "output_type": "stream",
     "text": [
      "<class 'pandas.core.frame.DataFrame'>\n",
      "RangeIndex: 523174 entries, 0 to 523173\n",
      "Data columns (total 23 columns):\n",
      " #   Column                 Non-Null Count   Dtype  \n",
      "---  ------                 --------------   -----  \n",
      " 0   id                     523174 non-null  int64  \n",
      " 1   trans_date_trans_time  523174 non-null  object \n",
      " 2   cc_num                 523174 non-null  int64  \n",
      " 3   merchant               523174 non-null  object \n",
      " 4   category               523174 non-null  object \n",
      " 5   amt                    523174 non-null  float64\n",
      " 6   first                  523174 non-null  object \n",
      " 7   last                   523174 non-null  object \n",
      " 8   gender                 523174 non-null  object \n",
      " 9   street                 523174 non-null  object \n",
      " 10  city                   523174 non-null  object \n",
      " 11  state                  523174 non-null  object \n",
      " 12  zip                    523174 non-null  int64  \n",
      " 13  lat                    523174 non-null  float64\n",
      " 14  long                   523174 non-null  float64\n",
      " 15  city_pop               523174 non-null  int64  \n",
      " 16  job                    523174 non-null  object \n",
      " 17  dob                    523174 non-null  object \n",
      " 18  trans_num              523174 non-null  object \n",
      " 19  unix_time              523174 non-null  int64  \n",
      " 20  merch_lat              523174 non-null  float64\n",
      " 21  merch_long             523174 non-null  float64\n",
      " 22  is_fraud               523174 non-null  int64  \n",
      "dtypes: float64(5), int64(6), object(12)\n",
      "memory usage: 91.8+ MB\n"
     ]
    }
   ],
   "source": [
    "train_data.info()"
   ]
  },
  {
   "cell_type": "code",
   "execution_count": 5,
   "id": "22705559",
   "metadata": {
    "execution": {
     "iopub.execute_input": "2023-11-07T11:55:11.613983Z",
     "iopub.status.busy": "2023-11-07T11:55:11.612824Z",
     "iopub.status.idle": "2023-11-07T11:55:11.670704Z",
     "shell.execute_reply": "2023-11-07T11:55:11.669469Z"
    },
    "papermill": {
     "duration": 0.070078,
     "end_time": "2023-11-07T11:55:11.673384",
     "exception": false,
     "start_time": "2023-11-07T11:55:11.603306",
     "status": "completed"
    },
    "tags": []
   },
   "outputs": [
    {
     "data": {
      "text/html": [
       "<div>\n",
       "<style scoped>\n",
       "    .dataframe tbody tr th:only-of-type {\n",
       "        vertical-align: middle;\n",
       "    }\n",
       "\n",
       "    .dataframe tbody tr th {\n",
       "        vertical-align: top;\n",
       "    }\n",
       "\n",
       "    .dataframe thead th {\n",
       "        text-align: right;\n",
       "    }\n",
       "</style>\n",
       "<table border=\"1\" class=\"dataframe\">\n",
       "  <thead>\n",
       "    <tr style=\"text-align: right;\">\n",
       "      <th></th>\n",
       "      <th>merchant</th>\n",
       "      <th>category</th>\n",
       "      <th>amt</th>\n",
       "      <th>gender</th>\n",
       "      <th>city</th>\n",
       "      <th>state</th>\n",
       "      <th>zip</th>\n",
       "      <th>lat</th>\n",
       "      <th>long</th>\n",
       "      <th>city_pop</th>\n",
       "      <th>job</th>\n",
       "      <th>unix_time</th>\n",
       "      <th>merch_lat</th>\n",
       "      <th>merch_long</th>\n",
       "      <th>is_fraud</th>\n",
       "    </tr>\n",
       "  </thead>\n",
       "  <tbody>\n",
       "    <tr>\n",
       "      <th>0</th>\n",
       "      <td>fraud_Ruecker Group</td>\n",
       "      <td>misc_net</td>\n",
       "      <td>7.19</td>\n",
       "      <td>M</td>\n",
       "      <td>Oakland</td>\n",
       "      <td>TN</td>\n",
       "      <td>38060</td>\n",
       "      <td>35.2229</td>\n",
       "      <td>-89.5518</td>\n",
       "      <td>9496</td>\n",
       "      <td>Furniture conservator/restorer</td>\n",
       "      <td>1355567710</td>\n",
       "      <td>35.189455</td>\n",
       "      <td>-90.121666</td>\n",
       "      <td>0</td>\n",
       "    </tr>\n",
       "    <tr>\n",
       "      <th>1</th>\n",
       "      <td>fraud_Lynch Ltd</td>\n",
       "      <td>shopping_pos</td>\n",
       "      <td>6.32</td>\n",
       "      <td>F</td>\n",
       "      <td>Burlington</td>\n",
       "      <td>WA</td>\n",
       "      <td>98233</td>\n",
       "      <td>48.4786</td>\n",
       "      <td>-122.3345</td>\n",
       "      <td>14871</td>\n",
       "      <td>Public house manager</td>\n",
       "      <td>1334094593</td>\n",
       "      <td>49.004316</td>\n",
       "      <td>-122.745016</td>\n",
       "      <td>0</td>\n",
       "    </tr>\n",
       "    <tr>\n",
       "      <th>2</th>\n",
       "      <td>fraud_Bauch-Raynor</td>\n",
       "      <td>grocery_pos</td>\n",
       "      <td>147.59</td>\n",
       "      <td>F</td>\n",
       "      <td>East Andover</td>\n",
       "      <td>ME</td>\n",
       "      <td>4226</td>\n",
       "      <td>44.6084</td>\n",
       "      <td>-70.6993</td>\n",
       "      <td>190</td>\n",
       "      <td>Animal nutritionist</td>\n",
       "      <td>1361012178</td>\n",
       "      <td>44.455449</td>\n",
       "      <td>-70.809148</td>\n",
       "      <td>0</td>\n",
       "    </tr>\n",
       "    <tr>\n",
       "      <th>3</th>\n",
       "      <td>fraud_Effertz, Welch and Schowalter</td>\n",
       "      <td>entertainment</td>\n",
       "      <td>32.40</td>\n",
       "      <td>M</td>\n",
       "      <td>Arlington</td>\n",
       "      <td>VA</td>\n",
       "      <td>22213</td>\n",
       "      <td>38.8954</td>\n",
       "      <td>-77.1633</td>\n",
       "      <td>207410</td>\n",
       "      <td>Mudlogger</td>\n",
       "      <td>1367338456</td>\n",
       "      <td>39.476941</td>\n",
       "      <td>-77.613438</td>\n",
       "      <td>0</td>\n",
       "    </tr>\n",
       "    <tr>\n",
       "      <th>4</th>\n",
       "      <td>fraud_Wilkinson LLC</td>\n",
       "      <td>personal_care</td>\n",
       "      <td>29.79</td>\n",
       "      <td>M</td>\n",
       "      <td>Harrington Park</td>\n",
       "      <td>NJ</td>\n",
       "      <td>7640</td>\n",
       "      <td>40.9918</td>\n",
       "      <td>-73.9800</td>\n",
       "      <td>4664</td>\n",
       "      <td>Radiographer, diagnostic</td>\n",
       "      <td>1354741679</td>\n",
       "      <td>40.863808</td>\n",
       "      <td>-74.674018</td>\n",
       "      <td>0</td>\n",
       "    </tr>\n",
       "  </tbody>\n",
       "</table>\n",
       "</div>"
      ],
      "text/plain": [
       "                              merchant       category     amt gender  \\\n",
       "0                  fraud_Ruecker Group       misc_net    7.19      M   \n",
       "1                      fraud_Lynch Ltd   shopping_pos    6.32      F   \n",
       "2                   fraud_Bauch-Raynor    grocery_pos  147.59      F   \n",
       "3  fraud_Effertz, Welch and Schowalter  entertainment   32.40      M   \n",
       "4                  fraud_Wilkinson LLC  personal_care   29.79      M   \n",
       "\n",
       "              city state    zip      lat      long  city_pop  \\\n",
       "0          Oakland    TN  38060  35.2229  -89.5518      9496   \n",
       "1       Burlington    WA  98233  48.4786 -122.3345     14871   \n",
       "2     East Andover    ME   4226  44.6084  -70.6993       190   \n",
       "3        Arlington    VA  22213  38.8954  -77.1633    207410   \n",
       "4  Harrington Park    NJ   7640  40.9918  -73.9800      4664   \n",
       "\n",
       "                              job   unix_time  merch_lat  merch_long  is_fraud  \n",
       "0  Furniture conservator/restorer  1355567710  35.189455  -90.121666         0  \n",
       "1            Public house manager  1334094593  49.004316 -122.745016         0  \n",
       "2             Animal nutritionist  1361012178  44.455449  -70.809148         0  \n",
       "3                       Mudlogger  1367338456  39.476941  -77.613438         0  \n",
       "4        Radiographer, diagnostic  1354741679  40.863808  -74.674018         0  "
      ]
     },
     "execution_count": 5,
     "metadata": {},
     "output_type": "execute_result"
    }
   ],
   "source": [
    "train_data.drop(columns=['id','trans_date_trans_time','cc_num','first','last','street','dob','trans_num'],inplace=True)\n",
    "train_data.head()"
   ]
  },
  {
   "cell_type": "code",
   "execution_count": 6,
   "id": "6501745f",
   "metadata": {
    "execution": {
     "iopub.execute_input": "2023-11-07T11:55:11.692078Z",
     "iopub.status.busy": "2023-11-07T11:55:11.691654Z",
     "iopub.status.idle": "2023-11-07T11:55:13.142252Z",
     "shell.execute_reply": "2023-11-07T11:55:13.141116Z"
    },
    "papermill": {
     "duration": 1.46318,
     "end_time": "2023-11-07T11:55:13.144997",
     "exception": false,
     "start_time": "2023-11-07T11:55:11.681817",
     "status": "completed"
    },
    "tags": []
   },
   "outputs": [
    {
     "data": {
      "text/plain": [
       "0         0\n",
       "1         0\n",
       "2         0\n",
       "3         0\n",
       "4         0\n",
       "         ..\n",
       "523169    0\n",
       "523170    0\n",
       "523171    0\n",
       "523172    0\n",
       "523173    0\n",
       "Name: is_fraud, Length: 523174, dtype: int64"
      ]
     },
     "execution_count": 6,
     "metadata": {},
     "output_type": "execute_result"
    }
   ],
   "source": [
    "features=[i for i in train_data.columns if train_data[i].dtype==\"object\" ]\n",
    "encoder = OrdinalEncoder(\n",
    "        handle_unknown='use_encoded_value', \n",
    "        unknown_value=-1\n",
    "    ).fit(train_data[features])\n",
    "train_data[features]=encoder.transform(train_data[features])\n",
    "train_data.head()\n",
    "train_y=train_data['is_fraud']\n",
    "train_data.pop('is_fraud')"
   ]
  },
  {
   "cell_type": "code",
   "execution_count": 7,
   "id": "d01c0137",
   "metadata": {
    "execution": {
     "iopub.execute_input": "2023-11-07T11:55:13.165308Z",
     "iopub.status.busy": "2023-11-07T11:55:13.164115Z",
     "iopub.status.idle": "2023-11-07T11:55:13.175475Z",
     "shell.execute_reply": "2023-11-07T11:55:13.174117Z"
    },
    "papermill": {
     "duration": 0.024645,
     "end_time": "2023-11-07T11:55:13.178374",
     "exception": false,
     "start_time": "2023-11-07T11:55:13.153729",
     "status": "completed"
    },
    "tags": []
   },
   "outputs": [],
   "source": [
    "param_grid = {\n",
    "    'iterations': [100, 200, 300],\n",
    "    'learning_rate': [0.01, 0.1, 0.2],\n",
    "    'depth': [4, 6, 8],\n",
    "    'l2_leaf_reg': [3, 5, 7],\n",
    "}\n",
    "\n",
    "catboost = CatBoostClassifier()\n",
    "grid_search = GridSearchCV(catboost, param_grid, cv=5, n_jobs=-1)\n",
    "# catboost.fit(train_data, train_y)"
   ]
  },
  {
   "cell_type": "code",
   "execution_count": 8,
   "id": "5017b40c",
   "metadata": {
    "execution": {
     "iopub.execute_input": "2023-11-07T11:55:13.197650Z",
     "iopub.status.busy": "2023-11-07T11:55:13.197254Z",
     "iopub.status.idle": "2023-11-07T11:55:19.180874Z",
     "shell.execute_reply": "2023-11-07T11:55:19.179574Z"
    },
    "papermill": {
     "duration": 5.996712,
     "end_time": "2023-11-07T11:55:19.183674",
     "exception": false,
     "start_time": "2023-11-07T11:55:13.186962",
     "status": "completed"
    },
    "tags": []
   },
   "outputs": [
    {
     "name": "stdout",
     "output_type": "stream",
     "text": [
      "[]\n"
     ]
    },
    {
     "data": {
      "text/html": [
       "<div>\n",
       "<style scoped>\n",
       "    .dataframe tbody tr th:only-of-type {\n",
       "        vertical-align: middle;\n",
       "    }\n",
       "\n",
       "    .dataframe tbody tr th {\n",
       "        vertical-align: top;\n",
       "    }\n",
       "\n",
       "    .dataframe thead th {\n",
       "        text-align: right;\n",
       "    }\n",
       "</style>\n",
       "<table border=\"1\" class=\"dataframe\">\n",
       "  <thead>\n",
       "    <tr style=\"text-align: right;\">\n",
       "      <th></th>\n",
       "      <th>id</th>\n",
       "      <th>trans_date_trans_time</th>\n",
       "      <th>cc_num</th>\n",
       "      <th>merchant</th>\n",
       "      <th>category</th>\n",
       "      <th>amt</th>\n",
       "      <th>first</th>\n",
       "      <th>last</th>\n",
       "      <th>gender</th>\n",
       "      <th>street</th>\n",
       "      <th>...</th>\n",
       "      <th>zip</th>\n",
       "      <th>lat</th>\n",
       "      <th>long</th>\n",
       "      <th>city_pop</th>\n",
       "      <th>job</th>\n",
       "      <th>dob</th>\n",
       "      <th>trans_num</th>\n",
       "      <th>unix_time</th>\n",
       "      <th>merch_lat</th>\n",
       "      <th>merch_long</th>\n",
       "    </tr>\n",
       "  </thead>\n",
       "  <tbody>\n",
       "    <tr>\n",
       "      <th>0</th>\n",
       "      <td>1</td>\n",
       "      <td>2020-06-21 12:14:25</td>\n",
       "      <td>2291163933867244</td>\n",
       "      <td>fraud_Kirlin and Sons</td>\n",
       "      <td>personal_care</td>\n",
       "      <td>2.86</td>\n",
       "      <td>Jeff</td>\n",
       "      <td>Elliott</td>\n",
       "      <td>M</td>\n",
       "      <td>351 Darlene Green</td>\n",
       "      <td>...</td>\n",
       "      <td>29209</td>\n",
       "      <td>33.9659</td>\n",
       "      <td>-80.9355</td>\n",
       "      <td>333497</td>\n",
       "      <td>Mechanical engineer</td>\n",
       "      <td>1968-03-19</td>\n",
       "      <td>2da90c7d74bd46a0caf3777415b3ebd3</td>\n",
       "      <td>1371816865</td>\n",
       "      <td>33.986391</td>\n",
       "      <td>-81.200714</td>\n",
       "    </tr>\n",
       "    <tr>\n",
       "      <th>1</th>\n",
       "      <td>2</td>\n",
       "      <td>2020-06-21 12:14:33</td>\n",
       "      <td>3573030041201292</td>\n",
       "      <td>fraud_Sporer-Keebler</td>\n",
       "      <td>personal_care</td>\n",
       "      <td>29.84</td>\n",
       "      <td>Joanne</td>\n",
       "      <td>Williams</td>\n",
       "      <td>F</td>\n",
       "      <td>3638 Marsh Union</td>\n",
       "      <td>...</td>\n",
       "      <td>84002</td>\n",
       "      <td>40.3207</td>\n",
       "      <td>-110.4360</td>\n",
       "      <td>302</td>\n",
       "      <td>Sales professional, IT</td>\n",
       "      <td>1990-01-17</td>\n",
       "      <td>324cc204407e99f51b0d6ca0055005e7</td>\n",
       "      <td>1371816873</td>\n",
       "      <td>39.450498</td>\n",
       "      <td>-109.960431</td>\n",
       "    </tr>\n",
       "    <tr>\n",
       "      <th>2</th>\n",
       "      <td>3</td>\n",
       "      <td>2020-06-21 12:14:53</td>\n",
       "      <td>3598215285024754</td>\n",
       "      <td>fraud_Swaniawski, Nitzsche and Welch</td>\n",
       "      <td>health_fitness</td>\n",
       "      <td>41.28</td>\n",
       "      <td>Ashley</td>\n",
       "      <td>Lopez</td>\n",
       "      <td>F</td>\n",
       "      <td>9333 Valentine Point</td>\n",
       "      <td>...</td>\n",
       "      <td>11710</td>\n",
       "      <td>40.6729</td>\n",
       "      <td>-73.5365</td>\n",
       "      <td>34496</td>\n",
       "      <td>Librarian, public</td>\n",
       "      <td>1970-10-21</td>\n",
       "      <td>c81755dbbbea9d5c77f094348a7579be</td>\n",
       "      <td>1371816893</td>\n",
       "      <td>40.495810</td>\n",
       "      <td>-74.196111</td>\n",
       "    </tr>\n",
       "    <tr>\n",
       "      <th>3</th>\n",
       "      <td>4</td>\n",
       "      <td>2020-06-21 12:15:15</td>\n",
       "      <td>3591919803438423</td>\n",
       "      <td>fraud_Haley Group</td>\n",
       "      <td>misc_pos</td>\n",
       "      <td>60.05</td>\n",
       "      <td>Brian</td>\n",
       "      <td>Williams</td>\n",
       "      <td>M</td>\n",
       "      <td>32941 Krystal Mill Apt. 552</td>\n",
       "      <td>...</td>\n",
       "      <td>32780</td>\n",
       "      <td>28.5697</td>\n",
       "      <td>-80.8191</td>\n",
       "      <td>54767</td>\n",
       "      <td>Set designer</td>\n",
       "      <td>1987-07-25</td>\n",
       "      <td>2159175b9efe66dc301f149d3d5abf8c</td>\n",
       "      <td>1371816915</td>\n",
       "      <td>28.812398</td>\n",
       "      <td>-80.883061</td>\n",
       "    </tr>\n",
       "    <tr>\n",
       "      <th>4</th>\n",
       "      <td>5</td>\n",
       "      <td>2020-06-21 12:15:17</td>\n",
       "      <td>3526826139003047</td>\n",
       "      <td>fraud_Johnston-Casper</td>\n",
       "      <td>travel</td>\n",
       "      <td>3.19</td>\n",
       "      <td>Nathan</td>\n",
       "      <td>Massey</td>\n",
       "      <td>M</td>\n",
       "      <td>5783 Evan Roads Apt. 465</td>\n",
       "      <td>...</td>\n",
       "      <td>49632</td>\n",
       "      <td>44.2529</td>\n",
       "      <td>-85.0170</td>\n",
       "      <td>1126</td>\n",
       "      <td>Furniture designer</td>\n",
       "      <td>1955-07-06</td>\n",
       "      <td>57ff021bd3f328f8738bb535c302a31b</td>\n",
       "      <td>1371816917</td>\n",
       "      <td>44.959148</td>\n",
       "      <td>-85.884734</td>\n",
       "    </tr>\n",
       "  </tbody>\n",
       "</table>\n",
       "<p>5 rows × 22 columns</p>\n",
       "</div>"
      ],
      "text/plain": [
       "   id trans_date_trans_time            cc_num  \\\n",
       "0   1   2020-06-21 12:14:25  2291163933867244   \n",
       "1   2   2020-06-21 12:14:33  3573030041201292   \n",
       "2   3   2020-06-21 12:14:53  3598215285024754   \n",
       "3   4   2020-06-21 12:15:15  3591919803438423   \n",
       "4   5   2020-06-21 12:15:17  3526826139003047   \n",
       "\n",
       "                               merchant        category    amt   first  \\\n",
       "0                 fraud_Kirlin and Sons   personal_care   2.86    Jeff   \n",
       "1                  fraud_Sporer-Keebler   personal_care  29.84  Joanne   \n",
       "2  fraud_Swaniawski, Nitzsche and Welch  health_fitness  41.28  Ashley   \n",
       "3                     fraud_Haley Group        misc_pos  60.05   Brian   \n",
       "4                 fraud_Johnston-Casper          travel   3.19  Nathan   \n",
       "\n",
       "       last gender                       street  ...    zip      lat  \\\n",
       "0   Elliott      M            351 Darlene Green  ...  29209  33.9659   \n",
       "1  Williams      F             3638 Marsh Union  ...  84002  40.3207   \n",
       "2     Lopez      F         9333 Valentine Point  ...  11710  40.6729   \n",
       "3  Williams      M  32941 Krystal Mill Apt. 552  ...  32780  28.5697   \n",
       "4    Massey      M     5783 Evan Roads Apt. 465  ...  49632  44.2529   \n",
       "\n",
       "       long  city_pop                     job         dob  \\\n",
       "0  -80.9355    333497     Mechanical engineer  1968-03-19   \n",
       "1 -110.4360       302  Sales professional, IT  1990-01-17   \n",
       "2  -73.5365     34496       Librarian, public  1970-10-21   \n",
       "3  -80.8191     54767            Set designer  1987-07-25   \n",
       "4  -85.0170      1126      Furniture designer  1955-07-06   \n",
       "\n",
       "                          trans_num   unix_time  merch_lat  merch_long  \n",
       "0  2da90c7d74bd46a0caf3777415b3ebd3  1371816865  33.986391  -81.200714  \n",
       "1  324cc204407e99f51b0d6ca0055005e7  1371816873  39.450498 -109.960431  \n",
       "2  c81755dbbbea9d5c77f094348a7579be  1371816893  40.495810  -74.196111  \n",
       "3  2159175b9efe66dc301f149d3d5abf8c  1371816915  28.812398  -80.883061  \n",
       "4  57ff021bd3f328f8738bb535c302a31b  1371816917  44.959148  -85.884734  \n",
       "\n",
       "[5 rows x 22 columns]"
      ]
     },
     "execution_count": 8,
     "metadata": {},
     "output_type": "execute_result"
    }
   ],
   "source": [
    "test_data=pd.read_csv('/kaggle/input/anyas-gojo-revival-bondman/testData.csv')\n",
    "numerical_cols=[i for i in train_data.columns if train_data[i].dtype in ['int64', 'float64']]\n",
    "categorical_cols=[i for i in train_data.columns if train_data[i].dtype==\"object\" ]\n",
    "print(categorical_cols)\n",
    "test_data.head()"
   ]
  },
  {
   "cell_type": "code",
   "execution_count": 9,
   "id": "a60978c9",
   "metadata": {
    "execution": {
     "iopub.execute_input": "2023-11-07T11:55:19.204066Z",
     "iopub.status.busy": "2023-11-07T11:55:19.202856Z",
     "iopub.status.idle": "2023-11-07T11:55:19.904637Z",
     "shell.execute_reply": "2023-11-07T11:55:19.903357Z"
    },
    "papermill": {
     "duration": 0.714622,
     "end_time": "2023-11-07T11:55:19.907242",
     "exception": false,
     "start_time": "2023-11-07T11:55:19.192620",
     "status": "completed"
    },
    "tags": []
   },
   "outputs": [
    {
     "data": {
      "text/plain": [
       "id                       0\n",
       "trans_date_trans_time    0\n",
       "cc_num                   0\n",
       "merchant                 0\n",
       "category                 0\n",
       "amt                      0\n",
       "first                    0\n",
       "last                     0\n",
       "gender                   0\n",
       "street                   0\n",
       "city                     0\n",
       "state                    0\n",
       "zip                      0\n",
       "lat                      0\n",
       "long                     0\n",
       "city_pop                 0\n",
       "job                      0\n",
       "dob                      0\n",
       "trans_num                0\n",
       "unix_time                0\n",
       "merch_lat                0\n",
       "merch_long               0\n",
       "dtype: int64"
      ]
     },
     "execution_count": 9,
     "metadata": {},
     "output_type": "execute_result"
    }
   ],
   "source": [
    "test_data.isnull().sum()"
   ]
  },
  {
   "cell_type": "code",
   "execution_count": 10,
   "id": "156115fd",
   "metadata": {
    "execution": {
     "iopub.execute_input": "2023-11-07T11:55:19.927397Z",
     "iopub.status.busy": "2023-11-07T11:55:19.926900Z",
     "iopub.status.idle": "2023-11-07T11:55:20.079559Z",
     "shell.execute_reply": "2023-11-07T11:55:20.078279Z"
    },
    "papermill": {
     "duration": 0.165944,
     "end_time": "2023-11-07T11:55:20.082462",
     "exception": false,
     "start_time": "2023-11-07T11:55:19.916518",
     "status": "completed"
    },
    "tags": []
   },
   "outputs": [],
   "source": [
    "from sklearn.model_selection import train_test_split\n",
    "X_train, X_test, y_train, y_test = train_test_split(train_data, train_y, test_size=0.2, random_state=42)"
   ]
  },
  {
   "cell_type": "code",
   "execution_count": 11,
   "id": "99c7144d",
   "metadata": {
    "execution": {
     "iopub.execute_input": "2023-11-07T11:55:20.104390Z",
     "iopub.status.busy": "2023-11-07T11:55:20.102154Z",
     "iopub.status.idle": "2023-11-07T12:08:44.705765Z",
     "shell.execute_reply": "2023-11-07T12:08:44.704306Z"
    },
    "papermill": {
     "duration": 804.616997,
     "end_time": "2023-11-07T12:08:44.708594",
     "exception": false,
     "start_time": "2023-11-07T11:55:20.091597",
     "status": "completed"
    },
    "tags": []
   },
   "outputs": [
    {
     "name": "stdout",
     "output_type": "stream",
     "text": [
      "Epoch 1/30\n",
      "8371/8371 [==============================] - 28s 3ms/step - loss: 0.0385 - accuracy: 0.9898\n",
      "Epoch 2/30\n",
      "8371/8371 [==============================] - 25s 3ms/step - loss: 0.0281 - accuracy: 0.9921\n",
      "Epoch 3/30\n",
      "8371/8371 [==============================] - 25s 3ms/step - loss: 0.0252 - accuracy: 0.9929\n",
      "Epoch 4/30\n",
      "8371/8371 [==============================] - 25s 3ms/step - loss: 0.0242 - accuracy: 0.9932\n",
      "Epoch 5/30\n",
      "8371/8371 [==============================] - 26s 3ms/step - loss: 0.0238 - accuracy: 0.9933\n",
      "Epoch 6/30\n",
      "8371/8371 [==============================] - 26s 3ms/step - loss: 0.0232 - accuracy: 0.9934\n",
      "Epoch 7/30\n",
      "8371/8371 [==============================] - 25s 3ms/step - loss: 0.0226 - accuracy: 0.9935\n",
      "Epoch 8/30\n",
      "8371/8371 [==============================] - 26s 3ms/step - loss: 0.0222 - accuracy: 0.9935\n",
      "Epoch 9/30\n",
      "8371/8371 [==============================] - 26s 3ms/step - loss: 0.0220 - accuracy: 0.9937\n",
      "Epoch 10/30\n",
      "8371/8371 [==============================] - 25s 3ms/step - loss: 0.0217 - accuracy: 0.9936\n",
      "Epoch 11/30\n",
      "8371/8371 [==============================] - 26s 3ms/step - loss: 0.0213 - accuracy: 0.9937\n",
      "Epoch 12/30\n",
      "8371/8371 [==============================] - 28s 3ms/step - loss: 0.0212 - accuracy: 0.9938\n",
      "Epoch 13/30\n",
      "8371/8371 [==============================] - 27s 3ms/step - loss: 0.0210 - accuracy: 0.9937\n",
      "Epoch 14/30\n",
      "8371/8371 [==============================] - 26s 3ms/step - loss: 0.0207 - accuracy: 0.9939\n",
      "Epoch 15/30\n",
      "8371/8371 [==============================] - 25s 3ms/step - loss: 0.0205 - accuracy: 0.9939\n",
      "Epoch 16/30\n",
      "8371/8371 [==============================] - 26s 3ms/step - loss: 0.0204 - accuracy: 0.9938\n",
      "Epoch 17/30\n",
      "8371/8371 [==============================] - 26s 3ms/step - loss: 0.0200 - accuracy: 0.9940\n",
      "Epoch 18/30\n",
      "8371/8371 [==============================] - 26s 3ms/step - loss: 0.0198 - accuracy: 0.9941\n",
      "Epoch 19/30\n",
      "8371/8371 [==============================] - 26s 3ms/step - loss: 0.0196 - accuracy: 0.9940\n",
      "Epoch 20/30\n",
      "8371/8371 [==============================] - 26s 3ms/step - loss: 0.0195 - accuracy: 0.9942\n",
      "Epoch 21/30\n",
      "8371/8371 [==============================] - 26s 3ms/step - loss: 0.0191 - accuracy: 0.9941\n",
      "Epoch 22/30\n",
      "8371/8371 [==============================] - 26s 3ms/step - loss: 0.0192 - accuracy: 0.9941\n",
      "Epoch 23/30\n",
      "8371/8371 [==============================] - 26s 3ms/step - loss: 0.0187 - accuracy: 0.9942\n",
      "Epoch 24/30\n",
      "8371/8371 [==============================] - 26s 3ms/step - loss: 0.0187 - accuracy: 0.9942\n",
      "Epoch 25/30\n",
      "8371/8371 [==============================] - 26s 3ms/step - loss: 0.0185 - accuracy: 0.9942\n",
      "Epoch 26/30\n",
      "8371/8371 [==============================] - 25s 3ms/step - loss: 0.0184 - accuracy: 0.9942\n",
      "Epoch 27/30\n",
      "8371/8371 [==============================] - 25s 3ms/step - loss: 0.0182 - accuracy: 0.9943\n",
      "Epoch 28/30\n",
      "8371/8371 [==============================] - 25s 3ms/step - loss: 0.0180 - accuracy: 0.9943\n",
      "Epoch 29/30\n",
      "8371/8371 [==============================] - 25s 3ms/step - loss: 0.0181 - accuracy: 0.9943\n",
      "Epoch 30/30\n",
      "8371/8371 [==============================] - 25s 3ms/step - loss: 0.0182 - accuracy: 0.9944\n"
     ]
    },
    {
     "data": {
      "text/plain": [
       "<keras.callbacks.History at 0x7e7fa43b13f0>"
      ]
     },
     "execution_count": 11,
     "metadata": {},
     "output_type": "execute_result"
    }
   ],
   "source": [
    "model = Sequential()\n",
    "model.add(Dense(256, activation='relu', input_dim=14))\n",
    "model.add(Dense(128, activation='relu'))\n",
    "# model.add(Dropout(0.2))\n",
    "model.add(Dense(64, activation='relu'))\n",
    "# model.add(Dropout(0.2))\n",
    "model.add(Dense(32, activation='relu'))\n",
    "# model.add(Dropout(0.2))\n",
    "model.add(Dense(16, activation='relu'))\n",
    "# model.add(Dropout(0.2))\n",
    "model.add(Dense(8, activation='relu'))\n",
    "model.add(Dense(4, activation='relu'))\n",
    "model.add(Dense(2, activation='relu'))\n",
    "model.add(Dense(1, activation='sigmoid')) \n",
    "model.compile(loss='binary_crossentropy', optimizer='adam', metrics=['accuracy']) \n",
    "sscaler = StandardScaler()\n",
    "X_train = sscaler.fit_transform(X_train)\n",
    "model.fit(X_train, y_train, epochs=30, batch_size=50)"
   ]
  },
  {
   "cell_type": "code",
   "execution_count": 12,
   "id": "10e6214f",
   "metadata": {
    "execution": {
     "iopub.execute_input": "2023-11-07T12:08:47.681698Z",
     "iopub.status.busy": "2023-11-07T12:08:47.680945Z",
     "iopub.status.idle": "2023-11-07T12:08:49.257983Z",
     "shell.execute_reply": "2023-11-07T12:08:49.256686Z"
    },
    "papermill": {
     "duration": 3.05331,
     "end_time": "2023-11-07T12:08:49.260573",
     "exception": false,
     "start_time": "2023-11-07T12:08:46.207263",
     "status": "completed"
    },
    "tags": []
   },
   "outputs": [
    {
     "data": {
      "text/html": [
       "<div>\n",
       "<style scoped>\n",
       "    .dataframe tbody tr th:only-of-type {\n",
       "        vertical-align: middle;\n",
       "    }\n",
       "\n",
       "    .dataframe tbody tr th {\n",
       "        vertical-align: top;\n",
       "    }\n",
       "\n",
       "    .dataframe thead th {\n",
       "        text-align: right;\n",
       "    }\n",
       "</style>\n",
       "<table border=\"1\" class=\"dataframe\">\n",
       "  <thead>\n",
       "    <tr style=\"text-align: right;\">\n",
       "      <th></th>\n",
       "      <th>merchant</th>\n",
       "      <th>category</th>\n",
       "      <th>amt</th>\n",
       "      <th>gender</th>\n",
       "      <th>city</th>\n",
       "      <th>state</th>\n",
       "      <th>zip</th>\n",
       "      <th>lat</th>\n",
       "      <th>long</th>\n",
       "      <th>city_pop</th>\n",
       "      <th>job</th>\n",
       "      <th>unix_time</th>\n",
       "      <th>merch_lat</th>\n",
       "      <th>merch_long</th>\n",
       "    </tr>\n",
       "  </thead>\n",
       "  <tbody>\n",
       "    <tr>\n",
       "      <th>0</th>\n",
       "      <td>319.0</td>\n",
       "      <td>10.0</td>\n",
       "      <td>2.86</td>\n",
       "      <td>1.0</td>\n",
       "      <td>157.0</td>\n",
       "      <td>39.0</td>\n",
       "      <td>29209</td>\n",
       "      <td>33.9659</td>\n",
       "      <td>-80.9355</td>\n",
       "      <td>333497</td>\n",
       "      <td>275.0</td>\n",
       "      <td>1371816865</td>\n",
       "      <td>33.986391</td>\n",
       "      <td>-81.200714</td>\n",
       "    </tr>\n",
       "    <tr>\n",
       "      <th>1</th>\n",
       "      <td>591.0</td>\n",
       "      <td>10.0</td>\n",
       "      <td>29.84</td>\n",
       "      <td>0.0</td>\n",
       "      <td>16.0</td>\n",
       "      <td>43.0</td>\n",
       "      <td>84002</td>\n",
       "      <td>40.3207</td>\n",
       "      <td>-110.4360</td>\n",
       "      <td>302</td>\n",
       "      <td>392.0</td>\n",
       "      <td>1371816873</td>\n",
       "      <td>39.450498</td>\n",
       "      <td>-109.960431</td>\n",
       "    </tr>\n",
       "    <tr>\n",
       "      <th>2</th>\n",
       "      <td>611.0</td>\n",
       "      <td>5.0</td>\n",
       "      <td>41.28</td>\n",
       "      <td>0.0</td>\n",
       "      <td>61.0</td>\n",
       "      <td>33.0</td>\n",
       "      <td>11710</td>\n",
       "      <td>40.6729</td>\n",
       "      <td>-73.5365</td>\n",
       "      <td>34496</td>\n",
       "      <td>259.0</td>\n",
       "      <td>1371816893</td>\n",
       "      <td>40.495810</td>\n",
       "      <td>-74.196111</td>\n",
       "    </tr>\n",
       "    <tr>\n",
       "      <th>3</th>\n",
       "      <td>222.0</td>\n",
       "      <td>9.0</td>\n",
       "      <td>60.05</td>\n",
       "      <td>1.0</td>\n",
       "      <td>764.0</td>\n",
       "      <td>8.0</td>\n",
       "      <td>32780</td>\n",
       "      <td>28.5697</td>\n",
       "      <td>-80.8191</td>\n",
       "      <td>54767</td>\n",
       "      <td>407.0</td>\n",
       "      <td>1371816915</td>\n",
       "      <td>28.812398</td>\n",
       "      <td>-80.883061</td>\n",
       "    </tr>\n",
       "    <tr>\n",
       "      <th>4</th>\n",
       "      <td>292.0</td>\n",
       "      <td>13.0</td>\n",
       "      <td>3.19</td>\n",
       "      <td>1.0</td>\n",
       "      <td>247.0</td>\n",
       "      <td>21.0</td>\n",
       "      <td>49632</td>\n",
       "      <td>44.2529</td>\n",
       "      <td>-85.0170</td>\n",
       "      <td>1126</td>\n",
       "      <td>196.0</td>\n",
       "      <td>1371816917</td>\n",
       "      <td>44.959148</td>\n",
       "      <td>-85.884734</td>\n",
       "    </tr>\n",
       "  </tbody>\n",
       "</table>\n",
       "</div>"
      ],
      "text/plain": [
       "   merchant  category    amt  gender   city  state    zip      lat      long  \\\n",
       "0     319.0      10.0   2.86     1.0  157.0   39.0  29209  33.9659  -80.9355   \n",
       "1     591.0      10.0  29.84     0.0   16.0   43.0  84002  40.3207 -110.4360   \n",
       "2     611.0       5.0  41.28     0.0   61.0   33.0  11710  40.6729  -73.5365   \n",
       "3     222.0       9.0  60.05     1.0  764.0    8.0  32780  28.5697  -80.8191   \n",
       "4     292.0      13.0   3.19     1.0  247.0   21.0  49632  44.2529  -85.0170   \n",
       "\n",
       "   city_pop    job   unix_time  merch_lat  merch_long  \n",
       "0    333497  275.0  1371816865  33.986391  -81.200714  \n",
       "1       302  392.0  1371816873  39.450498 -109.960431  \n",
       "2     34496  259.0  1371816893  40.495810  -74.196111  \n",
       "3     54767  407.0  1371816915  28.812398  -80.883061  \n",
       "4      1126  196.0  1371816917  44.959148  -85.884734  "
      ]
     },
     "execution_count": 12,
     "metadata": {},
     "output_type": "execute_result"
    }
   ],
   "source": [
    "test_data.drop(columns=['id','trans_date_trans_time','cc_num','first','last','street','dob','trans_num'],inplace=True)\n",
    "features=[i for i in test_data.columns if test_data[i].dtype==\"object\" ]\n",
    "encoder = OrdinalEncoder(\n",
    "        handle_unknown='use_encoded_value', \n",
    "        unknown_value=-1\n",
    "    ).fit(test_data[features])\n",
    "test_data[features]=encoder.transform(test_data[features])\n",
    "test_data.head()"
   ]
  },
  {
   "cell_type": "code",
   "execution_count": 13,
   "id": "d423f735",
   "metadata": {
    "execution": {
     "iopub.execute_input": "2023-11-07T12:08:52.149047Z",
     "iopub.status.busy": "2023-11-07T12:08:52.148366Z",
     "iopub.status.idle": "2023-11-07T12:08:58.380069Z",
     "shell.execute_reply": "2023-11-07T12:08:58.379001Z"
    },
    "papermill": {
     "duration": 7.716561,
     "end_time": "2023-11-07T12:08:58.382796",
     "exception": false,
     "start_time": "2023-11-07T12:08:50.666235",
     "status": "completed"
    },
    "tags": []
   },
   "outputs": [
    {
     "name": "stdout",
     "output_type": "stream",
     "text": [
      "3270/3270 [==============================] - 5s 1ms/step\n"
     ]
    }
   ],
   "source": [
    "from sklearn.metrics import roc_curve, roc_auc_score\n",
    "X_test = sscaler.fit_transform( X_test)\n",
    "arr=model.predict(X_test)"
   ]
  },
  {
   "cell_type": "code",
   "execution_count": 14,
   "id": "18c0646f",
   "metadata": {
    "execution": {
     "iopub.execute_input": "2023-11-07T12:09:01.256466Z",
     "iopub.status.busy": "2023-11-07T12:09:01.255628Z",
     "iopub.status.idle": "2023-11-07T12:09:01.688028Z",
     "shell.execute_reply": "2023-11-07T12:09:01.686719Z"
    },
    "papermill": {
     "duration": 1.907955,
     "end_time": "2023-11-07T12:09:01.690545",
     "exception": false,
     "start_time": "2023-11-07T12:08:59.782590",
     "status": "completed"
    },
    "tags": []
   },
   "outputs": [
    {
     "name": "stdout",
     "output_type": "stream",
     "text": [
      "0.9140618606886572\n"
     ]
    }
   ],
   "source": [
    "arrset=[]\n",
    "for i in arr:\n",
    "    if i[0]>0.05:\n",
    "        arrset.append(1)\n",
    "    else:\n",
    "        arrset.append(0)\n",
    "roc_auc = roc_auc_score(y_test, arrset)\n",
    "print(roc_auc)"
   ]
  },
  {
   "cell_type": "code",
   "execution_count": 15,
   "id": "27ec3900",
   "metadata": {
    "execution": {
     "iopub.execute_input": "2023-11-07T12:09:04.556480Z",
     "iopub.status.busy": "2023-11-07T12:09:04.555435Z",
     "iopub.status.idle": "2023-11-07T12:09:36.044887Z",
     "shell.execute_reply": "2023-11-07T12:09:36.043481Z"
    },
    "papermill": {
     "duration": 34.417229,
     "end_time": "2023-11-07T12:09:37.500836",
     "exception": false,
     "start_time": "2023-11-07T12:09:03.083607",
     "status": "completed"
    },
    "tags": []
   },
   "outputs": [
    {
     "name": "stdout",
     "output_type": "stream",
     "text": [
      "17367/17367 [==============================] - 22s 1ms/step\n",
      "[[1.3441587e-03]\n",
      " [5.4359282e-03]\n",
      " [7.6751746e-07]\n",
      " ...\n",
      " [4.6158979e-07]\n",
      " [1.8732185e-02]\n",
      " [1.6179632e-20]]\n"
     ]
    }
   ],
   "source": [
    "test_data = sscaler.fit_transform(test_data)\n",
    "arr=model.predict(test_data)\n",
    "print(arr)"
   ]
  },
  {
   "cell_type": "code",
   "execution_count": 16,
   "id": "16d5a3ee",
   "metadata": {
    "execution": {
     "iopub.execute_input": "2023-11-07T12:09:40.523136Z",
     "iopub.status.busy": "2023-11-07T12:09:40.522329Z",
     "iopub.status.idle": "2023-11-07T12:09:42.781701Z",
     "shell.execute_reply": "2023-11-07T12:09:42.780320Z"
    },
    "papermill": {
     "duration": 3.770542,
     "end_time": "2023-11-07T12:09:42.784241",
     "exception": false,
     "start_time": "2023-11-07T12:09:39.013699",
     "status": "completed"
    },
    "tags": []
   },
   "outputs": [
    {
     "name": "stdout",
     "output_type": "stream",
     "text": [
      "555719\n",
      "8978\n"
     ]
    }
   ],
   "source": [
    "sdfg=0\n",
    "arrset=[]\n",
    "roc=[]\n",
    "print(len(arr))\n",
    "for i in arr:\n",
    "    if i[0]>0.05:\n",
    "        arrset.append(1)\n",
    "    else:\n",
    "        arrset.append(0)\n",
    "    roc.append(i[0])\n",
    "    \n",
    "print(sum(arrset))"
   ]
  },
  {
   "cell_type": "code",
   "execution_count": 17,
   "id": "74e39801",
   "metadata": {
    "execution": {
     "iopub.execute_input": "2023-11-07T12:09:45.731498Z",
     "iopub.status.busy": "2023-11-07T12:09:45.731096Z",
     "iopub.status.idle": "2023-11-07T12:09:45.736249Z",
     "shell.execute_reply": "2023-11-07T12:09:45.734824Z"
    },
    "papermill": {
     "duration": 1.517386,
     "end_time": "2023-11-07T12:09:45.738453",
     "exception": false,
     "start_time": "2023-11-07T12:09:44.221067",
     "status": "completed"
    },
    "tags": []
   },
   "outputs": [],
   "source": [
    "from sklearn .metrics import roc_auc_score\n",
    "import numpy as np\n",
    "#auc = roc_auc_score(arrset,[1]*len(arrset))\n",
    "#print(\"Auc for our sample data is {}\".format(auc))"
   ]
  },
  {
   "cell_type": "code",
   "execution_count": 18,
   "id": "00eda9ca",
   "metadata": {
    "execution": {
     "iopub.execute_input": "2023-11-07T12:09:48.706877Z",
     "iopub.status.busy": "2023-11-07T12:09:48.706094Z",
     "iopub.status.idle": "2023-11-07T12:09:49.320402Z",
     "shell.execute_reply": "2023-11-07T12:09:49.319053Z"
    },
    "papermill": {
     "duration": 2.134504,
     "end_time": "2023-11-07T12:09:49.323407",
     "exception": false,
     "start_time": "2023-11-07T12:09:47.188903",
     "status": "completed"
    },
    "tags": []
   },
   "outputs": [
    {
     "data": {
      "text/plain": [
       "array([3891.24], dtype=float32)"
      ]
     },
     "execution_count": 18,
     "metadata": {},
     "output_type": "execute_result"
    }
   ],
   "source": [
    "sum(arr)"
   ]
  },
  {
   "cell_type": "markdown",
   "id": "c89d8bf3",
   "metadata": {
    "papermill": {
     "duration": 1.424077,
     "end_time": "2023-11-07T12:09:52.261639",
     "exception": false,
     "start_time": "2023-11-07T12:09:50.837562",
     "status": "completed"
    },
    "tags": []
   },
   "source": []
  },
  {
   "cell_type": "code",
   "execution_count": 19,
   "id": "900b3574",
   "metadata": {
    "execution": {
     "iopub.execute_input": "2023-11-07T12:09:55.276811Z",
     "iopub.status.busy": "2023-11-07T12:09:55.276094Z",
     "iopub.status.idle": "2023-11-07T12:09:57.609193Z",
     "shell.execute_reply": "2023-11-07T12:09:57.607921Z"
    },
    "papermill": {
     "duration": 3.846999,
     "end_time": "2023-11-07T12:09:57.612173",
     "exception": false,
     "start_time": "2023-11-07T12:09:53.765174",
     "status": "completed"
    },
    "tags": []
   },
   "outputs": [],
   "source": [
    "submission=pd.DataFrame({'id':range(1,len(arr)+1),'id_fraud':roc})\n",
    "submission.to_csv('submission21.csv', index=False)"
   ]
  }
 ],
 "metadata": {
  "kernelspec": {
   "display_name": "Python 3",
   "language": "python",
   "name": "python3"
  },
  "language_info": {
   "codemirror_mode": {
    "name": "ipython",
    "version": 3
   },
   "file_extension": ".py",
   "mimetype": "text/x-python",
   "name": "python",
   "nbconvert_exporter": "python",
   "pygments_lexer": "ipython3",
   "version": "3.10.12"
  },
  "papermill": {
   "default_parameters": {},
   "duration": 915.623393,
   "end_time": "2023-11-07T12:10:02.061286",
   "environment_variables": {},
   "exception": null,
   "input_path": "__notebook__.ipynb",
   "output_path": "__notebook__.ipynb",
   "parameters": {},
   "start_time": "2023-11-07T11:54:46.437893",
   "version": "2.4.0"
  }
 },
 "nbformat": 4,
 "nbformat_minor": 5
}
