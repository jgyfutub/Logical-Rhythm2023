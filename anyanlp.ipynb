{
 "cells": [
  {
   "cell_type": "code",
   "execution_count": 1,
   "id": "f0f2e5eb",
   "metadata": {
    "_cell_guid": "b1076dfc-b9ad-4769-8c92-a6c4dae69d19",
    "_uuid": "8f2839f25d086af736a60e9eeb907d3b93b6e0e5",
    "execution": {
     "iopub.execute_input": "2023-11-04T08:43:44.772572Z",
     "iopub.status.busy": "2023-11-04T08:43:44.772294Z",
     "iopub.status.idle": "2023-11-04T08:43:45.303271Z",
     "shell.execute_reply": "2023-11-04T08:43:45.302414Z"
    },
    "papermill": {
     "duration": 0.536367,
     "end_time": "2023-11-04T08:43:45.305318",
     "exception": false,
     "start_time": "2023-11-04T08:43:44.768951",
     "status": "completed"
    },
    "tags": []
   },
   "outputs": [],
   "source": [
    "import pandas as pd"
   ]
  },
  {
   "cell_type": "code",
   "execution_count": 2,
   "id": "a13b5da1",
   "metadata": {
    "execution": {
     "iopub.execute_input": "2023-11-04T08:43:45.311336Z",
     "iopub.status.busy": "2023-11-04T08:43:45.310991Z",
     "iopub.status.idle": "2023-11-04T08:43:45.368707Z",
     "shell.execute_reply": "2023-11-04T08:43:45.367730Z"
    },
    "papermill": {
     "duration": 0.064092,
     "end_time": "2023-11-04T08:43:45.371400",
     "exception": false,
     "start_time": "2023-11-04T08:43:45.307308",
     "status": "completed"
    },
    "tags": []
   },
   "outputs": [
    {
     "data": {
      "text/html": [
       "<div>\n",
       "<style scoped>\n",
       "    .dataframe tbody tr th:only-of-type {\n",
       "        vertical-align: middle;\n",
       "    }\n",
       "\n",
       "    .dataframe tbody tr th {\n",
       "        vertical-align: top;\n",
       "    }\n",
       "\n",
       "    .dataframe thead th {\n",
       "        text-align: right;\n",
       "    }\n",
       "</style>\n",
       "<table border=\"1\" class=\"dataframe\">\n",
       "  <thead>\n",
       "    <tr style=\"text-align: right;\">\n",
       "      <th></th>\n",
       "      <th>date</th>\n",
       "      <th>time</th>\n",
       "      <th>id</th>\n",
       "      <th>reviewer name</th>\n",
       "      <th>reviewer address</th>\n",
       "      <th>contact number</th>\n",
       "      <th>variation</th>\n",
       "      <th>verified_reviews</th>\n",
       "      <th>rating</th>\n",
       "      <th>feedback</th>\n",
       "    </tr>\n",
       "  </thead>\n",
       "  <tbody>\n",
       "    <tr>\n",
       "      <th>0</th>\n",
       "      <td>30-Jul-18</td>\n",
       "      <td>02:16:00</td>\n",
       "      <td>5138527</td>\n",
       "      <td>Theresa Diaz</td>\n",
       "      <td>2373 Long Mews\\nSouth Lorraine, FL 83715</td>\n",
       "      <td>7445448464</td>\n",
       "      <td>Black  Plus</td>\n",
       "      <td>Love my new Echo Plus</td>\n",
       "      <td>5</td>\n",
       "      <td>1</td>\n",
       "    </tr>\n",
       "    <tr>\n",
       "      <th>1</th>\n",
       "      <td>30-Jul-18</td>\n",
       "      <td>20:13:24</td>\n",
       "      <td>7881409</td>\n",
       "      <td>Michael Wagner</td>\n",
       "      <td>34120 James Well Apt. 930\\nSouth Kenneth, AK 5...</td>\n",
       "      <td>(202)233-6662</td>\n",
       "      <td>Configuration: Fire TV Stick</td>\n",
       "      <td>Works really well.</td>\n",
       "      <td>5</td>\n",
       "      <td>1</td>\n",
       "    </tr>\n",
       "    <tr>\n",
       "      <th>2</th>\n",
       "      <td>29-Jul-18</td>\n",
       "      <td>03:20:48</td>\n",
       "      <td>5658396</td>\n",
       "      <td>Erin Rodriguez</td>\n",
       "      <td>7996 Booth Mission\\nTaylorport, AL 13457</td>\n",
       "      <td>(219)882-0705</td>\n",
       "      <td>Black  Show</td>\n",
       "      <td>Echo Show is said to work with certain apps bu...</td>\n",
       "      <td>2</td>\n",
       "      <td>0</td>\n",
       "    </tr>\n",
       "    <tr>\n",
       "      <th>3</th>\n",
       "      <td>30-Jul-18</td>\n",
       "      <td>22:48:21</td>\n",
       "      <td>4317957</td>\n",
       "      <td>Christine Perez</td>\n",
       "      <td>USS Schaefer\\nFPO AA 86432</td>\n",
       "      <td>291-900-6087</td>\n",
       "      <td>Heather Gray Fabric</td>\n",
       "      <td>Very cool product. Speaker sounds good with my...</td>\n",
       "      <td>5</td>\n",
       "      <td>1</td>\n",
       "    </tr>\n",
       "    <tr>\n",
       "      <th>4</th>\n",
       "      <td>23-Jul-18</td>\n",
       "      <td>12:36:42</td>\n",
       "      <td>7570569</td>\n",
       "      <td>Jamie Davila</td>\n",
       "      <td>000 Kevin Cliffs Suite 674\\nBrennanview, NM 77690</td>\n",
       "      <td>9527296610</td>\n",
       "      <td>Black  Plus</td>\n",
       "      <td>So far I love it.  It was easy to set up - if ...</td>\n",
       "      <td>5</td>\n",
       "      <td>1</td>\n",
       "    </tr>\n",
       "  </tbody>\n",
       "</table>\n",
       "</div>"
      ],
      "text/plain": [
       "        date      time       id    reviewer name  \\\n",
       "0  30-Jul-18  02:16:00  5138527     Theresa Diaz   \n",
       "1  30-Jul-18  20:13:24  7881409   Michael Wagner   \n",
       "2  29-Jul-18  03:20:48  5658396   Erin Rodriguez   \n",
       "3  30-Jul-18  22:48:21  4317957  Christine Perez   \n",
       "4  23-Jul-18  12:36:42  7570569     Jamie Davila   \n",
       "\n",
       "                                    reviewer address contact number  \\\n",
       "0           2373 Long Mews\\nSouth Lorraine, FL 83715     7445448464   \n",
       "1  34120 James Well Apt. 930\\nSouth Kenneth, AK 5...  (202)233-6662   \n",
       "2           7996 Booth Mission\\nTaylorport, AL 13457  (219)882-0705   \n",
       "3                         USS Schaefer\\nFPO AA 86432   291-900-6087   \n",
       "4  000 Kevin Cliffs Suite 674\\nBrennanview, NM 77690     9527296610   \n",
       "\n",
       "                      variation  \\\n",
       "0                   Black  Plus   \n",
       "1  Configuration: Fire TV Stick   \n",
       "2                   Black  Show   \n",
       "3          Heather Gray Fabric    \n",
       "4                   Black  Plus   \n",
       "\n",
       "                                    verified_reviews  rating  feedback  \n",
       "0                              Love my new Echo Plus       5         1  \n",
       "1                                 Works really well.       5         1  \n",
       "2  Echo Show is said to work with certain apps bu...       2         0  \n",
       "3  Very cool product. Speaker sounds good with my...       5         1  \n",
       "4  So far I love it.  It was easy to set up - if ...       5         1  "
      ]
     },
     "execution_count": 2,
     "metadata": {},
     "output_type": "execute_result"
    }
   ],
   "source": [
    "train_data=pd.read_csv('/kaggle/input/anyas-gojo-revival-space-shop/train.tsv', sep='\\t')\n",
    "train_data.head()"
   ]
  },
  {
   "cell_type": "code",
   "execution_count": 3,
   "id": "c7e9159a",
   "metadata": {
    "execution": {
     "iopub.execute_input": "2023-11-04T08:43:45.376073Z",
     "iopub.status.busy": "2023-11-04T08:43:45.375837Z",
     "iopub.status.idle": "2023-11-04T08:43:45.384224Z",
     "shell.execute_reply": "2023-11-04T08:43:45.383267Z"
    },
    "papermill": {
     "duration": 0.012695,
     "end_time": "2023-11-04T08:43:45.385995",
     "exception": false,
     "start_time": "2023-11-04T08:43:45.373300",
     "status": "completed"
    },
    "tags": []
   },
   "outputs": [
    {
     "data": {
      "text/plain": [
       "date                0\n",
       "time                0\n",
       "id                  0\n",
       "reviewer name       0\n",
       "reviewer address    0\n",
       "contact number      0\n",
       "variation           0\n",
       "verified_reviews    1\n",
       "rating              0\n",
       "feedback            0\n",
       "dtype: int64"
      ]
     },
     "execution_count": 3,
     "metadata": {},
     "output_type": "execute_result"
    }
   ],
   "source": [
    "train_data.isnull().sum()"
   ]
  },
  {
   "cell_type": "code",
   "execution_count": 4,
   "id": "cabec351",
   "metadata": {
    "execution": {
     "iopub.execute_input": "2023-11-04T08:43:45.390629Z",
     "iopub.status.busy": "2023-11-04T08:43:45.390362Z",
     "iopub.status.idle": "2023-11-04T08:43:45.395375Z",
     "shell.execute_reply": "2023-11-04T08:43:45.394519Z"
    },
    "papermill": {
     "duration": 0.009228,
     "end_time": "2023-11-04T08:43:45.397114",
     "exception": false,
     "start_time": "2023-11-04T08:43:45.387886",
     "status": "completed"
    },
    "tags": []
   },
   "outputs": [],
   "source": [
    "train_data.fillna({\"verified_reviews\":\"no review\"}, inplace=True)"
   ]
  },
  {
   "cell_type": "code",
   "execution_count": null,
   "id": "8aea1dfc",
   "metadata": {
    "execution": {
     "iopub.execute_input": "2023-11-04T08:29:24.154403Z",
     "iopub.status.busy": "2023-11-04T08:29:24.153951Z",
     "iopub.status.idle": "2023-11-04T08:29:24.166481Z",
     "shell.execute_reply": "2023-11-04T08:29:24.164985Z",
     "shell.execute_reply.started": "2023-11-04T08:29:24.154366Z"
    },
    "papermill": {
     "duration": 0.001741,
     "end_time": "2023-11-04T08:43:45.400740",
     "exception": false,
     "start_time": "2023-11-04T08:43:45.398999",
     "status": "completed"
    },
    "tags": []
   },
   "outputs": [],
   "source": []
  }
 ],
 "metadata": {
  "kernelspec": {
   "display_name": "Python 3",
   "language": "python",
   "name": "python3"
  },
  "language_info": {
   "codemirror_mode": {
    "name": "ipython",
    "version": 3
   },
   "file_extension": ".py",
   "mimetype": "text/x-python",
   "name": "python",
   "nbconvert_exporter": "python",
   "pygments_lexer": "ipython3",
   "version": "3.10.12"
  },
  "papermill": {
   "default_parameters": {},
   "duration": 4.011534,
   "end_time": "2023-11-04T08:43:45.719250",
   "environment_variables": {},
   "exception": null,
   "input_path": "__notebook__.ipynb",
   "output_path": "__notebook__.ipynb",
   "parameters": {},
   "start_time": "2023-11-04T08:43:41.707716",
   "version": "2.4.0"
  }
 },
 "nbformat": 4,
 "nbformat_minor": 5
}
