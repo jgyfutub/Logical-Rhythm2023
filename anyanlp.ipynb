{
 "cells": [
  {
   "cell_type": "code",
   "execution_count": 1,
   "id": "49720943",
   "metadata": {
    "_cell_guid": "b1076dfc-b9ad-4769-8c92-a6c4dae69d19",
    "_uuid": "8f2839f25d086af736a60e9eeb907d3b93b6e0e5",
    "execution": {
     "iopub.execute_input": "2023-11-05T18:12:05.186922Z",
     "iopub.status.busy": "2023-11-05T18:12:05.185480Z",
     "iopub.status.idle": "2023-11-05T18:12:17.066590Z",
     "shell.execute_reply": "2023-11-05T18:12:17.063311Z"
    },
    "papermill": {
     "duration": 11.893299,
     "end_time": "2023-11-05T18:12:17.070022",
     "exception": false,
     "start_time": "2023-11-05T18:12:05.176723",
     "status": "completed"
    },
    "tags": []
   },
   "outputs": [],
   "source": [
    "import pandas as pd\n",
    "import numpy as np\n",
    "from tensorflow.keras.preprocessing.text import Tokenizer\n",
    "from tensorflow.keras.layers import Dense,Input,GlobalMaxPooling1D,LSTM,Embedding,Conv1D,Flatten\n",
    "from tensorflow.keras.models import Model\n",
    "from tensorflow.keras.preprocessing.sequence import pad_sequences\n",
    "import matplotlib.pyplot as plt\n",
    "import tensorflow as tf\n",
    "import seaborn as sns"
   ]
  },
  {
   "cell_type": "code",
   "execution_count": 2,
   "id": "4edd538d",
   "metadata": {
    "execution": {
     "iopub.execute_input": "2023-11-05T18:12:17.091326Z",
     "iopub.status.busy": "2023-11-05T18:12:17.090539Z",
     "iopub.status.idle": "2023-11-05T18:12:17.170009Z",
     "shell.execute_reply": "2023-11-05T18:12:17.168911Z"
    },
    "papermill": {
     "duration": 0.090592,
     "end_time": "2023-11-05T18:12:17.173108",
     "exception": false,
     "start_time": "2023-11-05T18:12:17.082516",
     "status": "completed"
    },
    "tags": []
   },
   "outputs": [
    {
     "data": {
      "text/html": [
       "<div>\n",
       "<style scoped>\n",
       "    .dataframe tbody tr th:only-of-type {\n",
       "        vertical-align: middle;\n",
       "    }\n",
       "\n",
       "    .dataframe tbody tr th {\n",
       "        vertical-align: top;\n",
       "    }\n",
       "\n",
       "    .dataframe thead th {\n",
       "        text-align: right;\n",
       "    }\n",
       "</style>\n",
       "<table border=\"1\" class=\"dataframe\">\n",
       "  <thead>\n",
       "    <tr style=\"text-align: right;\">\n",
       "      <th></th>\n",
       "      <th>date</th>\n",
       "      <th>time</th>\n",
       "      <th>id</th>\n",
       "      <th>reviewer name</th>\n",
       "      <th>reviewer address</th>\n",
       "      <th>contact number</th>\n",
       "      <th>variation</th>\n",
       "      <th>verified_reviews</th>\n",
       "      <th>sentiment</th>\n",
       "      <th>feedback</th>\n",
       "    </tr>\n",
       "  </thead>\n",
       "  <tbody>\n",
       "    <tr>\n",
       "      <th>0</th>\n",
       "      <td>30-Jul-18</td>\n",
       "      <td>02:16:00</td>\n",
       "      <td>5138527</td>\n",
       "      <td>Theresa Diaz</td>\n",
       "      <td>2373 Long Mews\\nSouth Lorraine, FL 83715</td>\n",
       "      <td>7445448464</td>\n",
       "      <td>Black  Plus</td>\n",
       "      <td>Love my new Echo Plus</td>\n",
       "      <td>5</td>\n",
       "      <td>1</td>\n",
       "    </tr>\n",
       "    <tr>\n",
       "      <th>1</th>\n",
       "      <td>30-Jul-18</td>\n",
       "      <td>20:13:24</td>\n",
       "      <td>7881409</td>\n",
       "      <td>Michael Wagner</td>\n",
       "      <td>34120 James Well Apt. 930\\nSouth Kenneth, AK 5...</td>\n",
       "      <td>(202)233-6662</td>\n",
       "      <td>Configuration: Fire TV Stick</td>\n",
       "      <td>Works really well.</td>\n",
       "      <td>5</td>\n",
       "      <td>1</td>\n",
       "    </tr>\n",
       "    <tr>\n",
       "      <th>2</th>\n",
       "      <td>29-Jul-18</td>\n",
       "      <td>03:20:48</td>\n",
       "      <td>5658396</td>\n",
       "      <td>Erin Rodriguez</td>\n",
       "      <td>7996 Booth Mission\\nTaylorport, AL 13457</td>\n",
       "      <td>(219)882-0705</td>\n",
       "      <td>Black  Show</td>\n",
       "      <td>Echo Show is said to work with certain apps bu...</td>\n",
       "      <td>2</td>\n",
       "      <td>0</td>\n",
       "    </tr>\n",
       "    <tr>\n",
       "      <th>3</th>\n",
       "      <td>30-Jul-18</td>\n",
       "      <td>22:48:21</td>\n",
       "      <td>4317957</td>\n",
       "      <td>Christine Perez</td>\n",
       "      <td>USS Schaefer\\nFPO AA 86432</td>\n",
       "      <td>291-900-6087</td>\n",
       "      <td>Heather Gray Fabric</td>\n",
       "      <td>Very cool product. Speaker sounds good with my...</td>\n",
       "      <td>5</td>\n",
       "      <td>1</td>\n",
       "    </tr>\n",
       "    <tr>\n",
       "      <th>4</th>\n",
       "      <td>23-Jul-18</td>\n",
       "      <td>12:36:42</td>\n",
       "      <td>7570569</td>\n",
       "      <td>Jamie Davila</td>\n",
       "      <td>000 Kevin Cliffs Suite 674\\nBrennanview, NM 77690</td>\n",
       "      <td>9527296610</td>\n",
       "      <td>Black  Plus</td>\n",
       "      <td>So far I love it.  It was easy to set up - if ...</td>\n",
       "      <td>5</td>\n",
       "      <td>1</td>\n",
       "    </tr>\n",
       "  </tbody>\n",
       "</table>\n",
       "</div>"
      ],
      "text/plain": [
       "        date      time       id    reviewer name  \\\n",
       "0  30-Jul-18  02:16:00  5138527     Theresa Diaz   \n",
       "1  30-Jul-18  20:13:24  7881409   Michael Wagner   \n",
       "2  29-Jul-18  03:20:48  5658396   Erin Rodriguez   \n",
       "3  30-Jul-18  22:48:21  4317957  Christine Perez   \n",
       "4  23-Jul-18  12:36:42  7570569     Jamie Davila   \n",
       "\n",
       "                                    reviewer address contact number  \\\n",
       "0           2373 Long Mews\\nSouth Lorraine, FL 83715     7445448464   \n",
       "1  34120 James Well Apt. 930\\nSouth Kenneth, AK 5...  (202)233-6662   \n",
       "2           7996 Booth Mission\\nTaylorport, AL 13457  (219)882-0705   \n",
       "3                         USS Schaefer\\nFPO AA 86432   291-900-6087   \n",
       "4  000 Kevin Cliffs Suite 674\\nBrennanview, NM 77690     9527296610   \n",
       "\n",
       "                      variation  \\\n",
       "0                   Black  Plus   \n",
       "1  Configuration: Fire TV Stick   \n",
       "2                   Black  Show   \n",
       "3          Heather Gray Fabric    \n",
       "4                   Black  Plus   \n",
       "\n",
       "                                    verified_reviews  sentiment  feedback  \n",
       "0                              Love my new Echo Plus          5         1  \n",
       "1                                 Works really well.          5         1  \n",
       "2  Echo Show is said to work with certain apps bu...          2         0  \n",
       "3  Very cool product. Speaker sounds good with my...          5         1  \n",
       "4  So far I love it.  It was easy to set up - if ...          5         1  "
      ]
     },
     "execution_count": 2,
     "metadata": {},
     "output_type": "execute_result"
    }
   ],
   "source": [
    "train_data=pd.read_csv('/kaggle/input/anyas-gojo-revival-space-shop/train.tsv', sep='\\t')\n",
    "train_data.head()"
   ]
  },
  {
   "cell_type": "code",
   "execution_count": 3,
   "id": "3af56ce0",
   "metadata": {
    "execution": {
     "iopub.execute_input": "2023-11-05T18:12:17.189206Z",
     "iopub.status.busy": "2023-11-05T18:12:17.187789Z",
     "iopub.status.idle": "2023-11-05T18:12:17.203467Z",
     "shell.execute_reply": "2023-11-05T18:12:17.202131Z"
    },
    "papermill": {
     "duration": 0.026519,
     "end_time": "2023-11-05T18:12:17.206213",
     "exception": false,
     "start_time": "2023-11-05T18:12:17.179694",
     "status": "completed"
    },
    "tags": []
   },
   "outputs": [
    {
     "data": {
      "text/plain": [
       "date                0\n",
       "time                0\n",
       "id                  0\n",
       "reviewer name       0\n",
       "reviewer address    0\n",
       "contact number      0\n",
       "variation           0\n",
       "verified_reviews    1\n",
       "sentiment           0\n",
       "feedback            0\n",
       "dtype: int64"
      ]
     },
     "execution_count": 3,
     "metadata": {},
     "output_type": "execute_result"
    }
   ],
   "source": [
    "train_data.isnull().sum()"
   ]
  },
  {
   "cell_type": "code",
   "execution_count": 4,
   "id": "b34c7c3c",
   "metadata": {
    "execution": {
     "iopub.execute_input": "2023-11-05T18:12:17.222081Z",
     "iopub.status.busy": "2023-11-05T18:12:17.221572Z",
     "iopub.status.idle": "2023-11-05T18:12:17.228880Z",
     "shell.execute_reply": "2023-11-05T18:12:17.227792Z"
    },
    "papermill": {
     "duration": 0.018359,
     "end_time": "2023-11-05T18:12:17.231519",
     "exception": false,
     "start_time": "2023-11-05T18:12:17.213160",
     "status": "completed"
    },
    "tags": []
   },
   "outputs": [],
   "source": [
    "train_data.fillna({\"verified_reviews\":\"no review\"}, inplace=True)"
   ]
  },
  {
   "cell_type": "code",
   "execution_count": 5,
   "id": "7cbaca87",
   "metadata": {
    "execution": {
     "iopub.execute_input": "2023-11-05T18:12:17.246814Z",
     "iopub.status.busy": "2023-11-05T18:12:17.246173Z",
     "iopub.status.idle": "2023-11-05T18:12:17.251259Z",
     "shell.execute_reply": "2023-11-05T18:12:17.250327Z"
    },
    "papermill": {
     "duration": 0.015353,
     "end_time": "2023-11-05T18:12:17.253522",
     "exception": false,
     "start_time": "2023-11-05T18:12:17.238169",
     "status": "completed"
    },
    "tags": []
   },
   "outputs": [],
   "source": [
    "y=train_data['sentiment']\n",
    "y = tf.keras.utils.to_categorical(y, num_classes=6)\n",
    "x=train_data['verified_reviews']"
   ]
  },
  {
   "cell_type": "code",
   "execution_count": 6,
   "id": "60a93365",
   "metadata": {
    "execution": {
     "iopub.execute_input": "2023-11-05T18:12:17.268562Z",
     "iopub.status.busy": "2023-11-05T18:12:17.268174Z",
     "iopub.status.idle": "2023-11-05T18:12:17.334399Z",
     "shell.execute_reply": "2023-11-05T18:12:17.333244Z"
    },
    "papermill": {
     "duration": 0.077273,
     "end_time": "2023-11-05T18:12:17.337507",
     "exception": false,
     "start_time": "2023-11-05T18:12:17.260234",
     "status": "completed"
    },
    "tags": []
   },
   "outputs": [],
   "source": [
    "def remove_punctuation(text):\n",
    "    # Replace punctuation with a space\n",
    "    cleaned_text = ''.join([char if char.isalnum() or char.isspace() else ' ' for char in text])\n",
    "    return cleaned_text\n",
    "\n",
    "cleaned_data = [remove_punctuation(text) for text in x]"
   ]
  },
  {
   "cell_type": "code",
   "execution_count": 7,
   "id": "0d8da339",
   "metadata": {
    "execution": {
     "iopub.execute_input": "2023-11-05T18:12:17.353428Z",
     "iopub.status.busy": "2023-11-05T18:12:17.352710Z",
     "iopub.status.idle": "2023-11-05T18:12:17.515853Z",
     "shell.execute_reply": "2023-11-05T18:12:17.514630Z"
    },
    "papermill": {
     "duration": 0.174409,
     "end_time": "2023-11-05T18:12:17.518836",
     "exception": false,
     "start_time": "2023-11-05T18:12:17.344427",
     "status": "completed"
    },
    "tags": []
   },
   "outputs": [],
   "source": [
    "max_vocab_size=20000\n",
    "tokenizer=Tokenizer(num_words=max_vocab_size)\n",
    "tokenizer.fit_on_texts(cleaned_data)\n",
    "sequence_train=tokenizer.texts_to_sequences(cleaned_data)"
   ]
  },
  {
   "cell_type": "code",
   "execution_count": 8,
   "id": "36d08d20",
   "metadata": {
    "execution": {
     "iopub.execute_input": "2023-11-05T18:12:17.534859Z",
     "iopub.status.busy": "2023-11-05T18:12:17.534222Z",
     "iopub.status.idle": "2023-11-05T18:12:17.539088Z",
     "shell.execute_reply": "2023-11-05T18:12:17.538066Z"
    },
    "papermill": {
     "duration": 0.015714,
     "end_time": "2023-11-05T18:12:17.541738",
     "exception": false,
     "start_time": "2023-11-05T18:12:17.526024",
     "status": "completed"
    },
    "tags": []
   },
   "outputs": [],
   "source": [
    "V=len(tokenizer.word_index)"
   ]
  },
  {
   "cell_type": "code",
   "execution_count": 9,
   "id": "a117b592",
   "metadata": {
    "execution": {
     "iopub.execute_input": "2023-11-05T18:12:17.557221Z",
     "iopub.status.busy": "2023-11-05T18:12:17.556882Z",
     "iopub.status.idle": "2023-11-05T18:12:17.583756Z",
     "shell.execute_reply": "2023-11-05T18:12:17.582284Z"
    },
    "papermill": {
     "duration": 0.038276,
     "end_time": "2023-11-05T18:12:17.586889",
     "exception": false,
     "start_time": "2023-11-05T18:12:17.548613",
     "status": "completed"
    },
    "tags": []
   },
   "outputs": [
    {
     "name": "stdout",
     "output_type": "stream",
     "text": [
      "557\n"
     ]
    }
   ],
   "source": [
    "data_train=pad_sequences(sequence_train)\n",
    "T=data_train.shape[1]\n",
    "print(T)"
   ]
  },
  {
   "cell_type": "code",
   "execution_count": 10,
   "id": "eb5f83d5",
   "metadata": {
    "execution": {
     "iopub.execute_input": "2023-11-05T18:12:17.602673Z",
     "iopub.status.busy": "2023-11-05T18:12:17.602317Z",
     "iopub.status.idle": "2023-11-05T18:12:17.832349Z",
     "shell.execute_reply": "2023-11-05T18:12:17.831122Z"
    },
    "papermill": {
     "duration": 0.241148,
     "end_time": "2023-11-05T18:12:17.835117",
     "exception": false,
     "start_time": "2023-11-05T18:12:17.593969",
     "status": "completed"
    },
    "tags": []
   },
   "outputs": [],
   "source": [
    "D,M=20,15\n",
    "i=Input(shape=(557,))\n",
    "x=Embedding(V+1,120)(i)\n",
    "# x=Conv1D(32,3,activation='relu')(x)\n",
    "# x=Conv1D(64,3,activation='relu')(x)\n",
    "# x=Conv1D(128,3,activation='relu')(x)\n",
    "# x=Flatten()(x)\n",
    "x=Dense(6,activation='sigmoid')(x)\n",
    "\n",
    "model=Model(i,x)"
   ]
  },
  {
   "cell_type": "code",
   "execution_count": 11,
   "id": "1a2a7fbc",
   "metadata": {
    "execution": {
     "iopub.execute_input": "2023-11-05T18:12:17.850956Z",
     "iopub.status.busy": "2023-11-05T18:12:17.850512Z",
     "iopub.status.idle": "2023-11-05T18:12:17.870233Z",
     "shell.execute_reply": "2023-11-05T18:12:17.869343Z"
    },
    "papermill": {
     "duration": 0.030602,
     "end_time": "2023-11-05T18:12:17.872761",
     "exception": false,
     "start_time": "2023-11-05T18:12:17.842159",
     "status": "completed"
    },
    "tags": []
   },
   "outputs": [],
   "source": [
    "model.compile(loss='sparse_categorical_crossentropy',optimizer='adam',metrics=['accuracy'])\n",
    "# model.fit(data_train,y,epochs=10)"
   ]
  },
  {
   "cell_type": "code",
   "execution_count": 12,
   "id": "179559f4",
   "metadata": {
    "execution": {
     "iopub.execute_input": "2023-11-05T18:12:17.889076Z",
     "iopub.status.busy": "2023-11-05T18:12:17.887882Z",
     "iopub.status.idle": "2023-11-05T18:12:18.274626Z",
     "shell.execute_reply": "2023-11-05T18:12:18.273453Z"
    },
    "papermill": {
     "duration": 0.397921,
     "end_time": "2023-11-05T18:12:18.277656",
     "exception": false,
     "start_time": "2023-11-05T18:12:17.879735",
     "status": "completed"
    },
    "tags": []
   },
   "outputs": [],
   "source": [
    "from sklearn.feature_extraction.text import TfidfVectorizer\n",
    "from sklearn.svm import LinearSVC\n",
    "\n",
    "tfidf=TfidfVectorizer(max_features=20000,ngram_range=(1,3),analyzer='char')"
   ]
  },
  {
   "cell_type": "code",
   "execution_count": 13,
   "id": "5241e2ba",
   "metadata": {
    "execution": {
     "iopub.execute_input": "2023-11-05T18:12:18.294610Z",
     "iopub.status.busy": "2023-11-05T18:12:18.294198Z",
     "iopub.status.idle": "2023-11-05T18:12:19.012080Z",
     "shell.execute_reply": "2023-11-05T18:12:19.010514Z"
    },
    "papermill": {
     "duration": 0.730182,
     "end_time": "2023-11-05T18:12:19.015032",
     "exception": false,
     "start_time": "2023-11-05T18:12:18.284850",
     "status": "completed"
    },
    "tags": []
   },
   "outputs": [],
   "source": [
    "x1=tfidf.fit_transform(cleaned_data)\n",
    "y1=train_data['sentiment']"
   ]
  },
  {
   "cell_type": "code",
   "execution_count": 14,
   "id": "e6ad9282",
   "metadata": {
    "execution": {
     "iopub.execute_input": "2023-11-05T18:12:19.030625Z",
     "iopub.status.busy": "2023-11-05T18:12:19.030217Z",
     "iopub.status.idle": "2023-11-05T18:12:22.093441Z",
     "shell.execute_reply": "2023-11-05T18:12:22.092264Z"
    },
    "papermill": {
     "duration": 3.074132,
     "end_time": "2023-11-05T18:12:22.096073",
     "exception": false,
     "start_time": "2023-11-05T18:12:19.021941",
     "status": "completed"
    },
    "tags": []
   },
   "outputs": [
    {
     "name": "stderr",
     "output_type": "stream",
     "text": [
      "/opt/conda/lib/python3.10/site-packages/sklearn/svm/_base.py:1244: ConvergenceWarning: Liblinear failed to converge, increase the number of iterations.\n",
      "  warnings.warn(\n"
     ]
    },
    {
     "data": {
      "text/html": [
       "<style>#sk-container-id-1 {color: black;background-color: white;}#sk-container-id-1 pre{padding: 0;}#sk-container-id-1 div.sk-toggleable {background-color: white;}#sk-container-id-1 label.sk-toggleable__label {cursor: pointer;display: block;width: 100%;margin-bottom: 0;padding: 0.3em;box-sizing: border-box;text-align: center;}#sk-container-id-1 label.sk-toggleable__label-arrow:before {content: \"▸\";float: left;margin-right: 0.25em;color: #696969;}#sk-container-id-1 label.sk-toggleable__label-arrow:hover:before {color: black;}#sk-container-id-1 div.sk-estimator:hover label.sk-toggleable__label-arrow:before {color: black;}#sk-container-id-1 div.sk-toggleable__content {max-height: 0;max-width: 0;overflow: hidden;text-align: left;background-color: #f0f8ff;}#sk-container-id-1 div.sk-toggleable__content pre {margin: 0.2em;color: black;border-radius: 0.25em;background-color: #f0f8ff;}#sk-container-id-1 input.sk-toggleable__control:checked~div.sk-toggleable__content {max-height: 200px;max-width: 100%;overflow: auto;}#sk-container-id-1 input.sk-toggleable__control:checked~label.sk-toggleable__label-arrow:before {content: \"▾\";}#sk-container-id-1 div.sk-estimator input.sk-toggleable__control:checked~label.sk-toggleable__label {background-color: #d4ebff;}#sk-container-id-1 div.sk-label input.sk-toggleable__control:checked~label.sk-toggleable__label {background-color: #d4ebff;}#sk-container-id-1 input.sk-hidden--visually {border: 0;clip: rect(1px 1px 1px 1px);clip: rect(1px, 1px, 1px, 1px);height: 1px;margin: -1px;overflow: hidden;padding: 0;position: absolute;width: 1px;}#sk-container-id-1 div.sk-estimator {font-family: monospace;background-color: #f0f8ff;border: 1px dotted black;border-radius: 0.25em;box-sizing: border-box;margin-bottom: 0.5em;}#sk-container-id-1 div.sk-estimator:hover {background-color: #d4ebff;}#sk-container-id-1 div.sk-parallel-item::after {content: \"\";width: 100%;border-bottom: 1px solid gray;flex-grow: 1;}#sk-container-id-1 div.sk-label:hover label.sk-toggleable__label {background-color: #d4ebff;}#sk-container-id-1 div.sk-serial::before {content: \"\";position: absolute;border-left: 1px solid gray;box-sizing: border-box;top: 0;bottom: 0;left: 50%;z-index: 0;}#sk-container-id-1 div.sk-serial {display: flex;flex-direction: column;align-items: center;background-color: white;padding-right: 0.2em;padding-left: 0.2em;position: relative;}#sk-container-id-1 div.sk-item {position: relative;z-index: 1;}#sk-container-id-1 div.sk-parallel {display: flex;align-items: stretch;justify-content: center;background-color: white;position: relative;}#sk-container-id-1 div.sk-item::before, #sk-container-id-1 div.sk-parallel-item::before {content: \"\";position: absolute;border-left: 1px solid gray;box-sizing: border-box;top: 0;bottom: 0;left: 50%;z-index: -1;}#sk-container-id-1 div.sk-parallel-item {display: flex;flex-direction: column;z-index: 1;position: relative;background-color: white;}#sk-container-id-1 div.sk-parallel-item:first-child::after {align-self: flex-end;width: 50%;}#sk-container-id-1 div.sk-parallel-item:last-child::after {align-self: flex-start;width: 50%;}#sk-container-id-1 div.sk-parallel-item:only-child::after {width: 0;}#sk-container-id-1 div.sk-dashed-wrapped {border: 1px dashed gray;margin: 0 0.4em 0.5em 0.4em;box-sizing: border-box;padding-bottom: 0.4em;background-color: white;}#sk-container-id-1 div.sk-label label {font-family: monospace;font-weight: bold;display: inline-block;line-height: 1.2em;}#sk-container-id-1 div.sk-label-container {text-align: center;}#sk-container-id-1 div.sk-container {/* jupyter's `normalize.less` sets `[hidden] { display: none; }` but bootstrap.min.css set `[hidden] { display: none !important; }` so we also need the `!important` here to be able to override the default hidden behavior on the sphinx rendered scikit-learn.org. See: https://github.com/scikit-learn/scikit-learn/issues/21755 */display: inline-block !important;position: relative;}#sk-container-id-1 div.sk-text-repr-fallback {display: none;}</style><div id=\"sk-container-id-1\" class=\"sk-top-container\"><div class=\"sk-text-repr-fallback\"><pre>LinearSVC(C=10, class_weight=&#x27;balanced&#x27;)</pre><b>In a Jupyter environment, please rerun this cell to show the HTML representation or trust the notebook. <br />On GitHub, the HTML representation is unable to render, please try loading this page with nbviewer.org.</b></div><div class=\"sk-container\" hidden><div class=\"sk-item\"><div class=\"sk-estimator sk-toggleable\"><input class=\"sk-toggleable__control sk-hidden--visually\" id=\"sk-estimator-id-1\" type=\"checkbox\" checked><label for=\"sk-estimator-id-1\" class=\"sk-toggleable__label sk-toggleable__label-arrow\">LinearSVC</label><div class=\"sk-toggleable__content\"><pre>LinearSVC(C=10, class_weight=&#x27;balanced&#x27;)</pre></div></div></div></div></div>"
      ],
      "text/plain": [
       "LinearSVC(C=10, class_weight='balanced')"
      ]
     },
     "execution_count": 14,
     "metadata": {},
     "output_type": "execute_result"
    }
   ],
   "source": [
    "clf=LinearSVC(C=10,class_weight='balanced')\n",
    "clf.fit(x1,y1)"
   ]
  },
  {
   "cell_type": "code",
   "execution_count": 15,
   "id": "b534b6c1",
   "metadata": {
    "execution": {
     "iopub.execute_input": "2023-11-05T18:12:22.112772Z",
     "iopub.status.busy": "2023-11-05T18:12:22.112340Z",
     "iopub.status.idle": "2023-11-05T18:12:22.356816Z",
     "shell.execute_reply": "2023-11-05T18:12:22.355460Z"
    },
    "papermill": {
     "duration": 0.256487,
     "end_time": "2023-11-05T18:12:22.359919",
     "exception": false,
     "start_time": "2023-11-05T18:12:22.103432",
     "status": "completed"
    },
    "tags": []
   },
   "outputs": [],
   "source": [
    "test_data=pd.read_csv('/kaggle/input/anyas-gojo-revival-space-shop/test.tsv', sep='\\t')\n",
    "cleaned_test_data = [remove_punctuation(text) for text in test_data['verified_reviews']]\n",
    "test_data1=tfidf.transform(cleaned_test_data)"
   ]
  },
  {
   "cell_type": "code",
   "execution_count": 16,
   "id": "bbd395cd",
   "metadata": {
    "execution": {
     "iopub.execute_input": "2023-11-05T18:12:22.377413Z",
     "iopub.status.busy": "2023-11-05T18:12:22.376925Z",
     "iopub.status.idle": "2023-11-05T18:12:22.386865Z",
     "shell.execute_reply": "2023-11-05T18:12:22.385729Z"
    },
    "papermill": {
     "duration": 0.02209,
     "end_time": "2023-11-05T18:12:22.389427",
     "exception": false,
     "start_time": "2023-11-05T18:12:22.367337",
     "status": "completed"
    },
    "tags": []
   },
   "outputs": [
    {
     "name": "stdout",
     "output_type": "stream",
     "text": [
      "[5 5 1 4 5 5 5 5 1 5 1 5 4 4 5 5 5 5 5 5 5 5 5 5 5 5 4 5 5 1 5 4 5 5 5 5 5\n",
      " 5 5 5 5 4 5 5 1 5 5 4 5 5 1 5 5 1 5 5 5 5 1 5 5 5 4 5 4 5 5 4 4 5 4 5 5 5\n",
      " 5 2 5 5 5 5 5 5 5 5 4 5 3 5 5 5 5 1 5 5 5 4 5 5 5 5 5 4 1 4 4 5 2 5 5 4 5\n",
      " 5 5 5 5 5 4 5 5 5 5 4 5 5 3 5 5 1 5 5 4 5 5 5 5 5 4 4 4 5 5 5 5 5 5 5 5 5\n",
      " 5 3 5 5 4 5 5 5 5 4 5 5 5 5 5 4 5 5 5 5 5 4 5 5 5 5 4 5 5 1 5 5 5 5 5 1 5\n",
      " 2 5 5 4 4 5 5 5 5 5 5 1 5 5 5 5 5 5 4 5 5 5 1 2 5 2 4 5 5 5 5 5 1 5 5 5 5\n",
      " 4 5 5 5 5 5 2 5 5 5 4 5 5 5 5 5 5 1 5 5 5 5 3 5 5 4 5 4 1 5 4 5 5 5 5 5 5\n",
      " 5 4 3 5 3 5 2 5 5 5 5 5 4 5 4 5 5 5 5 3 1 4 5 3 5 5 5 5 5 5 4 4 5 5 5 5 5\n",
      " 5 5 5 5 5 5 2 5 5 1 5 4 1 5 5 5 5 1 1 5 5 5 5 5 4 5 5 5 5 5 5 5 5 3 5 5 5\n",
      " 5 5 5 5 4 5 5 5 5 5 5 4 5 5 5 5 5 5 5 5 5 5 4 1 5 5 4 4 4 4 5 5 4 5 5 5 4\n",
      " 5 5 5 4 5 5 5 5 5 4 4 5 5 5 5 5 5 1 4 3 5 5 5 5 2 5 5 5 1 5 5 3 5 5 4 5 5\n",
      " 5 4 5 5 3 5 5 5 5 4 5 4 5 4 5 5 5 5 5 5 5 5 5 5 5 5 5 5 5 5 5 5 5 5 2 3 5\n",
      " 5 5 5 4 5 5 5 5 5 5 4 5 5 5 5 5 5 5 5 3 5 5 1 5 4 5 5 5 5 5 5 5 5 1 5 5 5\n",
      " 5 5 5 3 5 5 5 5 4 2 4 5 3 5 3 5 5 5 4 4 5 4 5 5 5 5 5 5 2 5 1 1 5 4 5 5 5\n",
      " 5 4 5 1 5 1 5 5 5 5 5 5 4 5 5 5 5 5 5 1 1 5 4 5 4 4 5 2 5 5 5 5 1 5 5 5 5\n",
      " 5 5 4 5 1 4 5 5 5 5 5 5 2 5 5 2 5 5 5 5 4 5 5 5 4 5 3 5 5 5 5 4 5 5 5 3 5\n",
      " 5 5 5 5 4 4 5 5 5 5 5 5 5 1 4 5 4 5 5 5 1 5 5 5 5 4 3 1 5 4 5 5 3 5 5 5 5\n",
      " 5]\n"
     ]
    }
   ],
   "source": [
    "arr=clf.predict(test_data1)\n",
    "print(arr)"
   ]
  },
  {
   "cell_type": "code",
   "execution_count": 17,
   "id": "b3357480",
   "metadata": {
    "execution": {
     "iopub.execute_input": "2023-11-05T18:12:22.405994Z",
     "iopub.status.busy": "2023-11-05T18:12:22.405547Z",
     "iopub.status.idle": "2023-11-05T18:12:22.417485Z",
     "shell.execute_reply": "2023-11-05T18:12:22.416395Z"
    },
    "papermill": {
     "duration": 0.023045,
     "end_time": "2023-11-05T18:12:22.419913",
     "exception": false,
     "start_time": "2023-11-05T18:12:22.396868",
     "status": "completed"
    },
    "tags": []
   },
   "outputs": [],
   "source": [
    "submission=pd.DataFrame({\"id\":test_data['id'],\"sentiment\":arr})\n",
    "submission.to_csv(\"submission.csv\", index=False)"
   ]
  }
 ],
 "metadata": {
  "kernelspec": {
   "display_name": "Python 3",
   "language": "python",
   "name": "python3"
  },
  "language_info": {
   "codemirror_mode": {
    "name": "ipython",
    "version": 3
   },
   "file_extension": ".py",
   "mimetype": "text/x-python",
   "name": "python",
   "nbconvert_exporter": "python",
   "pygments_lexer": "ipython3",
   "version": "3.10.12"
  },
  "papermill": {
   "default_parameters": {},
   "duration": 23.518517,
   "end_time": "2023-11-05T18:12:24.929317",
   "environment_variables": {},
   "exception": null,
   "input_path": "__notebook__.ipynb",
   "output_path": "__notebook__.ipynb",
   "parameters": {},
   "start_time": "2023-11-05T18:12:01.410800",
   "version": "2.4.0"
  }
 },
 "nbformat": 4,
 "nbformat_minor": 5
}
